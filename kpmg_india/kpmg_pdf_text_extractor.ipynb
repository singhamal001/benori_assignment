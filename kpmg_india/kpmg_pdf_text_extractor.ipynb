{
 "cells": [
  {
   "cell_type": "markdown",
   "metadata": {},
   "source": [
    "# Documentation"
   ]
  },
  {
   "cell_type": "markdown",
   "metadata": {},
   "source": [
    "## Overview\n",
    "This document describes a Python script that extracts text from PDF files and saves the extracted text into .txt files.\n",
    "\n",
    "### Script Functionality\n",
    "- Reads PDF files from the `pdf` folder.\n",
    "- Extracts text using the PyMuPDF library (`fitz`).\n",
    "- Saves the extracted text into a separate .txt file for each PDF in the `txt` folder.\n",
    "\n",
    "## Dependencies\n",
    "- Python\n",
    "- os\n",
    "- fitz (PyMuPDF)\n",
    "\n",
    "## Code Explanation\n",
    "\n",
    "### Function Descriptions\n",
    "\n",
    "1. **extract_text_from_pdf(pdf_path)**\n",
    "   - Extracts text from a PDF file using PyMuPDF.\n",
    "   - Iterates through each page to collect text.\n",
    "   - Handles exceptions if extraction fails.\n",
    "\n",
    "2. **save_text_to_file(text, txt_path)**\n",
    "   - Saves the extracted text into a .txt file.\n",
    "   - Ensures text encoding is UTF-8 to handle special characters.\n",
    "\n",
    "3. **convert_all_pdfs_to_txt(pdf_folder, output_folder)**\n",
    "   - Iterates through all PDF files in the input folder.\n",
    "   - Calls `extract_text_from_pdf()` for each PDF.\n",
    "   - Saves the extracted text using `save_text_to_file()`.\n",
    "   - Creates the output folder if it doesn’t exist.\n",
    "\n",
    "4. **Main Script Logic**\n",
    "   - Calls `convert_all_pdfs_to_txt()` with `pdf` as the input folder and `txt` as the output folder.\n",
    "\n",
    "### Brief Explanation\n",
    "This script automates the extraction of text from PDFs saved in the `pdf` folder and exports them as .txt files in the `txt` folder, using PyMuPDF for reliable text extraction.\n"
   ]
  },
  {
   "cell_type": "markdown",
   "metadata": {},
   "source": [
    "# Code"
   ]
  },
  {
   "cell_type": "code",
   "execution_count": null,
   "metadata": {},
   "outputs": [
    {
     "name": "stdout",
     "output_type": "stream",
     "text": [
      "Processing pdf\\KPMG_2025-02-06_KPMG global tech report 2024.pdf ...\n",
      "Extracted text saved to txt\\KPMG_2025-02-06_KPMG global tech report 2024.txt\n",
      "Processing pdf\\KPMG_2025-02-07_KPMG global tech report energy insights.pdf ...\n",
      "Extracted text saved to txt\\KPMG_2025-02-07_KPMG global tech report energy insights.txt\n",
      "Processing pdf\\KPMG_2025-02-07_KPMG global tech report Technology insights.pdf ...\n",
      "Extracted text saved to txt\\KPMG_2025-02-07_KPMG global tech report Technology insights.txt\n",
      "Processing pdf\\KPMG_2025-02-07_KPMG global tech report – industrial manufacturing insights.pdf ...\n",
      "Extracted text saved to txt\\KPMG_2025-02-07_KPMG global tech report – industrial manufacturing insights.txt\n",
      "Processing pdf\\KPMG_2025-02-20_Food and Nutritional Security in India.pdf ...\n",
      "Extracted text saved to txt\\KPMG_2025-02-20_Food and Nutritional Security in India.txt\n",
      "Processing pdf\\KPMG_2025-02-28_Issue no. 103  February 2025.pdf ...\n",
      "Extracted text saved to txt\\KPMG_2025-02-28_Issue no. 103  February 2025.txt\n"
     ]
    }
   ],
   "source": [
    "import os\n",
    "import fitz  # PyMuPDF\n",
    "\n",
    "def extract_text_from_pdf(pdf_path):\n",
    "    \"\"\"\n",
    "    Extracts text from a PDF file using PyMuPDF and returns it as a string.\n",
    "    \n",
    "    Parameters:\n",
    "    - pdf_path (str): The path to the PDF file.\n",
    "    \n",
    "    Returns:\n",
    "    - str: The extracted text.\n",
    "    \"\"\"\n",
    "    text = \"\"\n",
    "    try:\n",
    "        doc = fitz.open(pdf_path)\n",
    "\n",
    "        for page in doc:\n",
    "            text += page.get_text()\n",
    "    except Exception as e:\n",
    "        print(f\"Error extracting text from {pdf_path}: {e}\")\n",
    "    return text\n",
    "\n",
    "def save_text_to_file(text, txt_path):\n",
    "    \"\"\"\n",
    "    Saves the provided text into a .txt file.\n",
    "    \n",
    "    Parameters:\n",
    "    - text (str): The text to save.\n",
    "    - txt_path (str): The file path where the text will be saved.\n",
    "    \"\"\"\n",
    "    with open(txt_path, \"w\", encoding=\"utf-8\") as f:\n",
    "        f.write(text)\n",
    "\n",
    "def convert_all_pdfs_to_txt(pdf_folder, output_folder):\n",
    "    \"\"\"\n",
    "    Iterates over all PDF files in the specified folder, extracts text from each,\n",
    "    and saves the text into separate .txt files in the output folder.\n",
    "    \n",
    "    The text file will have the same base name as the original PDF.\n",
    "    \n",
    "    Parameters:\n",
    "    - pdf_folder (str): The folder containing PDF files.\n",
    "    - output_folder (str): The folder where the .txt files will be saved.\n",
    "    \"\"\"\n",
    "    os.makedirs(output_folder, exist_ok=True)\n",
    "    for filename in os.listdir(pdf_folder):\n",
    "        if filename.lower().endswith(\".pdf\"):\n",
    "            pdf_path = os.path.join(pdf_folder, filename)\n",
    "            print(f\"Processing {pdf_path} ...\")\n",
    "            text = extract_text_from_pdf(pdf_path)\n",
    "            if text:\n",
    "                base_name = os.path.splitext(filename)[0]\n",
    "                txt_filename = base_name + \".txt\"\n",
    "                txt_path = os.path.join(output_folder, txt_filename)\n",
    "                save_text_to_file(text, txt_path)\n",
    "                print(f\"Extracted text saved to {txt_path}\")\n",
    "            else:\n",
    "                print(f\"No text extracted from {pdf_path}\")\n",
    "\n",
    "if __name__ == \"__main__\":\n",
    "    convert_all_pdfs_to_txt(\"pdf\", \"txt\")\n"
   ]
  },
  {
   "cell_type": "code",
   "execution_count": null,
   "metadata": {},
   "outputs": [],
   "source": []
  }
 ],
 "metadata": {
  "kernelspec": {
   "display_name": "groq_env",
   "language": "python",
   "name": "python3"
  },
  "language_info": {
   "codemirror_mode": {
    "name": "ipython",
    "version": 3
   },
   "file_extension": ".py",
   "mimetype": "text/x-python",
   "name": "python",
   "nbconvert_exporter": "python",
   "pygments_lexer": "ipython3",
   "version": "3.11.11"
  }
 },
 "nbformat": 4,
 "nbformat_minor": 2
}
