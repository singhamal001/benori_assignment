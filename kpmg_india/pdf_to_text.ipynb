{
 "cells": [
  {
   "cell_type": "code",
   "execution_count": 8,
   "metadata": {},
   "outputs": [
    {
     "name": "stdout",
     "output_type": "stream",
     "text": [
      "Processing pdf\\KPMG_2025-02-06_KPMG global tech report 2024.pdf ...\n",
      "Extracted text saved to txt\\KPMG_2025-02-06_KPMG global tech report 2024.txt\n",
      "Processing pdf\\KPMG_2025-02-07_KPMG global tech report energy insights.pdf ...\n",
      "Extracted text saved to txt\\KPMG_2025-02-07_KPMG global tech report energy insights.txt\n",
      "Processing pdf\\KPMG_2025-02-07_KPMG global tech report Technology insights.pdf ...\n",
      "Extracted text saved to txt\\KPMG_2025-02-07_KPMG global tech report Technology insights.txt\n",
      "Processing pdf\\KPMG_2025-02-07_KPMG global tech report – industrial manufacturing insights.pdf ...\n",
      "Extracted text saved to txt\\KPMG_2025-02-07_KPMG global tech report – industrial manufacturing insights.txt\n",
      "Processing pdf\\KPMG_2025-02-20_Food and Nutritional Security in India.pdf ...\n",
      "Extracted text saved to txt\\KPMG_2025-02-20_Food and Nutritional Security in India.txt\n",
      "Processing pdf\\KPMG_2025-02-28_Issue no. 103  February 2025.pdf ...\n",
      "Extracted text saved to txt\\KPMG_2025-02-28_Issue no. 103  February 2025.txt\n"
     ]
    }
   ],
   "source": [
    "import os\n",
    "import fitz  # PyMuPDF\n",
    "\n",
    "def extract_text_from_pdf(pdf_path):\n",
    "    \"\"\"\n",
    "    Extracts text from a PDF file using PyMuPDF and returns it as a string.\n",
    "    \n",
    "    Parameters:\n",
    "    - pdf_path (str): The path to the PDF file.\n",
    "    \n",
    "    Returns:\n",
    "    - str: The extracted text.\n",
    "    \"\"\"\n",
    "    text = \"\"\n",
    "    try:\n",
    "        # Open the PDF document\n",
    "        doc = fitz.open(pdf_path)\n",
    "        # Iterate through each page and append its text\n",
    "        for page in doc:\n",
    "            text += page.get_text()\n",
    "    except Exception as e:\n",
    "        print(f\"Error extracting text from {pdf_path}: {e}\")\n",
    "    return text\n",
    "\n",
    "def save_text_to_file(text, txt_path):\n",
    "    \"\"\"\n",
    "    Saves the provided text into a .txt file.\n",
    "    \n",
    "    Parameters:\n",
    "    - text (str): The text to save.\n",
    "    - txt_path (str): The file path where the text will be saved.\n",
    "    \"\"\"\n",
    "    with open(txt_path, \"w\", encoding=\"utf-8\") as f:\n",
    "        f.write(text)\n",
    "\n",
    "def convert_all_pdfs_to_txt(pdf_folder, output_folder):\n",
    "    \"\"\"\n",
    "    Iterates over all PDF files in the specified folder, extracts text from each,\n",
    "    and saves the text into separate .txt files in the output folder.\n",
    "    \n",
    "    The text file will have the same base name as the original PDF.\n",
    "    \n",
    "    Parameters:\n",
    "    - pdf_folder (str): The folder containing PDF files.\n",
    "    - output_folder (str): The folder where the .txt files will be saved.\n",
    "    \"\"\"\n",
    "    os.makedirs(output_folder, exist_ok=True)\n",
    "    for filename in os.listdir(pdf_folder):\n",
    "        if filename.lower().endswith(\".pdf\"):\n",
    "            pdf_path = os.path.join(pdf_folder, filename)\n",
    "            print(f\"Processing {pdf_path} ...\")\n",
    "            text = extract_text_from_pdf(pdf_path)\n",
    "            if text:\n",
    "                base_name = os.path.splitext(filename)[0]\n",
    "                txt_filename = base_name + \".txt\"\n",
    "                txt_path = os.path.join(output_folder, txt_filename)\n",
    "                save_text_to_file(text, txt_path)\n",
    "                print(f\"Extracted text saved to {txt_path}\")\n",
    "            else:\n",
    "                print(f\"No text extracted from {pdf_path}\")\n",
    "\n",
    "# Example usage:\n",
    "if __name__ == \"__main__\":\n",
    "    convert_all_pdfs_to_txt(\"pdf\", \"txt\")\n"
   ]
  },
  {
   "cell_type": "code",
   "execution_count": 5,
   "metadata": {},
   "outputs": [
    {
     "name": "stdout",
     "output_type": "stream",
     "text": [
      "Collecting pymupdf\n",
      "  Downloading pymupdf-1.25.3-cp39-abi3-win_amd64.whl.metadata (3.4 kB)\n",
      "Downloading pymupdf-1.25.3-cp39-abi3-win_amd64.whl (16.5 MB)\n",
      "   ---------------------------------------- 0.0/16.5 MB ? eta -:--:--\n",
      "   ----- ---------------------------------- 2.1/16.5 MB 11.8 MB/s eta 0:00:02\n",
      "   ----------- ---------------------------- 4.7/16.5 MB 11.4 MB/s eta 0:00:02\n",
      "   ----------------- ---------------------- 7.1/16.5 MB 11.2 MB/s eta 0:00:01\n",
      "   ---------------------- ----------------- 9.2/16.5 MB 11.0 MB/s eta 0:00:01\n",
      "   --------------------------- ------------ 11.5/16.5 MB 11.1 MB/s eta 0:00:01\n",
      "   --------------------------------- ------ 13.9/16.5 MB 11.0 MB/s eta 0:00:01\n",
      "   ---------------------------------------  16.3/16.5 MB 11.0 MB/s eta 0:00:01\n",
      "   ---------------------------------------- 16.5/16.5 MB 10.7 MB/s eta 0:00:00\n",
      "Installing collected packages: pymupdf\n",
      "Successfully installed pymupdf-1.25.3\n"
     ]
    }
   ],
   "source": [
    "!pip install pymupdf"
   ]
  },
  {
   "cell_type": "code",
   "execution_count": null,
   "metadata": {},
   "outputs": [],
   "source": []
  }
 ],
 "metadata": {
  "kernelspec": {
   "display_name": "groq_env",
   "language": "python",
   "name": "python3"
  },
  "language_info": {
   "codemirror_mode": {
    "name": "ipython",
    "version": 3
   },
   "file_extension": ".py",
   "mimetype": "text/x-python",
   "name": "python",
   "nbconvert_exporter": "python",
   "pygments_lexer": "ipython3",
   "version": "3.11.11"
  }
 },
 "nbformat": 4,
 "nbformat_minor": 2
}
