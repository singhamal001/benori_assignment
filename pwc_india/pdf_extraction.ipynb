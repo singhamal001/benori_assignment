{
 "cells": [
  {
   "cell_type": "code",
   "execution_count": 7,
   "metadata": {},
   "outputs": [
    {
     "name": "stdout",
     "output_type": "stream",
     "text": [
      "No PDF found on page: https://www.pwc.in/ghost-templates/the-mutual-funds-route-to-viksit-bharat-2047.html\n",
      "No PDF found on page: https://www.pwc.in/ghost-templates/financial-health-transcending-from-access-to-impact.html\n",
      "No PDF found on page: https://www.pwc.in/ghost-templates/retail-reinvention-paradigm.html\n",
      "No PDF found on page: https://www.pwc.in/ghost-templates/pwc-indias-financial-services-fs-risk-symposium-ministry-finance-keynote-session-february-2025.html\n",
      "No PDF found on page: https://www.pwc.in/ghost-templates/india-spends-deep-dive-consumer-spending-behaviour.html\n",
      "No PDF found on page: https://www.pwc.in/ghost-templates/future-quality-manufacturing.html\n",
      "No PDF found on page: https://www.pwc.in/ghost-templates/powering-automation-with-agents.html\n",
      "No PDF found on page: https://www.pwc.in/ghost-templates/deals-at-a-glance-annual-review-2024.html\n",
      "PDFs downloaded to d:\\personal\\benori_assignment\\pwc_india\\PwC_PDFs\n"
     ]
    }
   ],
   "source": [
    "import os\n",
    "import time\n",
    "import csv\n",
    "from selenium import webdriver\n",
    "from selenium.webdriver.common.by import By\n",
    "from selenium.webdriver.chrome.service import Service as ChromeService\n",
    "from selenium.webdriver.chrome.options import Options\n",
    "from selenium.webdriver.common.keys import Keys\n",
    "from webdriver_manager.chrome import ChromeDriverManager\n",
    "\n",
    "# Define download directory\n",
    "download_dir = os.path.abspath(\"PwC_PDFs\")\n",
    "\n",
    "# Ensure the directory exists\n",
    "os.makedirs(download_dir, exist_ok=True)\n",
    "\n",
    "# Configure Chrome options to handle PDF downloads\n",
    "chrome_options = Options()\n",
    "chrome_options.add_experimental_option(\"prefs\", {\n",
    "    \"download.default_directory\": download_dir,  # Set download location\n",
    "    \"download.prompt_for_download\": False,  # Disable pop-ups\n",
    "    \"plugins.always_open_pdf_externally\": True,  # Directly download PDFs instead of opening them\n",
    "    \"profile.default_content_settings.popups\": 0,\n",
    "})\n",
    "\n",
    "# Set up WebDriver\n",
    "driver = webdriver.Chrome(service=ChromeService(ChromeDriverManager().install()), options=chrome_options)\n",
    "\n",
    "def download_pdf(link, title):\n",
    "    try:\n",
    "        driver.get(link)\n",
    "        time.sleep(3)  # Wait for the page to load (adjust if necessary)\n",
    "\n",
    "        # Find all links in the page\n",
    "        pdf_links = driver.find_elements(By.TAG_NAME, \"a\")\n",
    "\n",
    "        for pdf_link in pdf_links:\n",
    "            href = pdf_link.get_attribute(\"href\")\n",
    "\n",
    "            if href and href.endswith(\".pdf\"):  # Ensure it's a PDF file\n",
    "                print(f\"Downloading: {href}\")\n",
    "\n",
    "                # Open the link in a new tab to trigger download\n",
    "                driver.execute_script(\"window.open(arguments[0], '_blank');\", href)\n",
    "                time.sleep(5)  # Wait for download to start\n",
    "                return\n",
    "\n",
    "        print(f\"No PDF found on page: {link}\")\n",
    "\n",
    "    except Exception as e:\n",
    "        print(f\"Error downloading PDF from {link}: {e}\")\n",
    "\n",
    "# Read links from CSV and process them\n",
    "with open(\"pwc_india_insights_details.csv\", \"r\", encoding=\"utf-8\") as csvfile:\n",
    "    reader = csv.DictReader(csvfile)\n",
    "    for row in reader:\n",
    "        link = row[\"Link\"]\n",
    "        title = row[\"Title\"].replace(\" \", \"_\").replace(\"/\", \"-\")  # Sanitize filename\n",
    "        download_pdf(link, title)\n",
    "\n",
    "# Close the browser after processing all links\n",
    "driver.quit()\n",
    "\n",
    "print(f\"PDFs downloaded to {download_dir}\")\n"
   ]
  },
  {
   "cell_type": "code",
   "execution_count": null,
   "metadata": {},
   "outputs": [],
   "source": []
  }
 ],
 "metadata": {
  "kernelspec": {
   "display_name": "rl_env",
   "language": "python",
   "name": "python3"
  },
  "language_info": {
   "codemirror_mode": {
    "name": "ipython",
    "version": 3
   },
   "file_extension": ".py",
   "mimetype": "text/x-python",
   "name": "python",
   "nbconvert_exporter": "python",
   "pygments_lexer": "ipython3",
   "version": "3.9.21"
  }
 },
 "nbformat": 4,
 "nbformat_minor": 2
}
