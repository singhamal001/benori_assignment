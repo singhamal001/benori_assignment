{
 "cells": [
  {
   "cell_type": "markdown",
   "metadata": {},
   "source": [
    "# Documentation"
   ]
  },
  {
   "cell_type": "markdown",
   "metadata": {},
   "source": [
    "## Overview\n",
    "This script extracts text from PDF files located in a specified folder and saves the extracted text into `.txt` files in an output folder. It uses the **PyMuPDF** library (imported as `fitz`) for PDF text extraction.\n",
    "\n",
    "### Main Functions\n",
    "1. **extract_text_from_pdf(pdf_path)**\n",
    "   - Extracts text from a PDF file.\n",
    "   - Returns the extracted text as a string.\n",
    "\n",
    "2. **save_text_to_file(text, txt_path)**\n",
    "   - Saves the extracted text into a `.txt` file.\n",
    "\n",
    "3. **convert_all_pdfs_to_txt(pdf_folder, output_folder)**\n",
    "   - Iterates through all PDF files in the input folder.\n",
    "   - Extracts text and saves it as a `.txt` file with the same base name.\n",
    "\n",
    "### Execution\n",
    "- The script is executed directly by running:\n",
    "  ```bash\n",
    "  python script_name.py\n",
    "  ```\n",
    "- It processes PDFs from the `pdf` folder and saves `.txt` files in the `txt` folder.\n",
    "\n",
    "### Requirements\n",
    "- `PyMuPDF` library.\n",
    "- Ensure `pdf` and `txt` folders exist or will be created automatically.\n",
    "\n",
    "### Error Handling\n",
    "- Catches and prints exceptions if text extraction fails for any PDF.\n",
    "\n",
    "### Example Output\n",
    "- For `sample.pdf`, the output will be `sample.txt` in the `txt` folder.\n",
    "\n",
    "---\n"
   ]
  },
  {
   "cell_type": "markdown",
   "metadata": {},
   "source": [
    "# Code"
   ]
  },
  {
   "cell_type": "code",
   "execution_count": 4,
   "metadata": {},
   "outputs": [
    {
     "name": "stdout",
     "output_type": "stream",
     "text": [
      "Processing pdf\\PWC_04-03-25_Financial_health_Transcending_from_access_to_impact.pdf ...\n",
      "Extracted text saved to txt\\PWC_04-03-25_Financial_health_Transcending_from_access_to_impact.txt\n",
      "Processing pdf\\PWC_04-03-25_Towards_a_climate-resilient_future_Strategies_for_the_Andaman_and_Nicobar_Islands.pdf ...\n",
      "Extracted text saved to txt\\PWC_04-03-25_Towards_a_climate-resilient_future_Strategies_for_the_Andaman_and_Nicobar_Islands.txt\n",
      "Processing pdf\\PWC_05-03-25_The_mutual_funds_route_to_Viksit_Bharat_@2047.pdf ...\n",
      "Extracted text saved to txt\\PWC_05-03-25_The_mutual_funds_route_to_Viksit_Bharat_@2047.txt\n",
      "Processing pdf\\PWC_07-03-25_Quality_measures_and_standards_for_transitioning_to_value-based_healthcare_in_India.pdf ...\n",
      "Extracted text saved to txt\\PWC_07-03-25_Quality_measures_and_standards_for_transitioning_to_value-based_healthcare_in_India.txt\n",
      "Processing pdf\\PWC_14-02-25_Deals_at_a_glance_Annual_review_2024.pdf ...\n",
      "Extracted text saved to txt\\PWC_14-02-25_Deals_at_a_glance_Annual_review_2024.txt\n",
      "Processing pdf\\PWC_18-02-25_Powering_automation_with_agents.pdf ...\n",
      "Extracted text saved to txt\\PWC_18-02-25_Powering_automation_with_agents.txt\n",
      "Processing pdf\\PWC_21-02-25_The_future_of_quality_in_manufacturing.pdf ...\n",
      "Extracted text saved to txt\\PWC_21-02-25_The_future_of_quality_in_manufacturing.txt\n",
      "Processing pdf\\PWC_24-02-25_How_India_spends_A_deep_dive_into_consumer_spending_behaviour.pdf ...\n",
      "Extracted text saved to txt\\PWC_24-02-25_How_India_spends_A_deep_dive_into_consumer_spending_behaviour.txt\n",
      "Processing pdf\\PWC_25-02-25_PwC_India's_Financial_Services_(FS)_Risk_Symposium_Ministry_of_Finance_keynote_session_-_February_2025.pdf ...\n",
      "Extracted text saved to txt\\PWC_25-02-25_PwC_India's_Financial_Services_(FS)_Risk_Symposium_Ministry_of_Finance_keynote_session_-_February_2025.txt\n",
      "Processing pdf\\PWC_27-02-25_The_retail_reinvention_paradigm.pdf ...\n",
      "Extracted text saved to txt\\PWC_27-02-25_The_retail_reinvention_paradigm.txt\n"
     ]
    }
   ],
   "source": [
    "import os\n",
    "import fitz\n",
    "\n",
    "def extract_text_from_pdf(pdf_path):\n",
    "    \"\"\"\n",
    "    Extracts text from a PDF file using PyMuPDF and returns it as a string.\n",
    "    \n",
    "    Parameters:\n",
    "    - pdf_path (str): The path to the PDF file.\n",
    "    \n",
    "    Returns:\n",
    "    - str: The extracted text.\n",
    "    \"\"\"\n",
    "    text = \"\"\n",
    "    try:\n",
    "        doc = fitz.open(pdf_path)\n",
    "        for page in doc:\n",
    "            text += page.get_text()\n",
    "    except Exception as e:\n",
    "        print(f\"Error extracting text from {pdf_path}: {e}\")\n",
    "    return text\n",
    "\n",
    "def save_text_to_file(text, txt_path):\n",
    "    \"\"\"\n",
    "    Saves the provided text into a .txt file.\n",
    "    \n",
    "    Parameters:\n",
    "    - text (str): The text to save.\n",
    "    - txt_path (str): The file path where the text will be saved.\n",
    "    \"\"\"\n",
    "    with open(txt_path, \"w\", encoding=\"utf-8\") as f:\n",
    "        f.write(text)\n",
    "\n",
    "def convert_all_pdfs_to_txt(pdf_folder, output_folder):\n",
    "    \"\"\"\n",
    "    Iterates over all PDF files in the specified folder, extracts text from each,\n",
    "    and saves the text into separate .txt files in the output folder.\n",
    "    \n",
    "    The text file will have the same base name as the original PDF.\n",
    "    \n",
    "    Parameters:\n",
    "    - pdf_folder (str): The folder containing PDF files.\n",
    "    - output_folder (str): The folder where the .txt files will be saved.\n",
    "    \"\"\"\n",
    "    os.makedirs(output_folder, exist_ok=True)\n",
    "    for filename in os.listdir(pdf_folder):\n",
    "        if filename.lower().endswith(\".pdf\"):\n",
    "            pdf_path = os.path.join(pdf_folder, filename)\n",
    "            print(f\"Processing {pdf_path} ...\")\n",
    "            text = extract_text_from_pdf(pdf_path)\n",
    "            if text:\n",
    "                base_name = os.path.splitext(filename)[0]\n",
    "                txt_filename = base_name + \".txt\"\n",
    "                txt_path = os.path.join(output_folder, txt_filename)\n",
    "                save_text_to_file(text, txt_path)\n",
    "                print(f\"Extracted text saved to {txt_path}\")\n",
    "            else:\n",
    "                print(f\"No text extracted from {pdf_path}\")\n",
    "\n",
    "if __name__ == \"__main__\":\n",
    "    convert_all_pdfs_to_txt(\"pdf\", \"txt\")"
   ]
  }
 ],
 "metadata": {
  "kernelspec": {
   "display_name": "rl_env",
   "language": "python",
   "name": "python3"
  },
  "language_info": {
   "codemirror_mode": {
    "name": "ipython",
    "version": 3
   },
   "file_extension": ".py",
   "mimetype": "text/x-python",
   "name": "python",
   "nbconvert_exporter": "python",
   "pygments_lexer": "ipython3",
   "version": "3.9.21"
  }
 },
 "nbformat": 4,
 "nbformat_minor": 2
}
