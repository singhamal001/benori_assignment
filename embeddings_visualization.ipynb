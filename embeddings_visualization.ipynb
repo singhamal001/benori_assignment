{
 "cells": [
  {
   "cell_type": "code",
   "execution_count": 17,
   "metadata": {},
   "outputs": [],
   "source": [
    "import json\n",
    "import pandas as pd\n",
    "\n",
    "with open(\"collection_export.json\", \"r\") as f:\n",
    "    json_data = json.load(f)\n",
    "\n",
    "df = pd.DataFrame({\n",
    "    \"embedding\": json_data[\"embeddings\"],\n",
    "    \"source\": [meta[\"source\"] for meta in json_data[\"metadatas\"]],\n",
    "    \"title\": [meta.get(\"title\", \"\") for meta in json_data[\"metadatas\"]],\n",
    "    \"date\": [meta.get(\"date\", \"\") for meta in json_data[\"metadatas\"]],\n",
    "    \"category\": [meta.get(\"category\", \"\") for meta in json_data[\"metadatas\"]],\n",
    "    \"niche\": [meta.get(\"niche\", \"\") for meta in json_data[\"metadatas\"]],\n",
    "    \"document\": json_data[\"documents\"],\n",
    "    \"id\": json_data[\"ids\"]\n",
    "})\n"
   ]
  },
  {
   "cell_type": "code",
   "execution_count": 18,
   "metadata": {},
   "outputs": [
    {
     "name": "stderr",
     "output_type": "stream",
     "text": [
      "c:\\Users\\HP\\anaconda3\\envs\\rl_env\\lib\\site-packages\\sklearn\\utils\\deprecation.py:151: FutureWarning:\n",
      "\n",
      "'force_all_finite' was renamed to 'ensure_all_finite' in 1.6 and will be removed in 1.8.\n",
      "\n",
      "c:\\Users\\HP\\anaconda3\\envs\\rl_env\\lib\\site-packages\\umap\\umap_.py:1952: UserWarning:\n",
      "\n",
      "n_jobs value 1 overridden to 1 by setting random_state. Use no seed for parallelism.\n",
      "\n"
     ]
    }
   ],
   "source": [
    "import umap\n",
    "\n",
    "reducer = umap.UMAP(n_components=2, random_state=42)\n",
    "embeddings_2d = reducer.fit_transform(df[\"embedding\"].tolist())\n",
    "\n",
    "df[\"x\"] = embeddings_2d[:, 0]\n",
    "df[\"y\"] = embeddings_2d[:, 1]\n"
   ]
  },
  {
   "cell_type": "code",
   "execution_count": 19,
   "metadata": {},
   "outputs": [
    {
     "data": {
      "application/vnd.plotly.v1+json": {
       "config": {
        "plotlyServerURL": "https://plot.ly"
       },
       "data": [
        {
         "customdata": [
          [
           "Issue no. 103 | February 2025",
           "02/28/25",
           "KPMG Insights",
           "Economy and Growth",
           "Inflation Trends"
          ],
          [
           "Issue no. 103 | February 2025",
           "02/28/25",
           "KPMG Insights",
           "Economy and Growth",
           "Inflation Trends"
          ],
          [
           "Issue no. 103 | February 2025",
           "02/28/25",
           "KPMG Insights",
           "Economy and Growth",
           "Inflation Trends"
          ],
          [
           "Issue no. 103 | February 2025",
           "02/28/25",
           "KPMG Insights",
           "Economy and Growth",
           "Inflation Trends"
          ],
          [
           "Issue no. 103 | February 2025",
           "02/28/25",
           "KPMG Insights",
           "Economy and Growth",
           "Inflation Trends"
          ],
          [
           "Issue no. 103 | February 2025",
           "02/28/25",
           "KPMG Insights",
           "Economy and Growth",
           "Inflation Trends"
          ],
          [
           "Issue no. 103 | February 2025",
           "02/28/25",
           "KPMG Insights",
           "Economy and Growth",
           "Inflation Trends"
          ],
          [
           "Issue no. 103 | February 2025",
           "02/28/25",
           "KPMG Insights",
           "Economy and Growth",
           "Inflation Trends"
          ],
          [
           "Food and Nutritional Security in India",
           "02/20/25",
           "KPMG Insights",
           "India (Country)",
           "Agricultural Policy"
          ],
          [
           "Food and Nutritional Security in India",
           "02/20/25",
           "KPMG Insights",
           "India (Country)",
           "Agricultural Policy"
          ],
          [
           "Food and Nutritional Security in India",
           "02/20/25",
           "KPMG Insights",
           "India (Country)",
           "Agricultural Policy"
          ],
          [
           "Financial Crime Bulletin",
           "02/10/25",
           "KPMG Insights",
           "Risk Regulation",
           "Financial Compliance"
          ],
          [
           "KPMG global tech report – industrial manufacturing insights",
           "02/07/25",
           "KPMG Insights",
           "Technology",
           "Industrial IoT"
          ],
          [
           "KPMG global tech report – industrial manufacturing insights",
           "02/07/25",
           "KPMG Insights",
           "Technology",
           "Industrial IoT"
          ],
          [
           "KPMG global tech report – industrial manufacturing insights",
           "02/07/25",
           "KPMG Insights",
           "Technology",
           "Industrial IoT"
          ],
          [
           "KPMG global tech report – industrial manufacturing insights",
           "02/07/25",
           "KPMG Insights",
           "Technology",
           "Industrial IoT"
          ],
          [
           "KPMG global tech report – industrial manufacturing insights",
           "02/07/25",
           "KPMG Insights",
           "Technology",
           "Industrial IoT"
          ],
          [
           "KPMG global tech report – industrial manufacturing insights",
           "02/07/25",
           "KPMG Insights",
           "Technology",
           "Industrial IoT"
          ],
          [
           "KPMG global tech report – industrial manufacturing insights",
           "02/07/25",
           "KPMG Insights",
           "Technology",
           "Industrial IoT"
          ],
          [
           "KPMG global tech report – industrial manufacturing insights",
           "02/07/25",
           "KPMG Insights",
           "Technology",
           "Industrial IoT"
          ],
          [
           "KPMG global tech report: Technology insights",
           "02/07/25",
           "KPMG Insights",
           "Technology",
           "Emerging Technologies"
          ],
          [
           "KPMG global tech report: Technology insights",
           "02/07/25",
           "KPMG Insights",
           "Technology",
           "Emerging Technologies"
          ],
          [
           "KPMG global tech report: Technology insights",
           "02/07/25",
           "KPMG Insights",
           "Technology",
           "Emerging Technologies"
          ],
          [
           "KPMG global tech report: Technology insights",
           "02/07/25",
           "KPMG Insights",
           "Technology",
           "Emerging Technologies"
          ],
          [
           "KPMG global tech report: Technology insights",
           "02/07/25",
           "KPMG Insights",
           "Technology",
           "Emerging Technologies"
          ],
          [
           "KPMG global tech report: Technology insights",
           "02/07/25",
           "KPMG Insights",
           "Technology",
           "Emerging Technologies"
          ],
          [
           "KPMG global tech report: Technology insights",
           "02/07/25",
           "KPMG Insights",
           "Technology",
           "Emerging Technologies"
          ],
          [
           "KPMG global tech report: energy insights",
           "02/07/25",
           "KPMG Insights",
           "Energy Renewables",
           "Sustainable Energy Solutions"
          ],
          [
           "KPMG global tech report: energy insights",
           "02/07/25",
           "KPMG Insights",
           "Energy Renewables",
           "Sustainable Energy Solutions"
          ],
          [
           "KPMG global tech report: energy insights",
           "02/07/25",
           "KPMG Insights",
           "Energy Renewables",
           "Sustainable Energy Solutions"
          ],
          [
           "KPMG global tech report: energy insights",
           "02/07/25",
           "KPMG Insights",
           "Energy Renewables",
           "Sustainable Energy Solutions"
          ],
          [
           "KPMG global tech report: energy insights",
           "02/07/25",
           "KPMG Insights",
           "Energy Renewables",
           "Sustainable Energy Solutions"
          ],
          [
           "KPMG global tech report: energy insights",
           "02/07/25",
           "KPMG Insights",
           "Energy Renewables",
           "Sustainable Energy Solutions"
          ],
          [
           "KPMG global tech report: energy insights",
           "02/07/25",
           "KPMG Insights",
           "Energy Renewables",
           "Sustainable Energy Solutions"
          ],
          [
           "KPMG global tech report 2024",
           "02/06/25",
           "KPMG Insights",
           "Technology",
           "Emerging Technologies"
          ],
          [
           "KPMG global tech report 2024",
           "02/06/25",
           "KPMG Insights",
           "Technology",
           "Emerging Technologies"
          ],
          [
           "KPMG global tech report 2024",
           "02/06/25",
           "KPMG Insights",
           "Technology",
           "Emerging Technologies"
          ],
          [
           "KPMG global tech report 2024",
           "02/06/25",
           "KPMG Insights",
           "Technology",
           "Emerging Technologies"
          ],
          [
           "KPMG global tech report 2024",
           "02/06/25",
           "KPMG Insights",
           "Technology",
           "Emerging Technologies"
          ],
          [
           "KPMG global tech report 2024",
           "02/06/25",
           "KPMG Insights",
           "Technology",
           "Emerging Technologies"
          ],
          [
           "KPMG global tech report 2024",
           "02/06/25",
           "KPMG Insights",
           "Technology",
           "Emerging Technologies"
          ]
         ],
         "hovertemplate": "source=%{customdata[2]}<br>x=%{x}<br>y=%{y}<br>title=%{customdata[0]}<br>date=%{customdata[1]}<br>category=%{customdata[3]}<br>niche=%{customdata[4]}<extra></extra>",
         "legendgroup": "KPMG Insights",
         "marker": {
          "color": "#636efa",
          "symbol": "circle"
         },
         "mode": "markers",
         "name": "KPMG Insights",
         "orientation": "v",
         "showlegend": true,
         "type": "scatter",
         "x": {
          "bdata": "YmZnwJQsYsCnSWfA6/dtwJGIcMCzs3DAFBR+wE6LbsD9ZsPAq/u8wEfmu8B0SJbAsy2WwPKnpcBqhrXAF7LEwC3CucBQQqrACmGVwDpekMCIM5XAVBOnwE73tcBDOcLA1j61wCulrsAcno3AeOeSwKz2pMAeMrjA76TCwCW3uMDJca/Ad++PwH6zj8AOxarAhFuzwBnTx8CGobjALqaqwDWoi8A=",
          "dtype": "f4"
         },
         "xaxis": "x",
         "y": {
          "bdata": "qSj3QI0u9EB4RupAvsjkQIv47kCekvNA1hT9QN+i7kC8nCVBrAskQa1mJEGSgApBXJdUQCavf0CWinVAos1cQJ4xN0AOBjdAdLc7QHljNkBk7WtARYh9QGw8ZUAcLVZAQdg7QCzaUUCm7TNAO41lQEHseUCQJW9A+DRaQKf/OkDzP0JAcsE9QNp4Y0BRmYFAeZNwQLayZ0B3/D9A4nBEQEi8QUA=",
          "dtype": "f4"
         },
         "yaxis": "y"
        },
        {
         "customdata": [
          [
           "Quality measures and standards for transitioning to value-based healthcare in India",
           "07/03/25",
           "PWC Insights",
           "Healthcare",
           "Value-Based Care"
          ],
          [
           "Quality measures and standards for transitioning to value-based healthcare in India",
           "07/03/25",
           "PWC Insights",
           "Healthcare",
           "Value-Based Care"
          ],
          [
           "Quality measures and standards for transitioning to value-based healthcare in India",
           "07/03/25",
           "PWC Insights",
           "Healthcare",
           "Value-Based Care"
          ],
          [
           "Quality measures and standards for transitioning to value-based healthcare in India",
           "07/03/25",
           "PWC Insights",
           "Healthcare",
           "Value-Based Care"
          ],
          [
           "Quality measures and standards for transitioning to value-based healthcare in India",
           "07/03/25",
           "PWC Insights",
           "Healthcare",
           "Value-Based Care"
          ],
          [
           "Quality measures and standards for transitioning to value-based healthcare in India",
           "07/03/25",
           "PWC Insights",
           "Healthcare",
           "Value-Based Care"
          ],
          [
           "Quality measures and standards for transitioning to value-based healthcare in India",
           "07/03/25",
           "PWC Insights",
           "Healthcare",
           "Value-Based Care"
          ],
          [
           "Quality measures and standards for transitioning to value-based healthcare in India",
           "07/03/25",
           "PWC Insights",
           "Healthcare",
           "Value-Based Care"
          ],
          [
           "Quality measures and standards for transitioning to value-based healthcare in India",
           "07/03/25",
           "PWC Insights",
           "Healthcare",
           "Value-Based Care"
          ],
          [
           "Quality measures and standards for transitioning to value-based healthcare in India",
           "07/03/25",
           "PWC Insights",
           "Healthcare",
           "Value-Based Care"
          ],
          [
           "The mutual funds route to Viksit Bharat @2047",
           "05/03/25",
           "PWC Insights",
           "Economy and Growth",
           "Investment Strategies"
          ],
          [
           "The mutual funds route to Viksit Bharat @2047",
           "05/03/25",
           "PWC Insights",
           "Economy and Growth",
           "Investment Strategies"
          ],
          [
           "The mutual funds route to Viksit Bharat @2047",
           "05/03/25",
           "PWC Insights",
           "Economy and Growth",
           "Investment Strategies"
          ],
          [
           "The mutual funds route to Viksit Bharat @2047",
           "05/03/25",
           "PWC Insights",
           "Economy and Growth",
           "Investment Strategies"
          ],
          [
           "The mutual funds route to Viksit Bharat @2047",
           "05/03/25",
           "PWC Insights",
           "Economy and Growth",
           "Investment Strategies"
          ],
          [
           "The mutual funds route to Viksit Bharat @2047",
           "05/03/25",
           "PWC Insights",
           "Economy and Growth",
           "Investment Strategies"
          ],
          [
           "The mutual funds route to Viksit Bharat @2047",
           "05/03/25",
           "PWC Insights",
           "Economy and Growth",
           "Investment Strategies"
          ],
          [
           "The mutual funds route to Viksit Bharat @2047",
           "05/03/25",
           "PWC Insights",
           "Economy and Growth",
           "Investment Strategies"
          ],
          [
           "The mutual funds route to Viksit Bharat @2047",
           "05/03/25",
           "PWC Insights",
           "Economy and Growth",
           "Investment Strategies"
          ],
          [
           "The mutual funds route to Viksit Bharat @2047",
           "05/03/25",
           "PWC Insights",
           "Economy and Growth",
           "Investment Strategies"
          ],
          [
           "The mutual funds route to Viksit Bharat @2047",
           "05/03/25",
           "PWC Insights",
           "Economy and Growth",
           "Investment Strategies"
          ],
          [
           "The mutual funds route to Viksit Bharat @2047",
           "05/03/25",
           "PWC Insights",
           "Economy and Growth",
           "Investment Strategies"
          ],
          [
           "The mutual funds route to Viksit Bharat @2047",
           "05/03/25",
           "PWC Insights",
           "Economy and Growth",
           "Investment Strategies"
          ],
          [
           "Financial health: Transcending from access to impact",
           "04/03/25",
           "PWC Insights",
           "Economy and Growth",
           "Financial Inclusion"
          ],
          [
           "Financial health: Transcending from access to impact",
           "04/03/25",
           "PWC Insights",
           "Economy and Growth",
           "Financial Inclusion"
          ],
          [
           "Financial health: Transcending from access to impact",
           "04/03/25",
           "PWC Insights",
           "Economy and Growth",
           "Financial Inclusion"
          ],
          [
           "Financial health: Transcending from access to impact",
           "04/03/25",
           "PWC Insights",
           "Economy and Growth",
           "Financial Inclusion"
          ],
          [
           "Financial health: Transcending from access to impact",
           "04/03/25",
           "PWC Insights",
           "Economy and Growth",
           "Financial Inclusion"
          ],
          [
           "Towards a climate-resilient future: Strategies for the Andaman and Nicobar Islands",
           "04/03/25",
           "PWC Insights",
           "ESG",
           "Climate Adaptation Strategies"
          ],
          [
           "Towards a climate-resilient future: Strategies for the Andaman and Nicobar Islands",
           "04/03/25",
           "PWC Insights",
           "ESG",
           "Climate Adaptation Strategies"
          ],
          [
           "Towards a climate-resilient future: Strategies for the Andaman and Nicobar Islands",
           "04/03/25",
           "PWC Insights",
           "ESG",
           "Climate Adaptation Strategies"
          ],
          [
           "Towards a climate-resilient future: Strategies for the Andaman and Nicobar Islands",
           "04/03/25",
           "PWC Insights",
           "ESG",
           "Climate Adaptation Strategies"
          ],
          [
           "Towards a climate-resilient future: Strategies for the Andaman and Nicobar Islands",
           "04/03/25",
           "PWC Insights",
           "ESG",
           "Climate Adaptation Strategies"
          ],
          [
           "Towards a climate-resilient future: Strategies for the Andaman and Nicobar Islands",
           "04/03/25",
           "PWC Insights",
           "ESG",
           "Climate Adaptation Strategies"
          ],
          [
           "Towards a climate-resilient future: Strategies for the Andaman and Nicobar Islands",
           "04/03/25",
           "PWC Insights",
           "ESG",
           "Climate Adaptation Strategies"
          ],
          [
           "Towards a climate-resilient future: Strategies for the Andaman and Nicobar Islands",
           "04/03/25",
           "PWC Insights",
           "ESG",
           "Climate Adaptation Strategies"
          ],
          [
           "Towards a climate-resilient future: Strategies for the Andaman and Nicobar Islands",
           "04/03/25",
           "PWC Insights",
           "ESG",
           "Climate Adaptation Strategies"
          ],
          [
           "Towards a climate-resilient future: Strategies for the Andaman and Nicobar Islands",
           "04/03/25",
           "PWC Insights",
           "ESG",
           "Climate Adaptation Strategies"
          ],
          [
           "Towards a climate-resilient future: Strategies for the Andaman and Nicobar Islands",
           "04/03/25",
           "PWC Insights",
           "ESG",
           "Climate Adaptation Strategies"
          ],
          [
           "Towards a climate-resilient future: Strategies for the Andaman and Nicobar Islands",
           "04/03/25",
           "PWC Insights",
           "ESG",
           "Climate Adaptation Strategies"
          ],
          [
           "Towards a climate-resilient future: Strategies for the Andaman and Nicobar Islands",
           "04/03/25",
           "PWC Insights",
           "ESG",
           "Climate Adaptation Strategies"
          ],
          [
           "The retail reinvention paradigm",
           "27/02/25",
           "PWC Insights",
           "Transformation",
           "Retail Technology"
          ],
          [
           "The retail reinvention paradigm",
           "27/02/25",
           "PWC Insights",
           "Transformation",
           "Retail Technology"
          ],
          [
           "The retail reinvention paradigm",
           "27/02/25",
           "PWC Insights",
           "Transformation",
           "Retail Technology"
          ],
          [
           "The retail reinvention paradigm",
           "27/02/25",
           "PWC Insights",
           "Transformation",
           "Retail Technology"
          ],
          [
           "The retail reinvention paradigm",
           "27/02/25",
           "PWC Insights",
           "Transformation",
           "Retail Technology"
          ],
          [
           "The retail reinvention paradigm",
           "27/02/25",
           "PWC Insights",
           "Transformation",
           "Retail Technology"
          ],
          [
           "The retail reinvention paradigm",
           "27/02/25",
           "PWC Insights",
           "Transformation",
           "Retail Technology"
          ],
          [
           "The retail reinvention paradigm",
           "27/02/25",
           "PWC Insights",
           "Transformation",
           "Retail Technology"
          ],
          [
           "PwC India's Financial Services (FS) Risk Symposium: Ministry of Finance keynote session - February 2025",
           "25/02/25",
           "PWC Insights",
           "Risk Regulation",
           "Financial Risk Management"
          ],
          [
           "How India spends: A deep dive into consumer spending behaviour",
           "24/02/25",
           "PWC Insights",
           "Economy and Growth",
           "Consumer Behavior"
          ],
          [
           "How India spends: A deep dive into consumer spending behaviour",
           "24/02/25",
           "PWC Insights",
           "Economy and Growth",
           "Consumer Behavior"
          ],
          [
           "How India spends: A deep dive into consumer spending behaviour",
           "24/02/25",
           "PWC Insights",
           "Economy and Growth",
           "Consumer Behavior"
          ],
          [
           "How India spends: A deep dive into consumer spending behaviour",
           "24/02/25",
           "PWC Insights",
           "Economy and Growth",
           "Consumer Behavior"
          ],
          [
           "How India spends: A deep dive into consumer spending behaviour",
           "24/02/25",
           "PWC Insights",
           "Economy and Growth",
           "Consumer Behavior"
          ],
          [
           "How India spends: A deep dive into consumer spending behaviour",
           "24/02/25",
           "PWC Insights",
           "Economy and Growth",
           "Consumer Behavior"
          ],
          [
           "How India spends: A deep dive into consumer spending behaviour",
           "24/02/25",
           "PWC Insights",
           "Economy and Growth",
           "Consumer Behavior"
          ],
          [
           "How India spends: A deep dive into consumer spending behaviour",
           "24/02/25",
           "PWC Insights",
           "Economy and Growth",
           "Consumer Behavior"
          ],
          [
           "How India spends: A deep dive into consumer spending behaviour",
           "24/02/25",
           "PWC Insights",
           "Economy and Growth",
           "Consumer Behavior"
          ],
          [
           "How India spends: A deep dive into consumer spending behaviour",
           "24/02/25",
           "PWC Insights",
           "Economy and Growth",
           "Consumer Behavior"
          ],
          [
           "How India spends: A deep dive into consumer spending behaviour",
           "24/02/25",
           "PWC Insights",
           "Economy and Growth",
           "Consumer Behavior"
          ],
          [
           "How India spends: A deep dive into consumer spending behaviour",
           "24/02/25",
           "PWC Insights",
           "Economy and Growth",
           "Consumer Behavior"
          ],
          [
           "How India spends: A deep dive into consumer spending behaviour",
           "24/02/25",
           "PWC Insights",
           "Economy and Growth",
           "Consumer Behavior"
          ],
          [
           "How India spends: A deep dive into consumer spending behaviour",
           "24/02/25",
           "PWC Insights",
           "Economy and Growth",
           "Consumer Behavior"
          ],
          [
           "How India spends: A deep dive into consumer spending behaviour",
           "24/02/25",
           "PWC Insights",
           "Economy and Growth",
           "Consumer Behavior"
          ],
          [
           "How India spends: A deep dive into consumer spending behaviour",
           "24/02/25",
           "PWC Insights",
           "Economy and Growth",
           "Consumer Behavior"
          ],
          [
           "The future of quality in manufacturing",
           "21/02/25",
           "PWC Insights",
           "Transformation",
           "Quality Management Systems"
          ],
          [
           "The future of quality in manufacturing",
           "21/02/25",
           "PWC Insights",
           "Transformation",
           "Quality Management Systems"
          ],
          [
           "The future of quality in manufacturing",
           "21/02/25",
           "PWC Insights",
           "Transformation",
           "Quality Management Systems"
          ],
          [
           "Powering automation with agents",
           "18/02/25",
           "PWC Insights",
           "Technology",
           "Robotic Process Automation"
          ],
          [
           "Powering automation with agents",
           "18/02/25",
           "PWC Insights",
           "Technology",
           "Robotic Process Automation"
          ],
          [
           "Powering automation with agents",
           "18/02/25",
           "PWC Insights",
           "Technology",
           "Robotic Process Automation"
          ],
          [
           "Powering automation with agents",
           "18/02/25",
           "PWC Insights",
           "Technology",
           "Robotic Process Automation"
          ],
          [
           "Deals at a glance: Annual review 2024",
           "14/02/25",
           "PWC Insights",
           "Economy and Growth",
           "Market Trends"
          ],
          [
           "Deals at a glance: Annual review 2024",
           "14/02/25",
           "PWC Insights",
           "Economy and Growth",
           "Market Trends"
          ],
          [
           "Deals at a glance: Annual review 2024",
           "14/02/25",
           "PWC Insights",
           "Economy and Growth",
           "Market Trends"
          ],
          [
           "Deals at a glance: Annual review 2024",
           "14/02/25",
           "PWC Insights",
           "Economy and Growth",
           "Market Trends"
          ]
         ],
         "hovertemplate": "source=%{customdata[2]}<br>x=%{x}<br>y=%{y}<br>title=%{customdata[0]}<br>date=%{customdata[1]}<br>category=%{customdata[3]}<br>niche=%{customdata[4]}<extra></extra>",
         "legendgroup": "PWC Insights",
         "marker": {
          "color": "#EF553B",
          "symbol": "circle"
         },
         "mode": "markers",
         "name": "PWC Insights",
         "orientation": "v",
         "showlegend": true,
         "type": "scatter",
         "x": {
          "bdata": "hpSLwE3MiMAHtIXAqaGSwJ5ehsBjMojAQYOEwOatgcCvo4zAs9eDwPXv5cD4vtrA0EfpwIzh3MAn49HAp53WwP1M3sAO0eHAhWTlwAuh4cDTXOjASf/dwNO2zsD3yrPApB+0wAIwssCT/anAygqrwDklwUBdBcVAljnJQL9xzUA8jcxA0uXJQIOhy0BVqcdAqF/NQOuZzEApNsRAI7/IQNZbvkDV0ZI+OGjxPpvduj4mVNo+7W0UPxO/Aj9qM4w++8t/PpyTnsADOILAY7R8wO9NcsD7Lm3AYMNjwFzsYcC6lF3AFSlowLvNccAcBGHAI913wCOBesBpooHAqyeBwGbzacBGX4jAJ+qiwAcnp8AAGqXAPaC4wAWlu8AUfr3ARw+zwCIUeMCc4ILALBN1wIKmecA=",
          "dtype": "f4"
         },
         "xaxis": "x",
         "y": {
          "bdata": "W5jgwO185MAPnd7AQHLowJXW4cD17OHA16HowALk6sDGsezAaUngwJyDH0EnAiRBh8UgQRy1HEHC1yBBUt8fQcpSIkGRhSFBXTYlQUy+IkFT1SZB17IcQQadHkG9jxlBK14bQaG0GkFAYBpBnAgWQfbZv0DMVrxAv0/DQCn0ykDJ6MdAhMjHQD4oyEAej75ABgiyQEQCukD4gLRAPhW4QM0EyUBKlIhBPq2JQdfmiEGvs4hB4DSJQc9xikHNLIdBVeuGQb0mEEFCmCVBLNskQfclK0HCuSdBqm0qQRTmKkGcIS1BIGQwQXEyMEFSDDJB8BcyQTKyL0GmIipBb3MoQe61I0GkAyFBfIQgQCz9CEC0zgNAxo8IQJZ7DEBZDw1AAXXzP2EiFUEZzBFB9ogYQSjDD0E=",
          "dtype": "f4"
         },
         "yaxis": "y"
        }
       ],
       "layout": {
        "height": 480,
        "legend": {
         "title": {
          "text": "Source"
         },
         "tracegroupgap": 0
        },
        "template": {
         "data": {
          "bar": [
           {
            "error_x": {
             "color": "#2a3f5f"
            },
            "error_y": {
             "color": "#2a3f5f"
            },
            "marker": {
             "line": {
              "color": "#E5ECF6",
              "width": 0.5
             },
             "pattern": {
              "fillmode": "overlay",
              "size": 10,
              "solidity": 0.2
             }
            },
            "type": "bar"
           }
          ],
          "barpolar": [
           {
            "marker": {
             "line": {
              "color": "#E5ECF6",
              "width": 0.5
             },
             "pattern": {
              "fillmode": "overlay",
              "size": 10,
              "solidity": 0.2
             }
            },
            "type": "barpolar"
           }
          ],
          "carpet": [
           {
            "aaxis": {
             "endlinecolor": "#2a3f5f",
             "gridcolor": "white",
             "linecolor": "white",
             "minorgridcolor": "white",
             "startlinecolor": "#2a3f5f"
            },
            "baxis": {
             "endlinecolor": "#2a3f5f",
             "gridcolor": "white",
             "linecolor": "white",
             "minorgridcolor": "white",
             "startlinecolor": "#2a3f5f"
            },
            "type": "carpet"
           }
          ],
          "choropleth": [
           {
            "colorbar": {
             "outlinewidth": 0,
             "ticks": ""
            },
            "type": "choropleth"
           }
          ],
          "contour": [
           {
            "colorbar": {
             "outlinewidth": 0,
             "ticks": ""
            },
            "colorscale": [
             [
              0,
              "#0d0887"
             ],
             [
              0.1111111111111111,
              "#46039f"
             ],
             [
              0.2222222222222222,
              "#7201a8"
             ],
             [
              0.3333333333333333,
              "#9c179e"
             ],
             [
              0.4444444444444444,
              "#bd3786"
             ],
             [
              0.5555555555555556,
              "#d8576b"
             ],
             [
              0.6666666666666666,
              "#ed7953"
             ],
             [
              0.7777777777777778,
              "#fb9f3a"
             ],
             [
              0.8888888888888888,
              "#fdca26"
             ],
             [
              1,
              "#f0f921"
             ]
            ],
            "type": "contour"
           }
          ],
          "contourcarpet": [
           {
            "colorbar": {
             "outlinewidth": 0,
             "ticks": ""
            },
            "type": "contourcarpet"
           }
          ],
          "heatmap": [
           {
            "colorbar": {
             "outlinewidth": 0,
             "ticks": ""
            },
            "colorscale": [
             [
              0,
              "#0d0887"
             ],
             [
              0.1111111111111111,
              "#46039f"
             ],
             [
              0.2222222222222222,
              "#7201a8"
             ],
             [
              0.3333333333333333,
              "#9c179e"
             ],
             [
              0.4444444444444444,
              "#bd3786"
             ],
             [
              0.5555555555555556,
              "#d8576b"
             ],
             [
              0.6666666666666666,
              "#ed7953"
             ],
             [
              0.7777777777777778,
              "#fb9f3a"
             ],
             [
              0.8888888888888888,
              "#fdca26"
             ],
             [
              1,
              "#f0f921"
             ]
            ],
            "type": "heatmap"
           }
          ],
          "histogram": [
           {
            "marker": {
             "pattern": {
              "fillmode": "overlay",
              "size": 10,
              "solidity": 0.2
             }
            },
            "type": "histogram"
           }
          ],
          "histogram2d": [
           {
            "colorbar": {
             "outlinewidth": 0,
             "ticks": ""
            },
            "colorscale": [
             [
              0,
              "#0d0887"
             ],
             [
              0.1111111111111111,
              "#46039f"
             ],
             [
              0.2222222222222222,
              "#7201a8"
             ],
             [
              0.3333333333333333,
              "#9c179e"
             ],
             [
              0.4444444444444444,
              "#bd3786"
             ],
             [
              0.5555555555555556,
              "#d8576b"
             ],
             [
              0.6666666666666666,
              "#ed7953"
             ],
             [
              0.7777777777777778,
              "#fb9f3a"
             ],
             [
              0.8888888888888888,
              "#fdca26"
             ],
             [
              1,
              "#f0f921"
             ]
            ],
            "type": "histogram2d"
           }
          ],
          "histogram2dcontour": [
           {
            "colorbar": {
             "outlinewidth": 0,
             "ticks": ""
            },
            "colorscale": [
             [
              0,
              "#0d0887"
             ],
             [
              0.1111111111111111,
              "#46039f"
             ],
             [
              0.2222222222222222,
              "#7201a8"
             ],
             [
              0.3333333333333333,
              "#9c179e"
             ],
             [
              0.4444444444444444,
              "#bd3786"
             ],
             [
              0.5555555555555556,
              "#d8576b"
             ],
             [
              0.6666666666666666,
              "#ed7953"
             ],
             [
              0.7777777777777778,
              "#fb9f3a"
             ],
             [
              0.8888888888888888,
              "#fdca26"
             ],
             [
              1,
              "#f0f921"
             ]
            ],
            "type": "histogram2dcontour"
           }
          ],
          "mesh3d": [
           {
            "colorbar": {
             "outlinewidth": 0,
             "ticks": ""
            },
            "type": "mesh3d"
           }
          ],
          "parcoords": [
           {
            "line": {
             "colorbar": {
              "outlinewidth": 0,
              "ticks": ""
             }
            },
            "type": "parcoords"
           }
          ],
          "pie": [
           {
            "automargin": true,
            "type": "pie"
           }
          ],
          "scatter": [
           {
            "fillpattern": {
             "fillmode": "overlay",
             "size": 10,
             "solidity": 0.2
            },
            "type": "scatter"
           }
          ],
          "scatter3d": [
           {
            "line": {
             "colorbar": {
              "outlinewidth": 0,
              "ticks": ""
             }
            },
            "marker": {
             "colorbar": {
              "outlinewidth": 0,
              "ticks": ""
             }
            },
            "type": "scatter3d"
           }
          ],
          "scattercarpet": [
           {
            "marker": {
             "colorbar": {
              "outlinewidth": 0,
              "ticks": ""
             }
            },
            "type": "scattercarpet"
           }
          ],
          "scattergeo": [
           {
            "marker": {
             "colorbar": {
              "outlinewidth": 0,
              "ticks": ""
             }
            },
            "type": "scattergeo"
           }
          ],
          "scattergl": [
           {
            "marker": {
             "colorbar": {
              "outlinewidth": 0,
              "ticks": ""
             }
            },
            "type": "scattergl"
           }
          ],
          "scattermap": [
           {
            "marker": {
             "colorbar": {
              "outlinewidth": 0,
              "ticks": ""
             }
            },
            "type": "scattermap"
           }
          ],
          "scattermapbox": [
           {
            "marker": {
             "colorbar": {
              "outlinewidth": 0,
              "ticks": ""
             }
            },
            "type": "scattermapbox"
           }
          ],
          "scatterpolar": [
           {
            "marker": {
             "colorbar": {
              "outlinewidth": 0,
              "ticks": ""
             }
            },
            "type": "scatterpolar"
           }
          ],
          "scatterpolargl": [
           {
            "marker": {
             "colorbar": {
              "outlinewidth": 0,
              "ticks": ""
             }
            },
            "type": "scatterpolargl"
           }
          ],
          "scatterternary": [
           {
            "marker": {
             "colorbar": {
              "outlinewidth": 0,
              "ticks": ""
             }
            },
            "type": "scatterternary"
           }
          ],
          "surface": [
           {
            "colorbar": {
             "outlinewidth": 0,
             "ticks": ""
            },
            "colorscale": [
             [
              0,
              "#0d0887"
             ],
             [
              0.1111111111111111,
              "#46039f"
             ],
             [
              0.2222222222222222,
              "#7201a8"
             ],
             [
              0.3333333333333333,
              "#9c179e"
             ],
             [
              0.4444444444444444,
              "#bd3786"
             ],
             [
              0.5555555555555556,
              "#d8576b"
             ],
             [
              0.6666666666666666,
              "#ed7953"
             ],
             [
              0.7777777777777778,
              "#fb9f3a"
             ],
             [
              0.8888888888888888,
              "#fdca26"
             ],
             [
              1,
              "#f0f921"
             ]
            ],
            "type": "surface"
           }
          ],
          "table": [
           {
            "cells": {
             "fill": {
              "color": "#EBF0F8"
             },
             "line": {
              "color": "white"
             }
            },
            "header": {
             "fill": {
              "color": "#C8D4E3"
             },
             "line": {
              "color": "white"
             }
            },
            "type": "table"
           }
          ]
         },
         "layout": {
          "annotationdefaults": {
           "arrowcolor": "#2a3f5f",
           "arrowhead": 0,
           "arrowwidth": 1
          },
          "autotypenumbers": "strict",
          "coloraxis": {
           "colorbar": {
            "outlinewidth": 0,
            "ticks": ""
           }
          },
          "colorscale": {
           "diverging": [
            [
             0,
             "#8e0152"
            ],
            [
             0.1,
             "#c51b7d"
            ],
            [
             0.2,
             "#de77ae"
            ],
            [
             0.3,
             "#f1b6da"
            ],
            [
             0.4,
             "#fde0ef"
            ],
            [
             0.5,
             "#f7f7f7"
            ],
            [
             0.6,
             "#e6f5d0"
            ],
            [
             0.7,
             "#b8e186"
            ],
            [
             0.8,
             "#7fbc41"
            ],
            [
             0.9,
             "#4d9221"
            ],
            [
             1,
             "#276419"
            ]
           ],
           "sequential": [
            [
             0,
             "#0d0887"
            ],
            [
             0.1111111111111111,
             "#46039f"
            ],
            [
             0.2222222222222222,
             "#7201a8"
            ],
            [
             0.3333333333333333,
             "#9c179e"
            ],
            [
             0.4444444444444444,
             "#bd3786"
            ],
            [
             0.5555555555555556,
             "#d8576b"
            ],
            [
             0.6666666666666666,
             "#ed7953"
            ],
            [
             0.7777777777777778,
             "#fb9f3a"
            ],
            [
             0.8888888888888888,
             "#fdca26"
            ],
            [
             1,
             "#f0f921"
            ]
           ],
           "sequentialminus": [
            [
             0,
             "#0d0887"
            ],
            [
             0.1111111111111111,
             "#46039f"
            ],
            [
             0.2222222222222222,
             "#7201a8"
            ],
            [
             0.3333333333333333,
             "#9c179e"
            ],
            [
             0.4444444444444444,
             "#bd3786"
            ],
            [
             0.5555555555555556,
             "#d8576b"
            ],
            [
             0.6666666666666666,
             "#ed7953"
            ],
            [
             0.7777777777777778,
             "#fb9f3a"
            ],
            [
             0.8888888888888888,
             "#fdca26"
            ],
            [
             1,
             "#f0f921"
            ]
           ]
          },
          "colorway": [
           "#636efa",
           "#EF553B",
           "#00cc96",
           "#ab63fa",
           "#FFA15A",
           "#19d3f3",
           "#FF6692",
           "#B6E880",
           "#FF97FF",
           "#FECB52"
          ],
          "font": {
           "color": "#2a3f5f"
          },
          "geo": {
           "bgcolor": "white",
           "lakecolor": "white",
           "landcolor": "#E5ECF6",
           "showlakes": true,
           "showland": true,
           "subunitcolor": "white"
          },
          "hoverlabel": {
           "align": "left"
          },
          "hovermode": "closest",
          "mapbox": {
           "style": "light"
          },
          "paper_bgcolor": "white",
          "plot_bgcolor": "#E5ECF6",
          "polar": {
           "angularaxis": {
            "gridcolor": "white",
            "linecolor": "white",
            "ticks": ""
           },
           "bgcolor": "#E5ECF6",
           "radialaxis": {
            "gridcolor": "white",
            "linecolor": "white",
            "ticks": ""
           }
          },
          "scene": {
           "xaxis": {
            "backgroundcolor": "#E5ECF6",
            "gridcolor": "white",
            "gridwidth": 2,
            "linecolor": "white",
            "showbackground": true,
            "ticks": "",
            "zerolinecolor": "white"
           },
           "yaxis": {
            "backgroundcolor": "#E5ECF6",
            "gridcolor": "white",
            "gridwidth": 2,
            "linecolor": "white",
            "showbackground": true,
            "ticks": "",
            "zerolinecolor": "white"
           },
           "zaxis": {
            "backgroundcolor": "#E5ECF6",
            "gridcolor": "white",
            "gridwidth": 2,
            "linecolor": "white",
            "showbackground": true,
            "ticks": "",
            "zerolinecolor": "white"
           }
          },
          "shapedefaults": {
           "line": {
            "color": "#2a3f5f"
           }
          },
          "ternary": {
           "aaxis": {
            "gridcolor": "white",
            "linecolor": "white",
            "ticks": ""
           },
           "baxis": {
            "gridcolor": "white",
            "linecolor": "white",
            "ticks": ""
           },
           "bgcolor": "#E5ECF6",
           "caxis": {
            "gridcolor": "white",
            "linecolor": "white",
            "ticks": ""
           }
          },
          "title": {
           "x": 0.05
          },
          "xaxis": {
           "automargin": true,
           "gridcolor": "white",
           "linecolor": "white",
           "ticks": "",
           "title": {
            "standoff": 15
           },
           "zerolinecolor": "white",
           "zerolinewidth": 2
          },
          "yaxis": {
           "automargin": true,
           "gridcolor": "white",
           "linecolor": "white",
           "ticks": "",
           "title": {
            "standoff": 15
           },
           "zerolinecolor": "white",
           "zerolinewidth": 2
          }
         }
        },
        "title": {
         "text": "Embedding Clusters Visualization (by Source)"
        },
        "width": 854,
        "xaxis": {
         "anchor": "y",
         "domain": [
          0,
          1
         ],
         "title": {
          "text": "x"
         }
        },
        "yaxis": {
         "anchor": "x",
         "domain": [
          0,
          1
         ],
         "title": {
          "text": "y"
         }
        }
       }
      }
     },
     "metadata": {},
     "output_type": "display_data"
    }
   ],
   "source": [
    "import plotly.express as px\n",
    "\n",
    "fig = px.scatter(\n",
    "    df, x=\"x\", y=\"y\",\n",
    "    color=\"source\",\n",
    "    hover_data=[\"title\", \"date\", \"source\", \"category\", \"niche\"],\n",
    "    title=\"Embedding Clusters Visualization (by Source)\"\n",
    ")\n",
    "\n",
    "fig.update_layout(\n",
    "    legend_title=\"Source\",\n",
    "    width=854,\n",
    "    height=480\n",
    ")\n",
    "\n",
    "fig.show()\n"
   ]
  },
  {
   "cell_type": "code",
   "execution_count": null,
   "metadata": {},
   "outputs": [
    {
     "name": "stderr",
     "output_type": "stream",
     "text": [
      "c:\\Users\\HP\\anaconda3\\envs\\rl_env\\lib\\site-packages\\sklearn\\utils\\deprecation.py:151: FutureWarning:\n",
      "\n",
      "'force_all_finite' was renamed to 'ensure_all_finite' in 1.6 and will be removed in 1.8.\n",
      "\n",
      "c:\\Users\\HP\\anaconda3\\envs\\rl_env\\lib\\site-packages\\umap\\umap_.py:1952: UserWarning:\n",
      "\n",
      "n_jobs value 1 overridden to 1 by setting random_state. Use no seed for parallelism.\n",
      "\n"
     ]
    }
   ],
   "source": [
    "reducer_3d = umap.UMAP(n_components=3, random_state=42)\n",
    "embeddings_3d = reducer_3d.fit_transform(df[\"embedding\"].tolist())\n",
    "\n",
    "df[\"x3d\"] = embeddings_3d[:, 0]\n",
    "df[\"y3d\"] = embeddings_3d[:, 1]\n",
    "df[\"z3d\"] = embeddings_3d[:, 2]\n"
   ]
  },
  {
   "cell_type": "code",
   "execution_count": 21,
   "metadata": {},
   "outputs": [
    {
     "data": {
      "application/vnd.plotly.v1+json": {
       "config": {
        "plotlyServerURL": "https://plot.ly"
       },
       "data": [
        {
         "customdata": [
          [
           "Issue no. 103 | February 2025",
           "02/28/25",
           "0_0",
           "KPMG Insights"
          ],
          [
           "Issue no. 103 | February 2025",
           "02/28/25",
           "0_1",
           "KPMG Insights"
          ],
          [
           "Issue no. 103 | February 2025",
           "02/28/25",
           "0_2",
           "KPMG Insights"
          ],
          [
           "Issue no. 103 | February 2025",
           "02/28/25",
           "0_3",
           "KPMG Insights"
          ],
          [
           "Issue no. 103 | February 2025",
           "02/28/25",
           "0_4",
           "KPMG Insights"
          ],
          [
           "Issue no. 103 | February 2025",
           "02/28/25",
           "0_5",
           "KPMG Insights"
          ],
          [
           "Issue no. 103 | February 2025",
           "02/28/25",
           "0_6",
           "KPMG Insights"
          ],
          [
           "Issue no. 103 | February 2025",
           "02/28/25",
           "0_7",
           "KPMG Insights"
          ],
          [
           "Food and Nutritional Security in India",
           "02/20/25",
           "1_0",
           "KPMG Insights"
          ],
          [
           "Food and Nutritional Security in India",
           "02/20/25",
           "1_1",
           "KPMG Insights"
          ],
          [
           "Food and Nutritional Security in India",
           "02/20/25",
           "1_2",
           "KPMG Insights"
          ],
          [
           "Financial Crime Bulletin",
           "02/10/25",
           "2_0",
           "KPMG Insights"
          ],
          [
           "KPMG global tech report – industrial manufacturing insights",
           "02/07/25",
           "3_0",
           "KPMG Insights"
          ],
          [
           "KPMG global tech report – industrial manufacturing insights",
           "02/07/25",
           "3_1",
           "KPMG Insights"
          ],
          [
           "KPMG global tech report – industrial manufacturing insights",
           "02/07/25",
           "3_2",
           "KPMG Insights"
          ],
          [
           "KPMG global tech report – industrial manufacturing insights",
           "02/07/25",
           "3_3",
           "KPMG Insights"
          ],
          [
           "KPMG global tech report – industrial manufacturing insights",
           "02/07/25",
           "3_4",
           "KPMG Insights"
          ],
          [
           "KPMG global tech report – industrial manufacturing insights",
           "02/07/25",
           "3_5",
           "KPMG Insights"
          ],
          [
           "KPMG global tech report – industrial manufacturing insights",
           "02/07/25",
           "3_6",
           "KPMG Insights"
          ],
          [
           "KPMG global tech report – industrial manufacturing insights",
           "02/07/25",
           "3_7",
           "KPMG Insights"
          ],
          [
           "KPMG global tech report: Technology insights",
           "02/07/25",
           "4_0",
           "KPMG Insights"
          ],
          [
           "KPMG global tech report: Technology insights",
           "02/07/25",
           "4_1",
           "KPMG Insights"
          ],
          [
           "KPMG global tech report: Technology insights",
           "02/07/25",
           "4_2",
           "KPMG Insights"
          ],
          [
           "KPMG global tech report: Technology insights",
           "02/07/25",
           "4_3",
           "KPMG Insights"
          ],
          [
           "KPMG global tech report: Technology insights",
           "02/07/25",
           "4_4",
           "KPMG Insights"
          ],
          [
           "KPMG global tech report: Technology insights",
           "02/07/25",
           "4_5",
           "KPMG Insights"
          ],
          [
           "KPMG global tech report: Technology insights",
           "02/07/25",
           "4_6",
           "KPMG Insights"
          ],
          [
           "KPMG global tech report: energy insights",
           "02/07/25",
           "5_0",
           "KPMG Insights"
          ],
          [
           "KPMG global tech report: energy insights",
           "02/07/25",
           "5_1",
           "KPMG Insights"
          ],
          [
           "KPMG global tech report: energy insights",
           "02/07/25",
           "5_2",
           "KPMG Insights"
          ],
          [
           "KPMG global tech report: energy insights",
           "02/07/25",
           "5_3",
           "KPMG Insights"
          ],
          [
           "KPMG global tech report: energy insights",
           "02/07/25",
           "5_4",
           "KPMG Insights"
          ],
          [
           "KPMG global tech report: energy insights",
           "02/07/25",
           "5_5",
           "KPMG Insights"
          ],
          [
           "KPMG global tech report: energy insights",
           "02/07/25",
           "5_6",
           "KPMG Insights"
          ],
          [
           "KPMG global tech report 2024",
           "02/06/25",
           "6_0",
           "KPMG Insights"
          ],
          [
           "KPMG global tech report 2024",
           "02/06/25",
           "6_1",
           "KPMG Insights"
          ],
          [
           "KPMG global tech report 2024",
           "02/06/25",
           "6_2",
           "KPMG Insights"
          ],
          [
           "KPMG global tech report 2024",
           "02/06/25",
           "6_3",
           "KPMG Insights"
          ],
          [
           "KPMG global tech report 2024",
           "02/06/25",
           "6_4",
           "KPMG Insights"
          ],
          [
           "KPMG global tech report 2024",
           "02/06/25",
           "6_5",
           "KPMG Insights"
          ],
          [
           "KPMG global tech report 2024",
           "02/06/25",
           "6_6",
           "KPMG Insights"
          ]
         ],
         "hovertemplate": "source=%{customdata[3]}<br>x3d=%{x}<br>y3d=%{y}<br>z3d=%{z}<br>title=%{customdata[0]}<br>date=%{customdata[1]}<br>id=%{customdata[2]}<extra></extra>",
         "legendgroup": "KPMG Insights",
         "marker": {
          "color": "#636efa",
          "symbol": "circle"
         },
         "mode": "markers",
         "name": "KPMG Insights",
         "scene": "scene",
         "showlegend": true,
         "type": "scatter3d",
         "x": {
          "bdata": "DMnXvhsCFL9HQiq/wj8Sv3guGr+7b8G+lHfuvjj13b6KFJc/8Z+dP+qQlz8FjgQ+Zf6JwGlXncA11pzAzXyiwC5ulsBqyozA7Z54wNFCbsCfXo7ANoycwKECncCCuaXA5rSWwFLMjcD5WWjAB3SJwKmbocDPX6DAULalwDVFk8CqH5DAGhdxwDmch8Db+p/AhkSlwKsCo8CO9JLAJ0+LwLtvdcA=",
          "dtype": "f4"
         },
         "y": {
          "bdata": "KTWZPjCRZT6FAUc7Syf/PS+AyDxK9aU+coeWPh/QyD0Wu1lAuFxgQJTsU0CG9/4/ZEx3v2/Rl79hcuS/4g0SwHfdI8D2SRHAFIi7v44yqb+VW4K/zf6lv5k0+7/FqRjApIcSwHIhDcDSwIy/f/Vfv1AVi7+Saui/GuYawLKXH8AbPgnA8ea2v+ldWb+FHae/g4Pxv4tVIcBwMiTASHQEwPhSm78=",
          "dtype": "f4"
         },
         "z": {
          "bdata": "Qn8dP2qbLj/04is/d28CP6ISTz+ExR8/AjJOP8RHSD9KrxBAhxAYQK7KDUAorKw/Kia1PdUZSD6XfmE+/IqxPuqeHz+qCUA/LTLcPSDOSD0py3Y7DUa1PeUNzT69L6k+Nf/EPkdsFT+syiC+AEdFPRsQnT5NTZQ+ppnkPil5FT+HhEc//7EFPrdy1LzPpRI+7FGbPV/LWT5leQc/CcgLP79Aj70=",
          "dtype": "f4"
         }
        },
        {
         "customdata": [
          [
           "Quality measures and standards for transitioning to value-based healthcare in India",
           "07/03/25",
           "7_0",
           "PWC Insights"
          ],
          [
           "Quality measures and standards for transitioning to value-based healthcare in India",
           "07/03/25",
           "7_1",
           "PWC Insights"
          ],
          [
           "Quality measures and standards for transitioning to value-based healthcare in India",
           "07/03/25",
           "7_2",
           "PWC Insights"
          ],
          [
           "Quality measures and standards for transitioning to value-based healthcare in India",
           "07/03/25",
           "7_3",
           "PWC Insights"
          ],
          [
           "Quality measures and standards for transitioning to value-based healthcare in India",
           "07/03/25",
           "7_4",
           "PWC Insights"
          ],
          [
           "Quality measures and standards for transitioning to value-based healthcare in India",
           "07/03/25",
           "7_5",
           "PWC Insights"
          ],
          [
           "Quality measures and standards for transitioning to value-based healthcare in India",
           "07/03/25",
           "7_6",
           "PWC Insights"
          ],
          [
           "Quality measures and standards for transitioning to value-based healthcare in India",
           "07/03/25",
           "7_7",
           "PWC Insights"
          ],
          [
           "Quality measures and standards for transitioning to value-based healthcare in India",
           "07/03/25",
           "7_8",
           "PWC Insights"
          ],
          [
           "Quality measures and standards for transitioning to value-based healthcare in India",
           "07/03/25",
           "7_9",
           "PWC Insights"
          ],
          [
           "The mutual funds route to Viksit Bharat @2047",
           "05/03/25",
           "8_0",
           "PWC Insights"
          ],
          [
           "The mutual funds route to Viksit Bharat @2047",
           "05/03/25",
           "8_1",
           "PWC Insights"
          ],
          [
           "The mutual funds route to Viksit Bharat @2047",
           "05/03/25",
           "8_2",
           "PWC Insights"
          ],
          [
           "The mutual funds route to Viksit Bharat @2047",
           "05/03/25",
           "8_3",
           "PWC Insights"
          ],
          [
           "The mutual funds route to Viksit Bharat @2047",
           "05/03/25",
           "8_4",
           "PWC Insights"
          ],
          [
           "The mutual funds route to Viksit Bharat @2047",
           "05/03/25",
           "8_5",
           "PWC Insights"
          ],
          [
           "The mutual funds route to Viksit Bharat @2047",
           "05/03/25",
           "8_6",
           "PWC Insights"
          ],
          [
           "The mutual funds route to Viksit Bharat @2047",
           "05/03/25",
           "8_7",
           "PWC Insights"
          ],
          [
           "The mutual funds route to Viksit Bharat @2047",
           "05/03/25",
           "8_8",
           "PWC Insights"
          ],
          [
           "The mutual funds route to Viksit Bharat @2047",
           "05/03/25",
           "8_9",
           "PWC Insights"
          ],
          [
           "The mutual funds route to Viksit Bharat @2047",
           "05/03/25",
           "8_10",
           "PWC Insights"
          ],
          [
           "The mutual funds route to Viksit Bharat @2047",
           "05/03/25",
           "8_11",
           "PWC Insights"
          ],
          [
           "The mutual funds route to Viksit Bharat @2047",
           "05/03/25",
           "8_12",
           "PWC Insights"
          ],
          [
           "Financial health: Transcending from access to impact",
           "04/03/25",
           "9_0",
           "PWC Insights"
          ],
          [
           "Financial health: Transcending from access to impact",
           "04/03/25",
           "9_1",
           "PWC Insights"
          ],
          [
           "Financial health: Transcending from access to impact",
           "04/03/25",
           "9_2",
           "PWC Insights"
          ],
          [
           "Financial health: Transcending from access to impact",
           "04/03/25",
           "9_3",
           "PWC Insights"
          ],
          [
           "Financial health: Transcending from access to impact",
           "04/03/25",
           "9_4",
           "PWC Insights"
          ],
          [
           "Towards a climate-resilient future: Strategies for the Andaman and Nicobar Islands",
           "04/03/25",
           "10_0",
           "PWC Insights"
          ],
          [
           "Towards a climate-resilient future: Strategies for the Andaman and Nicobar Islands",
           "04/03/25",
           "10_1",
           "PWC Insights"
          ],
          [
           "Towards a climate-resilient future: Strategies for the Andaman and Nicobar Islands",
           "04/03/25",
           "10_2",
           "PWC Insights"
          ],
          [
           "Towards a climate-resilient future: Strategies for the Andaman and Nicobar Islands",
           "04/03/25",
           "10_3",
           "PWC Insights"
          ],
          [
           "Towards a climate-resilient future: Strategies for the Andaman and Nicobar Islands",
           "04/03/25",
           "10_4",
           "PWC Insights"
          ],
          [
           "Towards a climate-resilient future: Strategies for the Andaman and Nicobar Islands",
           "04/03/25",
           "10_5",
           "PWC Insights"
          ],
          [
           "Towards a climate-resilient future: Strategies for the Andaman and Nicobar Islands",
           "04/03/25",
           "10_6",
           "PWC Insights"
          ],
          [
           "Towards a climate-resilient future: Strategies for the Andaman and Nicobar Islands",
           "04/03/25",
           "10_7",
           "PWC Insights"
          ],
          [
           "Towards a climate-resilient future: Strategies for the Andaman and Nicobar Islands",
           "04/03/25",
           "10_8",
           "PWC Insights"
          ],
          [
           "Towards a climate-resilient future: Strategies for the Andaman and Nicobar Islands",
           "04/03/25",
           "10_9",
           "PWC Insights"
          ],
          [
           "Towards a climate-resilient future: Strategies for the Andaman and Nicobar Islands",
           "04/03/25",
           "10_10",
           "PWC Insights"
          ],
          [
           "Towards a climate-resilient future: Strategies for the Andaman and Nicobar Islands",
           "04/03/25",
           "10_11",
           "PWC Insights"
          ],
          [
           "Towards a climate-resilient future: Strategies for the Andaman and Nicobar Islands",
           "04/03/25",
           "10_12",
           "PWC Insights"
          ],
          [
           "The retail reinvention paradigm",
           "27/02/25",
           "11_0",
           "PWC Insights"
          ],
          [
           "The retail reinvention paradigm",
           "27/02/25",
           "11_1",
           "PWC Insights"
          ],
          [
           "The retail reinvention paradigm",
           "27/02/25",
           "11_2",
           "PWC Insights"
          ],
          [
           "The retail reinvention paradigm",
           "27/02/25",
           "11_3",
           "PWC Insights"
          ],
          [
           "The retail reinvention paradigm",
           "27/02/25",
           "11_4",
           "PWC Insights"
          ],
          [
           "The retail reinvention paradigm",
           "27/02/25",
           "11_5",
           "PWC Insights"
          ],
          [
           "The retail reinvention paradigm",
           "27/02/25",
           "11_6",
           "PWC Insights"
          ],
          [
           "The retail reinvention paradigm",
           "27/02/25",
           "11_7",
           "PWC Insights"
          ],
          [
           "PwC India's Financial Services (FS) Risk Symposium: Ministry of Finance keynote session - February 2025",
           "25/02/25",
           "12_0",
           "PWC Insights"
          ],
          [
           "How India spends: A deep dive into consumer spending behaviour",
           "24/02/25",
           "13_0",
           "PWC Insights"
          ],
          [
           "How India spends: A deep dive into consumer spending behaviour",
           "24/02/25",
           "13_1",
           "PWC Insights"
          ],
          [
           "How India spends: A deep dive into consumer spending behaviour",
           "24/02/25",
           "13_2",
           "PWC Insights"
          ],
          [
           "How India spends: A deep dive into consumer spending behaviour",
           "24/02/25",
           "13_3",
           "PWC Insights"
          ],
          [
           "How India spends: A deep dive into consumer spending behaviour",
           "24/02/25",
           "13_4",
           "PWC Insights"
          ],
          [
           "How India spends: A deep dive into consumer spending behaviour",
           "24/02/25",
           "13_5",
           "PWC Insights"
          ],
          [
           "How India spends: A deep dive into consumer spending behaviour",
           "24/02/25",
           "13_6",
           "PWC Insights"
          ],
          [
           "How India spends: A deep dive into consumer spending behaviour",
           "24/02/25",
           "13_7",
           "PWC Insights"
          ],
          [
           "How India spends: A deep dive into consumer spending behaviour",
           "24/02/25",
           "13_8",
           "PWC Insights"
          ],
          [
           "How India spends: A deep dive into consumer spending behaviour",
           "24/02/25",
           "13_9",
           "PWC Insights"
          ],
          [
           "How India spends: A deep dive into consumer spending behaviour",
           "24/02/25",
           "13_10",
           "PWC Insights"
          ],
          [
           "How India spends: A deep dive into consumer spending behaviour",
           "24/02/25",
           "13_11",
           "PWC Insights"
          ],
          [
           "How India spends: A deep dive into consumer spending behaviour",
           "24/02/25",
           "13_12",
           "PWC Insights"
          ],
          [
           "How India spends: A deep dive into consumer spending behaviour",
           "24/02/25",
           "13_13",
           "PWC Insights"
          ],
          [
           "How India spends: A deep dive into consumer spending behaviour",
           "24/02/25",
           "13_14",
           "PWC Insights"
          ],
          [
           "How India spends: A deep dive into consumer spending behaviour",
           "24/02/25",
           "13_15",
           "PWC Insights"
          ],
          [
           "The future of quality in manufacturing",
           "21/02/25",
           "14_0",
           "PWC Insights"
          ],
          [
           "The future of quality in manufacturing",
           "21/02/25",
           "14_1",
           "PWC Insights"
          ],
          [
           "The future of quality in manufacturing",
           "21/02/25",
           "14_2",
           "PWC Insights"
          ],
          [
           "Powering automation with agents",
           "18/02/25",
           "15_0",
           "PWC Insights"
          ],
          [
           "Powering automation with agents",
           "18/02/25",
           "15_1",
           "PWC Insights"
          ],
          [
           "Powering automation with agents",
           "18/02/25",
           "15_2",
           "PWC Insights"
          ],
          [
           "Powering automation with agents",
           "18/02/25",
           "15_3",
           "PWC Insights"
          ],
          [
           "Deals at a glance: Annual review 2024",
           "14/02/25",
           "16_0",
           "PWC Insights"
          ],
          [
           "Deals at a glance: Annual review 2024",
           "14/02/25",
           "16_1",
           "PWC Insights"
          ],
          [
           "Deals at a glance: Annual review 2024",
           "14/02/25",
           "16_2",
           "PWC Insights"
          ],
          [
           "Deals at a glance: Annual review 2024",
           "14/02/25",
           "16_3",
           "PWC Insights"
          ]
         ],
         "hovertemplate": "source=%{customdata[3]}<br>x3d=%{x}<br>y3d=%{y}<br>z3d=%{z}<br>title=%{customdata[0]}<br>date=%{customdata[1]}<br>id=%{customdata[2]}<extra></extra>",
         "legendgroup": "PWC Insights",
         "marker": {
          "color": "#EF553B",
          "symbol": "circle"
         },
         "mode": "markers",
         "name": "PWC Insights",
         "scene": "scene",
         "showlegend": true,
         "type": "scatter3d",
         "x": {
          "bdata": "lw6fwPKHlsBeXZzAkUebwOjDmMDEPpfAySiZwE81nMBgKZ3AyhKSwAUFhj89IIY/5rRiPwO3Xz+fi0k/YsdCP8t78z7FBwM/thMUP8j3Mz+vNFE/gMmQPzmScD+T1D4/W19VPyohNj9L8lw/074aP+ydkEEWC49BuoKOQakWjkFEro5Bj6yNQZ1kjUE1fI9BjKGRQTv8kEFvHJFB9XORQbPBkEF759w+Q3v2Ps1Kuz6tbOI+LhALP7hyNj+Y8QM/GdUxPzbBzD4Ose0/wJAAQEm69z88mvs/cJATQEmrFUAAySVAvAAfQE4VGUC6/B1A7CoRQOUSBkCP6QFARtIHQMc7CkBJitU/ySKJwG3SecDjO2TAucdywMcId8DjTG/ATwFlwLy8Vz9Q7TY/g6mNP/shDj8=",
          "dtype": "f4"
         },
         "y": {
          "bdata": "eC0fQb+XHEH1ix1BmIgfQUa/IUFOKh5BA34jQYsyI0HkfyBBnWEeQS9jiEDPVoNAiniHQNPZikDhk3lA4quAQDx/ikB2k4ZAA96NQDexiUBAlYxA0SyNQMpFhUBvpU1AoyNOQJC0VUAJ70pAh284QMKsxcA+j7nAyY7AwNJcxMBWl8zAi8PKwD0FzsDd5LnADGa9wGZ8w8Cu7rzABEy+wPb1ycA8ox/AItYewOoOGsB2FhXA8o0VwC+JF8DgDRrAz7giwP00G0DPoQpAbwwNQBU89j+NXQFAn/PoP51lA0B11Ps/5kP3P3kz0T+nxt0/mAPVP2bzzz8IteI/cwnwP+b/AEDXUCBAlj3Pv2yhyb8/77+/6gANwEe4EsCC+g7ATRUAwJWqxj9QcdA//1HOP4K9yj8=",
          "dtype": "f4"
         },
         "z": {
          "bdata": "uWS7wJ9WvsBqF77AIKK2wIPKv8C8WbrAURfDwOZ1wcDuBr/A1rHFwC4IIkBlZSVABzE4QDMDL0APQxZAuE0WQBczHEB4hxpAWyoQQKXiBkDbaytAL0MsQDakFUBDBtw/IILnP8gEwz+sRK8/bdu9P/ZixEB6wMtAZbjCQF+RyUA5R8RAGjTHQDflxUDgy8VAmEbGQOfqzUBCZMhAwEfHQDY/x0Dt9QNB+vUEQeEQBkF49ARBJFQHQTxxCEGzowVBhu8AQXg3tz8cYlM/QQh3P8SsXz/7KI0/iu9rP4E7hD+NYoo/P7aRP0bHpD9Fjog/zBCWP7Vygj8NLi0/rdALPxYAGz+xxjg/5kNBP1UNVj9Id1o/0+mAP7xzej/qb4Y/dvyIP6Brkz8n6JE/dlKMP5blnj8=",
          "dtype": "f4"
         }
        }
       ],
       "layout": {
        "height": 800,
        "legend": {
         "title": {
          "text": "Source"
         },
         "tracegroupgap": 0
        },
        "scene": {
         "domain": {
          "x": [
           0,
           1
          ],
          "y": [
           0,
           1
          ]
         },
         "xaxis": {
          "title": {
           "text": "x3d"
          }
         },
         "yaxis": {
          "title": {
           "text": "y3d"
          }
         },
         "zaxis": {
          "title": {
           "text": "z3d"
          }
         }
        },
        "template": {
         "data": {
          "bar": [
           {
            "error_x": {
             "color": "#2a3f5f"
            },
            "error_y": {
             "color": "#2a3f5f"
            },
            "marker": {
             "line": {
              "color": "#E5ECF6",
              "width": 0.5
             },
             "pattern": {
              "fillmode": "overlay",
              "size": 10,
              "solidity": 0.2
             }
            },
            "type": "bar"
           }
          ],
          "barpolar": [
           {
            "marker": {
             "line": {
              "color": "#E5ECF6",
              "width": 0.5
             },
             "pattern": {
              "fillmode": "overlay",
              "size": 10,
              "solidity": 0.2
             }
            },
            "type": "barpolar"
           }
          ],
          "carpet": [
           {
            "aaxis": {
             "endlinecolor": "#2a3f5f",
             "gridcolor": "white",
             "linecolor": "white",
             "minorgridcolor": "white",
             "startlinecolor": "#2a3f5f"
            },
            "baxis": {
             "endlinecolor": "#2a3f5f",
             "gridcolor": "white",
             "linecolor": "white",
             "minorgridcolor": "white",
             "startlinecolor": "#2a3f5f"
            },
            "type": "carpet"
           }
          ],
          "choropleth": [
           {
            "colorbar": {
             "outlinewidth": 0,
             "ticks": ""
            },
            "type": "choropleth"
           }
          ],
          "contour": [
           {
            "colorbar": {
             "outlinewidth": 0,
             "ticks": ""
            },
            "colorscale": [
             [
              0,
              "#0d0887"
             ],
             [
              0.1111111111111111,
              "#46039f"
             ],
             [
              0.2222222222222222,
              "#7201a8"
             ],
             [
              0.3333333333333333,
              "#9c179e"
             ],
             [
              0.4444444444444444,
              "#bd3786"
             ],
             [
              0.5555555555555556,
              "#d8576b"
             ],
             [
              0.6666666666666666,
              "#ed7953"
             ],
             [
              0.7777777777777778,
              "#fb9f3a"
             ],
             [
              0.8888888888888888,
              "#fdca26"
             ],
             [
              1,
              "#f0f921"
             ]
            ],
            "type": "contour"
           }
          ],
          "contourcarpet": [
           {
            "colorbar": {
             "outlinewidth": 0,
             "ticks": ""
            },
            "type": "contourcarpet"
           }
          ],
          "heatmap": [
           {
            "colorbar": {
             "outlinewidth": 0,
             "ticks": ""
            },
            "colorscale": [
             [
              0,
              "#0d0887"
             ],
             [
              0.1111111111111111,
              "#46039f"
             ],
             [
              0.2222222222222222,
              "#7201a8"
             ],
             [
              0.3333333333333333,
              "#9c179e"
             ],
             [
              0.4444444444444444,
              "#bd3786"
             ],
             [
              0.5555555555555556,
              "#d8576b"
             ],
             [
              0.6666666666666666,
              "#ed7953"
             ],
             [
              0.7777777777777778,
              "#fb9f3a"
             ],
             [
              0.8888888888888888,
              "#fdca26"
             ],
             [
              1,
              "#f0f921"
             ]
            ],
            "type": "heatmap"
           }
          ],
          "histogram": [
           {
            "marker": {
             "pattern": {
              "fillmode": "overlay",
              "size": 10,
              "solidity": 0.2
             }
            },
            "type": "histogram"
           }
          ],
          "histogram2d": [
           {
            "colorbar": {
             "outlinewidth": 0,
             "ticks": ""
            },
            "colorscale": [
             [
              0,
              "#0d0887"
             ],
             [
              0.1111111111111111,
              "#46039f"
             ],
             [
              0.2222222222222222,
              "#7201a8"
             ],
             [
              0.3333333333333333,
              "#9c179e"
             ],
             [
              0.4444444444444444,
              "#bd3786"
             ],
             [
              0.5555555555555556,
              "#d8576b"
             ],
             [
              0.6666666666666666,
              "#ed7953"
             ],
             [
              0.7777777777777778,
              "#fb9f3a"
             ],
             [
              0.8888888888888888,
              "#fdca26"
             ],
             [
              1,
              "#f0f921"
             ]
            ],
            "type": "histogram2d"
           }
          ],
          "histogram2dcontour": [
           {
            "colorbar": {
             "outlinewidth": 0,
             "ticks": ""
            },
            "colorscale": [
             [
              0,
              "#0d0887"
             ],
             [
              0.1111111111111111,
              "#46039f"
             ],
             [
              0.2222222222222222,
              "#7201a8"
             ],
             [
              0.3333333333333333,
              "#9c179e"
             ],
             [
              0.4444444444444444,
              "#bd3786"
             ],
             [
              0.5555555555555556,
              "#d8576b"
             ],
             [
              0.6666666666666666,
              "#ed7953"
             ],
             [
              0.7777777777777778,
              "#fb9f3a"
             ],
             [
              0.8888888888888888,
              "#fdca26"
             ],
             [
              1,
              "#f0f921"
             ]
            ],
            "type": "histogram2dcontour"
           }
          ],
          "mesh3d": [
           {
            "colorbar": {
             "outlinewidth": 0,
             "ticks": ""
            },
            "type": "mesh3d"
           }
          ],
          "parcoords": [
           {
            "line": {
             "colorbar": {
              "outlinewidth": 0,
              "ticks": ""
             }
            },
            "type": "parcoords"
           }
          ],
          "pie": [
           {
            "automargin": true,
            "type": "pie"
           }
          ],
          "scatter": [
           {
            "fillpattern": {
             "fillmode": "overlay",
             "size": 10,
             "solidity": 0.2
            },
            "type": "scatter"
           }
          ],
          "scatter3d": [
           {
            "line": {
             "colorbar": {
              "outlinewidth": 0,
              "ticks": ""
             }
            },
            "marker": {
             "colorbar": {
              "outlinewidth": 0,
              "ticks": ""
             }
            },
            "type": "scatter3d"
           }
          ],
          "scattercarpet": [
           {
            "marker": {
             "colorbar": {
              "outlinewidth": 0,
              "ticks": ""
             }
            },
            "type": "scattercarpet"
           }
          ],
          "scattergeo": [
           {
            "marker": {
             "colorbar": {
              "outlinewidth": 0,
              "ticks": ""
             }
            },
            "type": "scattergeo"
           }
          ],
          "scattergl": [
           {
            "marker": {
             "colorbar": {
              "outlinewidth": 0,
              "ticks": ""
             }
            },
            "type": "scattergl"
           }
          ],
          "scattermap": [
           {
            "marker": {
             "colorbar": {
              "outlinewidth": 0,
              "ticks": ""
             }
            },
            "type": "scattermap"
           }
          ],
          "scattermapbox": [
           {
            "marker": {
             "colorbar": {
              "outlinewidth": 0,
              "ticks": ""
             }
            },
            "type": "scattermapbox"
           }
          ],
          "scatterpolar": [
           {
            "marker": {
             "colorbar": {
              "outlinewidth": 0,
              "ticks": ""
             }
            },
            "type": "scatterpolar"
           }
          ],
          "scatterpolargl": [
           {
            "marker": {
             "colorbar": {
              "outlinewidth": 0,
              "ticks": ""
             }
            },
            "type": "scatterpolargl"
           }
          ],
          "scatterternary": [
           {
            "marker": {
             "colorbar": {
              "outlinewidth": 0,
              "ticks": ""
             }
            },
            "type": "scatterternary"
           }
          ],
          "surface": [
           {
            "colorbar": {
             "outlinewidth": 0,
             "ticks": ""
            },
            "colorscale": [
             [
              0,
              "#0d0887"
             ],
             [
              0.1111111111111111,
              "#46039f"
             ],
             [
              0.2222222222222222,
              "#7201a8"
             ],
             [
              0.3333333333333333,
              "#9c179e"
             ],
             [
              0.4444444444444444,
              "#bd3786"
             ],
             [
              0.5555555555555556,
              "#d8576b"
             ],
             [
              0.6666666666666666,
              "#ed7953"
             ],
             [
              0.7777777777777778,
              "#fb9f3a"
             ],
             [
              0.8888888888888888,
              "#fdca26"
             ],
             [
              1,
              "#f0f921"
             ]
            ],
            "type": "surface"
           }
          ],
          "table": [
           {
            "cells": {
             "fill": {
              "color": "#EBF0F8"
             },
             "line": {
              "color": "white"
             }
            },
            "header": {
             "fill": {
              "color": "#C8D4E3"
             },
             "line": {
              "color": "white"
             }
            },
            "type": "table"
           }
          ]
         },
         "layout": {
          "annotationdefaults": {
           "arrowcolor": "#2a3f5f",
           "arrowhead": 0,
           "arrowwidth": 1
          },
          "autotypenumbers": "strict",
          "coloraxis": {
           "colorbar": {
            "outlinewidth": 0,
            "ticks": ""
           }
          },
          "colorscale": {
           "diverging": [
            [
             0,
             "#8e0152"
            ],
            [
             0.1,
             "#c51b7d"
            ],
            [
             0.2,
             "#de77ae"
            ],
            [
             0.3,
             "#f1b6da"
            ],
            [
             0.4,
             "#fde0ef"
            ],
            [
             0.5,
             "#f7f7f7"
            ],
            [
             0.6,
             "#e6f5d0"
            ],
            [
             0.7,
             "#b8e186"
            ],
            [
             0.8,
             "#7fbc41"
            ],
            [
             0.9,
             "#4d9221"
            ],
            [
             1,
             "#276419"
            ]
           ],
           "sequential": [
            [
             0,
             "#0d0887"
            ],
            [
             0.1111111111111111,
             "#46039f"
            ],
            [
             0.2222222222222222,
             "#7201a8"
            ],
            [
             0.3333333333333333,
             "#9c179e"
            ],
            [
             0.4444444444444444,
             "#bd3786"
            ],
            [
             0.5555555555555556,
             "#d8576b"
            ],
            [
             0.6666666666666666,
             "#ed7953"
            ],
            [
             0.7777777777777778,
             "#fb9f3a"
            ],
            [
             0.8888888888888888,
             "#fdca26"
            ],
            [
             1,
             "#f0f921"
            ]
           ],
           "sequentialminus": [
            [
             0,
             "#0d0887"
            ],
            [
             0.1111111111111111,
             "#46039f"
            ],
            [
             0.2222222222222222,
             "#7201a8"
            ],
            [
             0.3333333333333333,
             "#9c179e"
            ],
            [
             0.4444444444444444,
             "#bd3786"
            ],
            [
             0.5555555555555556,
             "#d8576b"
            ],
            [
             0.6666666666666666,
             "#ed7953"
            ],
            [
             0.7777777777777778,
             "#fb9f3a"
            ],
            [
             0.8888888888888888,
             "#fdca26"
            ],
            [
             1,
             "#f0f921"
            ]
           ]
          },
          "colorway": [
           "#636efa",
           "#EF553B",
           "#00cc96",
           "#ab63fa",
           "#FFA15A",
           "#19d3f3",
           "#FF6692",
           "#B6E880",
           "#FF97FF",
           "#FECB52"
          ],
          "font": {
           "color": "#2a3f5f"
          },
          "geo": {
           "bgcolor": "white",
           "lakecolor": "white",
           "landcolor": "#E5ECF6",
           "showlakes": true,
           "showland": true,
           "subunitcolor": "white"
          },
          "hoverlabel": {
           "align": "left"
          },
          "hovermode": "closest",
          "mapbox": {
           "style": "light"
          },
          "paper_bgcolor": "white",
          "plot_bgcolor": "#E5ECF6",
          "polar": {
           "angularaxis": {
            "gridcolor": "white",
            "linecolor": "white",
            "ticks": ""
           },
           "bgcolor": "#E5ECF6",
           "radialaxis": {
            "gridcolor": "white",
            "linecolor": "white",
            "ticks": ""
           }
          },
          "scene": {
           "xaxis": {
            "backgroundcolor": "#E5ECF6",
            "gridcolor": "white",
            "gridwidth": 2,
            "linecolor": "white",
            "showbackground": true,
            "ticks": "",
            "zerolinecolor": "white"
           },
           "yaxis": {
            "backgroundcolor": "#E5ECF6",
            "gridcolor": "white",
            "gridwidth": 2,
            "linecolor": "white",
            "showbackground": true,
            "ticks": "",
            "zerolinecolor": "white"
           },
           "zaxis": {
            "backgroundcolor": "#E5ECF6",
            "gridcolor": "white",
            "gridwidth": 2,
            "linecolor": "white",
            "showbackground": true,
            "ticks": "",
            "zerolinecolor": "white"
           }
          },
          "shapedefaults": {
           "line": {
            "color": "#2a3f5f"
           }
          },
          "ternary": {
           "aaxis": {
            "gridcolor": "white",
            "linecolor": "white",
            "ticks": ""
           },
           "baxis": {
            "gridcolor": "white",
            "linecolor": "white",
            "ticks": ""
           },
           "bgcolor": "#E5ECF6",
           "caxis": {
            "gridcolor": "white",
            "linecolor": "white",
            "ticks": ""
           }
          },
          "title": {
           "x": 0.05
          },
          "xaxis": {
           "automargin": true,
           "gridcolor": "white",
           "linecolor": "white",
           "ticks": "",
           "title": {
            "standoff": 15
           },
           "zerolinecolor": "white",
           "zerolinewidth": 2
          },
          "yaxis": {
           "automargin": true,
           "gridcolor": "white",
           "linecolor": "white",
           "ticks": "",
           "title": {
            "standoff": 15
           },
           "zerolinecolor": "white",
           "zerolinewidth": 2
          }
         }
        },
        "title": {
         "text": "3D Embedding Clusters Visualization (by Source)"
        },
        "width": 1000
       }
      }
     },
     "metadata": {},
     "output_type": "display_data"
    }
   ],
   "source": [
    "fig_3d = px.scatter_3d(\n",
    "    df, x=\"x3d\", y=\"y3d\", z=\"z3d\",\n",
    "    color=\"source\",\n",
    "    hover_data=[\"title\", \"date\", \"id\", \"source\"],\n",
    "    title=\"3D Embedding Clusters Visualization (by Source)\"\n",
    ")\n",
    "\n",
    "fig_3d.update_layout(\n",
    "    legend_title=\"Source\",\n",
    "    width=1000,\n",
    "    height=800\n",
    ")\n",
    "\n",
    "fig_3d.show()\n"
   ]
  },
  {
   "cell_type": "code",
   "execution_count": null,
   "metadata": {},
   "outputs": [],
   "source": []
  }
 ],
 "metadata": {
  "kernelspec": {
   "display_name": "rl_env",
   "language": "python",
   "name": "python3"
  },
  "language_info": {
   "codemirror_mode": {
    "name": "ipython",
    "version": 3
   },
   "file_extension": ".py",
   "mimetype": "text/x-python",
   "name": "python",
   "nbconvert_exporter": "python",
   "pygments_lexer": "ipython3",
   "version": "3.9.21"
  }
 },
 "nbformat": 4,
 "nbformat_minor": 2
}
