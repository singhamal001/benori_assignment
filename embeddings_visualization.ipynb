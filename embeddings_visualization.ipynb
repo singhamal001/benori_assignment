{
 "cells": [
  {
   "cell_type": "code",
   "execution_count": 33,
   "metadata": {},
   "outputs": [],
   "source": [
    "import json\n",
    "import pandas as pd\n",
    "\n",
    "with open(\"collection_export.json\", \"r\") as f:\n",
    "    json_data = json.load(f)\n",
    "\n",
    "df = pd.DataFrame({\n",
    "    \"embedding\": json_data[\"embeddings\"],\n",
    "    \"source\": [meta[\"source\"] for meta in json_data[\"metadatas\"]],\n",
    "    \"title\": [meta.get(\"title\", \"\") for meta in json_data[\"metadatas\"]],\n",
    "    \"date\": [meta.get(\"date\", \"\") for meta in json_data[\"metadatas\"]],\n",
    "    \"category\": [meta.get(\"category\", \"\") for meta in json_data[\"metadatas\"]],\n",
    "    \"niche\": [meta.get(\"niche\", \"\") for meta in json_data[\"metadatas\"]],\n",
    "    \"key_themes\": [meta.get(\"key_themes\", \"\") for meta in json_data[\"metadatas\"]],\n",
    "    \"recurring_topics\": [meta.get(\"recurring_topics\", \"\") for meta in json_data[\"metadatas\"]],\n",
    "    \"document\": json_data[\"documents\"],\n",
    "    \"id\": json_data[\"ids\"]\n",
    "})\n"
   ]
  },
  {
   "cell_type": "code",
   "execution_count": 34,
   "metadata": {},
   "outputs": [
    {
     "name": "stderr",
     "output_type": "stream",
     "text": [
      "c:\\Users\\HP\\anaconda3\\envs\\rl_env\\lib\\site-packages\\sklearn\\utils\\deprecation.py:151: FutureWarning:\n",
      "\n",
      "'force_all_finite' was renamed to 'ensure_all_finite' in 1.6 and will be removed in 1.8.\n",
      "\n",
      "c:\\Users\\HP\\anaconda3\\envs\\rl_env\\lib\\site-packages\\umap\\umap_.py:1952: UserWarning:\n",
      "\n",
      "n_jobs value 1 overridden to 1 by setting random_state. Use no seed for parallelism.\n",
      "\n"
     ]
    }
   ],
   "source": [
    "import umap\n",
    "\n",
    "reducer = umap.UMAP(n_components=2, random_state=42)\n",
    "embeddings_2d = reducer.fit_transform(df[\"embedding\"].tolist())\n",
    "\n",
    "df[\"x\"] = embeddings_2d[:, 0]\n",
    "df[\"y\"] = embeddings_2d[:, 1]\n"
   ]
  },
  {
   "cell_type": "code",
   "execution_count": 35,
   "metadata": {},
   "outputs": [
    {
     "data": {
      "application/vnd.plotly.v1+json": {
       "config": {
        "plotlyServerURL": "https://plot.ly"
       },
       "data": [
        {
         "customdata": [
          [
           "Issue no. 103 | February 2025",
           "02/28/25",
           "KPMG Insights",
           "Economy and Growth",
           "Inflation Trends"
          ],
          [
           "Issue no. 103 | February 2025",
           "02/28/25",
           "KPMG Insights",
           "Economy and Growth",
           "Inflation Trends"
          ],
          [
           "Issue no. 103 | February 2025",
           "02/28/25",
           "KPMG Insights",
           "Economy and Growth",
           "Inflation Trends"
          ],
          [
           "Issue no. 103 | February 2025",
           "02/28/25",
           "KPMG Insights",
           "Economy and Growth",
           "Inflation Trends"
          ],
          [
           "Issue no. 103 | February 2025",
           "02/28/25",
           "KPMG Insights",
           "Economy and Growth",
           "Inflation Trends"
          ],
          [
           "Issue no. 103 | February 2025",
           "02/28/25",
           "KPMG Insights",
           "Economy and Growth",
           "Inflation Trends"
          ],
          [
           "Issue no. 103 | February 2025",
           "02/28/25",
           "KPMG Insights",
           "Economy and Growth",
           "Inflation Trends"
          ],
          [
           "Issue no. 103 | February 2025",
           "02/28/25",
           "KPMG Insights",
           "Economy and Growth",
           "Inflation Trends"
          ],
          [
           "Food and Nutritional Security in India",
           "02/20/25",
           "KPMG Insights",
           "India (Country)",
           "Agricultural Policy"
          ],
          [
           "Food and Nutritional Security in India",
           "02/20/25",
           "KPMG Insights",
           "India (Country)",
           "Agricultural Policy"
          ],
          [
           "Food and Nutritional Security in India",
           "02/20/25",
           "KPMG Insights",
           "India (Country)",
           "Agricultural Policy"
          ],
          [
           "Financial Crime Bulletin",
           "02/10/25",
           "KPMG Insights",
           "Risk Regulation",
           "Financial Compliance"
          ],
          [
           "KPMG global tech report – industrial manufacturing insights",
           "02/07/25",
           "KPMG Insights",
           "Technology",
           "Industrial IoT"
          ],
          [
           "KPMG global tech report – industrial manufacturing insights",
           "02/07/25",
           "KPMG Insights",
           "Technology",
           "Industrial IoT"
          ],
          [
           "KPMG global tech report – industrial manufacturing insights",
           "02/07/25",
           "KPMG Insights",
           "Technology",
           "Industrial IoT"
          ],
          [
           "KPMG global tech report – industrial manufacturing insights",
           "02/07/25",
           "KPMG Insights",
           "Technology",
           "Industrial IoT"
          ],
          [
           "KPMG global tech report – industrial manufacturing insights",
           "02/07/25",
           "KPMG Insights",
           "Technology",
           "Industrial IoT"
          ],
          [
           "KPMG global tech report – industrial manufacturing insights",
           "02/07/25",
           "KPMG Insights",
           "Technology",
           "Industrial IoT"
          ],
          [
           "KPMG global tech report – industrial manufacturing insights",
           "02/07/25",
           "KPMG Insights",
           "Technology",
           "Industrial IoT"
          ],
          [
           "KPMG global tech report – industrial manufacturing insights",
           "02/07/25",
           "KPMG Insights",
           "Technology",
           "Industrial IoT"
          ],
          [
           "KPMG global tech report: Technology insights",
           "02/07/25",
           "KPMG Insights",
           "Technology",
           "Emerging Technologies"
          ],
          [
           "KPMG global tech report: Technology insights",
           "02/07/25",
           "KPMG Insights",
           "Technology",
           "Emerging Technologies"
          ],
          [
           "KPMG global tech report: Technology insights",
           "02/07/25",
           "KPMG Insights",
           "Technology",
           "Emerging Technologies"
          ],
          [
           "KPMG global tech report: Technology insights",
           "02/07/25",
           "KPMG Insights",
           "Technology",
           "Emerging Technologies"
          ],
          [
           "KPMG global tech report: Technology insights",
           "02/07/25",
           "KPMG Insights",
           "Technology",
           "Emerging Technologies"
          ],
          [
           "KPMG global tech report: Technology insights",
           "02/07/25",
           "KPMG Insights",
           "Technology",
           "Emerging Technologies"
          ],
          [
           "KPMG global tech report: Technology insights",
           "02/07/25",
           "KPMG Insights",
           "Technology",
           "Emerging Technologies"
          ],
          [
           "KPMG global tech report: energy insights",
           "02/07/25",
           "KPMG Insights",
           "Energy Renewables",
           "Sustainable Energy Solutions"
          ],
          [
           "KPMG global tech report: energy insights",
           "02/07/25",
           "KPMG Insights",
           "Energy Renewables",
           "Sustainable Energy Solutions"
          ],
          [
           "KPMG global tech report: energy insights",
           "02/07/25",
           "KPMG Insights",
           "Energy Renewables",
           "Sustainable Energy Solutions"
          ],
          [
           "KPMG global tech report: energy insights",
           "02/07/25",
           "KPMG Insights",
           "Energy Renewables",
           "Sustainable Energy Solutions"
          ],
          [
           "KPMG global tech report: energy insights",
           "02/07/25",
           "KPMG Insights",
           "Energy Renewables",
           "Sustainable Energy Solutions"
          ],
          [
           "KPMG global tech report: energy insights",
           "02/07/25",
           "KPMG Insights",
           "Energy Renewables",
           "Sustainable Energy Solutions"
          ],
          [
           "KPMG global tech report: energy insights",
           "02/07/25",
           "KPMG Insights",
           "Energy Renewables",
           "Sustainable Energy Solutions"
          ],
          [
           "KPMG global tech report 2024",
           "02/06/25",
           "KPMG Insights",
           "Technology",
           "Emerging Technologies"
          ],
          [
           "KPMG global tech report 2024",
           "02/06/25",
           "KPMG Insights",
           "Technology",
           "Emerging Technologies"
          ],
          [
           "KPMG global tech report 2024",
           "02/06/25",
           "KPMG Insights",
           "Technology",
           "Emerging Technologies"
          ],
          [
           "KPMG global tech report 2024",
           "02/06/25",
           "KPMG Insights",
           "Technology",
           "Emerging Technologies"
          ],
          [
           "KPMG global tech report 2024",
           "02/06/25",
           "KPMG Insights",
           "Technology",
           "Emerging Technologies"
          ],
          [
           "KPMG global tech report 2024",
           "02/06/25",
           "KPMG Insights",
           "Technology",
           "Emerging Technologies"
          ],
          [
           "KPMG global tech report 2024",
           "02/06/25",
           "KPMG Insights",
           "Technology",
           "Emerging Technologies"
          ]
         ],
         "hovertemplate": "source=%{customdata[2]}<br>x=%{x}<br>y=%{y}<br>title=%{customdata[0]}<br>date=%{customdata[1]}<br>category=%{customdata[3]}<br>niche=%{customdata[4]}<extra></extra>",
         "legendgroup": "KPMG Insights",
         "marker": {
          "color": "#636efa",
          "symbol": "circle"
         },
         "mode": "markers",
         "name": "KPMG Insights",
         "orientation": "v",
         "showlegend": true,
         "type": "scatter",
         "x": {
          "bdata": "YmZnwJQsYsCnSWfA6/dtwJGIcMCzs3DAFBR+wE6LbsD9ZsPAq/u8wEfmu8B0SJbAsy2WwPKnpcBqhrXAF7LEwC3CucBQQqrACmGVwDpekMCIM5XAVBOnwE73tcBDOcLA1j61wCulrsAcno3AeOeSwKz2pMAeMrjA76TCwCW3uMDJca/Ad++PwH6zj8AOxarAhFuzwBnTx8CGobjALqaqwDWoi8A=",
          "dtype": "f4"
         },
         "xaxis": "x",
         "y": {
          "bdata": "qSj3QI0u9EB4RupAvsjkQIv47kCekvNA1hT9QN+i7kC8nCVBrAskQa1mJEGSgApBXJdUQCavf0CWinVAos1cQJ4xN0AOBjdAdLc7QHljNkBk7WtARYh9QGw8ZUAcLVZAQdg7QCzaUUCm7TNAO41lQEHseUCQJW9A+DRaQKf/OkDzP0JAcsE9QNp4Y0BRmYFAeZNwQLayZ0B3/D9A4nBEQEi8QUA=",
          "dtype": "f4"
         },
         "yaxis": "y"
        },
        {
         "customdata": [
          [
           "Quality measures and standards for transitioning to value-based healthcare in India",
           "07/03/25",
           "PWC Insights",
           "Healthcare",
           "Value-Based Care"
          ],
          [
           "Quality measures and standards for transitioning to value-based healthcare in India",
           "07/03/25",
           "PWC Insights",
           "Healthcare",
           "Value-Based Care"
          ],
          [
           "Quality measures and standards for transitioning to value-based healthcare in India",
           "07/03/25",
           "PWC Insights",
           "Healthcare",
           "Value-Based Care"
          ],
          [
           "Quality measures and standards for transitioning to value-based healthcare in India",
           "07/03/25",
           "PWC Insights",
           "Healthcare",
           "Value-Based Care"
          ],
          [
           "Quality measures and standards for transitioning to value-based healthcare in India",
           "07/03/25",
           "PWC Insights",
           "Healthcare",
           "Value-Based Care"
          ],
          [
           "Quality measures and standards for transitioning to value-based healthcare in India",
           "07/03/25",
           "PWC Insights",
           "Healthcare",
           "Value-Based Care"
          ],
          [
           "Quality measures and standards for transitioning to value-based healthcare in India",
           "07/03/25",
           "PWC Insights",
           "Healthcare",
           "Value-Based Care"
          ],
          [
           "Quality measures and standards for transitioning to value-based healthcare in India",
           "07/03/25",
           "PWC Insights",
           "Healthcare",
           "Value-Based Care"
          ],
          [
           "Quality measures and standards for transitioning to value-based healthcare in India",
           "07/03/25",
           "PWC Insights",
           "Healthcare",
           "Value-Based Care"
          ],
          [
           "Quality measures and standards for transitioning to value-based healthcare in India",
           "07/03/25",
           "PWC Insights",
           "Healthcare",
           "Value-Based Care"
          ],
          [
           "The mutual funds route to Viksit Bharat @2047",
           "05/03/25",
           "PWC Insights",
           "Economy and Growth",
           "Investment Strategies"
          ],
          [
           "The mutual funds route to Viksit Bharat @2047",
           "05/03/25",
           "PWC Insights",
           "Economy and Growth",
           "Investment Strategies"
          ],
          [
           "The mutual funds route to Viksit Bharat @2047",
           "05/03/25",
           "PWC Insights",
           "Economy and Growth",
           "Investment Strategies"
          ],
          [
           "The mutual funds route to Viksit Bharat @2047",
           "05/03/25",
           "PWC Insights",
           "Economy and Growth",
           "Investment Strategies"
          ],
          [
           "The mutual funds route to Viksit Bharat @2047",
           "05/03/25",
           "PWC Insights",
           "Economy and Growth",
           "Investment Strategies"
          ],
          [
           "The mutual funds route to Viksit Bharat @2047",
           "05/03/25",
           "PWC Insights",
           "Economy and Growth",
           "Investment Strategies"
          ],
          [
           "The mutual funds route to Viksit Bharat @2047",
           "05/03/25",
           "PWC Insights",
           "Economy and Growth",
           "Investment Strategies"
          ],
          [
           "The mutual funds route to Viksit Bharat @2047",
           "05/03/25",
           "PWC Insights",
           "Economy and Growth",
           "Investment Strategies"
          ],
          [
           "The mutual funds route to Viksit Bharat @2047",
           "05/03/25",
           "PWC Insights",
           "Economy and Growth",
           "Investment Strategies"
          ],
          [
           "The mutual funds route to Viksit Bharat @2047",
           "05/03/25",
           "PWC Insights",
           "Economy and Growth",
           "Investment Strategies"
          ],
          [
           "The mutual funds route to Viksit Bharat @2047",
           "05/03/25",
           "PWC Insights",
           "Economy and Growth",
           "Investment Strategies"
          ],
          [
           "The mutual funds route to Viksit Bharat @2047",
           "05/03/25",
           "PWC Insights",
           "Economy and Growth",
           "Investment Strategies"
          ],
          [
           "The mutual funds route to Viksit Bharat @2047",
           "05/03/25",
           "PWC Insights",
           "Economy and Growth",
           "Investment Strategies"
          ],
          [
           "Financial health: Transcending from access to impact",
           "04/03/25",
           "PWC Insights",
           "Economy and Growth",
           "Financial Inclusion"
          ],
          [
           "Financial health: Transcending from access to impact",
           "04/03/25",
           "PWC Insights",
           "Economy and Growth",
           "Financial Inclusion"
          ],
          [
           "Financial health: Transcending from access to impact",
           "04/03/25",
           "PWC Insights",
           "Economy and Growth",
           "Financial Inclusion"
          ],
          [
           "Financial health: Transcending from access to impact",
           "04/03/25",
           "PWC Insights",
           "Economy and Growth",
           "Financial Inclusion"
          ],
          [
           "Financial health: Transcending from access to impact",
           "04/03/25",
           "PWC Insights",
           "Economy and Growth",
           "Financial Inclusion"
          ],
          [
           "Towards a climate-resilient future: Strategies for the Andaman and Nicobar Islands",
           "04/03/25",
           "PWC Insights",
           "ESG",
           "Climate Adaptation Strategies"
          ],
          [
           "Towards a climate-resilient future: Strategies for the Andaman and Nicobar Islands",
           "04/03/25",
           "PWC Insights",
           "ESG",
           "Climate Adaptation Strategies"
          ],
          [
           "Towards a climate-resilient future: Strategies for the Andaman and Nicobar Islands",
           "04/03/25",
           "PWC Insights",
           "ESG",
           "Climate Adaptation Strategies"
          ],
          [
           "Towards a climate-resilient future: Strategies for the Andaman and Nicobar Islands",
           "04/03/25",
           "PWC Insights",
           "ESG",
           "Climate Adaptation Strategies"
          ],
          [
           "Towards a climate-resilient future: Strategies for the Andaman and Nicobar Islands",
           "04/03/25",
           "PWC Insights",
           "ESG",
           "Climate Adaptation Strategies"
          ],
          [
           "Towards a climate-resilient future: Strategies for the Andaman and Nicobar Islands",
           "04/03/25",
           "PWC Insights",
           "ESG",
           "Climate Adaptation Strategies"
          ],
          [
           "Towards a climate-resilient future: Strategies for the Andaman and Nicobar Islands",
           "04/03/25",
           "PWC Insights",
           "ESG",
           "Climate Adaptation Strategies"
          ],
          [
           "Towards a climate-resilient future: Strategies for the Andaman and Nicobar Islands",
           "04/03/25",
           "PWC Insights",
           "ESG",
           "Climate Adaptation Strategies"
          ],
          [
           "Towards a climate-resilient future: Strategies for the Andaman and Nicobar Islands",
           "04/03/25",
           "PWC Insights",
           "ESG",
           "Climate Adaptation Strategies"
          ],
          [
           "Towards a climate-resilient future: Strategies for the Andaman and Nicobar Islands",
           "04/03/25",
           "PWC Insights",
           "ESG",
           "Climate Adaptation Strategies"
          ],
          [
           "Towards a climate-resilient future: Strategies for the Andaman and Nicobar Islands",
           "04/03/25",
           "PWC Insights",
           "ESG",
           "Climate Adaptation Strategies"
          ],
          [
           "Towards a climate-resilient future: Strategies for the Andaman and Nicobar Islands",
           "04/03/25",
           "PWC Insights",
           "ESG",
           "Climate Adaptation Strategies"
          ],
          [
           "Towards a climate-resilient future: Strategies for the Andaman and Nicobar Islands",
           "04/03/25",
           "PWC Insights",
           "ESG",
           "Climate Adaptation Strategies"
          ],
          [
           "The retail reinvention paradigm",
           "27/02/25",
           "PWC Insights",
           "Transformation",
           "Retail Technology"
          ],
          [
           "The retail reinvention paradigm",
           "27/02/25",
           "PWC Insights",
           "Transformation",
           "Retail Technology"
          ],
          [
           "The retail reinvention paradigm",
           "27/02/25",
           "PWC Insights",
           "Transformation",
           "Retail Technology"
          ],
          [
           "The retail reinvention paradigm",
           "27/02/25",
           "PWC Insights",
           "Transformation",
           "Retail Technology"
          ],
          [
           "The retail reinvention paradigm",
           "27/02/25",
           "PWC Insights",
           "Transformation",
           "Retail Technology"
          ],
          [
           "The retail reinvention paradigm",
           "27/02/25",
           "PWC Insights",
           "Transformation",
           "Retail Technology"
          ],
          [
           "The retail reinvention paradigm",
           "27/02/25",
           "PWC Insights",
           "Transformation",
           "Retail Technology"
          ],
          [
           "The retail reinvention paradigm",
           "27/02/25",
           "PWC Insights",
           "Transformation",
           "Retail Technology"
          ],
          [
           "PwC India's Financial Services (FS) Risk Symposium: Ministry of Finance keynote session - February 2025",
           "25/02/25",
           "PWC Insights",
           "Risk Regulation",
           "Financial Risk Management"
          ],
          [
           "How India spends: A deep dive into consumer spending behaviour",
           "24/02/25",
           "PWC Insights",
           "Economy and Growth",
           "Consumer Behavior"
          ],
          [
           "How India spends: A deep dive into consumer spending behaviour",
           "24/02/25",
           "PWC Insights",
           "Economy and Growth",
           "Consumer Behavior"
          ],
          [
           "How India spends: A deep dive into consumer spending behaviour",
           "24/02/25",
           "PWC Insights",
           "Economy and Growth",
           "Consumer Behavior"
          ],
          [
           "How India spends: A deep dive into consumer spending behaviour",
           "24/02/25",
           "PWC Insights",
           "Economy and Growth",
           "Consumer Behavior"
          ],
          [
           "How India spends: A deep dive into consumer spending behaviour",
           "24/02/25",
           "PWC Insights",
           "Economy and Growth",
           "Consumer Behavior"
          ],
          [
           "How India spends: A deep dive into consumer spending behaviour",
           "24/02/25",
           "PWC Insights",
           "Economy and Growth",
           "Consumer Behavior"
          ],
          [
           "How India spends: A deep dive into consumer spending behaviour",
           "24/02/25",
           "PWC Insights",
           "Economy and Growth",
           "Consumer Behavior"
          ],
          [
           "How India spends: A deep dive into consumer spending behaviour",
           "24/02/25",
           "PWC Insights",
           "Economy and Growth",
           "Consumer Behavior"
          ],
          [
           "How India spends: A deep dive into consumer spending behaviour",
           "24/02/25",
           "PWC Insights",
           "Economy and Growth",
           "Consumer Behavior"
          ],
          [
           "How India spends: A deep dive into consumer spending behaviour",
           "24/02/25",
           "PWC Insights",
           "Economy and Growth",
           "Consumer Behavior"
          ],
          [
           "How India spends: A deep dive into consumer spending behaviour",
           "24/02/25",
           "PWC Insights",
           "Economy and Growth",
           "Consumer Behavior"
          ],
          [
           "How India spends: A deep dive into consumer spending behaviour",
           "24/02/25",
           "PWC Insights",
           "Economy and Growth",
           "Consumer Behavior"
          ],
          [
           "How India spends: A deep dive into consumer spending behaviour",
           "24/02/25",
           "PWC Insights",
           "Economy and Growth",
           "Consumer Behavior"
          ],
          [
           "How India spends: A deep dive into consumer spending behaviour",
           "24/02/25",
           "PWC Insights",
           "Economy and Growth",
           "Consumer Behavior"
          ],
          [
           "How India spends: A deep dive into consumer spending behaviour",
           "24/02/25",
           "PWC Insights",
           "Economy and Growth",
           "Consumer Behavior"
          ],
          [
           "How India spends: A deep dive into consumer spending behaviour",
           "24/02/25",
           "PWC Insights",
           "Economy and Growth",
           "Consumer Behavior"
          ],
          [
           "The future of quality in manufacturing",
           "21/02/25",
           "PWC Insights",
           "Transformation",
           "Quality Management Systems"
          ],
          [
           "The future of quality in manufacturing",
           "21/02/25",
           "PWC Insights",
           "Transformation",
           "Quality Management Systems"
          ],
          [
           "The future of quality in manufacturing",
           "21/02/25",
           "PWC Insights",
           "Transformation",
           "Quality Management Systems"
          ],
          [
           "Powering automation with agents",
           "18/02/25",
           "PWC Insights",
           "Technology",
           "Robotic Process Automation"
          ],
          [
           "Powering automation with agents",
           "18/02/25",
           "PWC Insights",
           "Technology",
           "Robotic Process Automation"
          ],
          [
           "Powering automation with agents",
           "18/02/25",
           "PWC Insights",
           "Technology",
           "Robotic Process Automation"
          ],
          [
           "Powering automation with agents",
           "18/02/25",
           "PWC Insights",
           "Technology",
           "Robotic Process Automation"
          ],
          [
           "Deals at a glance: Annual review 2024",
           "14/02/25",
           "PWC Insights",
           "Economy and Growth",
           "Market Trends"
          ],
          [
           "Deals at a glance: Annual review 2024",
           "14/02/25",
           "PWC Insights",
           "Economy and Growth",
           "Market Trends"
          ],
          [
           "Deals at a glance: Annual review 2024",
           "14/02/25",
           "PWC Insights",
           "Economy and Growth",
           "Market Trends"
          ],
          [
           "Deals at a glance: Annual review 2024",
           "14/02/25",
           "PWC Insights",
           "Economy and Growth",
           "Market Trends"
          ]
         ],
         "hovertemplate": "source=%{customdata[2]}<br>x=%{x}<br>y=%{y}<br>title=%{customdata[0]}<br>date=%{customdata[1]}<br>category=%{customdata[3]}<br>niche=%{customdata[4]}<extra></extra>",
         "legendgroup": "PWC Insights",
         "marker": {
          "color": "#EF553B",
          "symbol": "circle"
         },
         "mode": "markers",
         "name": "PWC Insights",
         "orientation": "v",
         "showlegend": true,
         "type": "scatter",
         "x": {
          "bdata": "hpSLwE3MiMAHtIXAqaGSwJ5ehsBjMojAQYOEwOatgcCvo4zAs9eDwPXv5cD4vtrA0EfpwIzh3MAn49HAp53WwP1M3sAO0eHAhWTlwAuh4cDTXOjASf/dwNO2zsD3yrPApB+0wAIwssCT/anAygqrwDklwUBdBcVAljnJQL9xzUA8jcxA0uXJQIOhy0BVqcdAqF/NQOuZzEApNsRAI7/IQNZbvkDV0ZI+OGjxPpvduj4mVNo+7W0UPxO/Aj9qM4w++8t/PpyTnsADOILAY7R8wO9NcsD7Lm3AYMNjwFzsYcC6lF3AFSlowLvNccAcBGHAI913wCOBesBpooHAqyeBwGbzacBGX4jAJ+qiwAcnp8AAGqXAPaC4wAWlu8AUfr3ARw+zwCIUeMCc4ILALBN1wIKmecA=",
          "dtype": "f4"
         },
         "xaxis": "x",
         "y": {
          "bdata": "W5jgwO185MAPnd7AQHLowJXW4cD17OHA16HowALk6sDGsezAaUngwJyDH0EnAiRBh8UgQRy1HEHC1yBBUt8fQcpSIkGRhSFBXTYlQUy+IkFT1SZB17IcQQadHkG9jxlBK14bQaG0GkFAYBpBnAgWQfbZv0DMVrxAv0/DQCn0ykDJ6MdAhMjHQD4oyEAej75ABgiyQEQCukD4gLRAPhW4QM0EyUBKlIhBPq2JQdfmiEGvs4hB4DSJQc9xikHNLIdBVeuGQb0mEEFCmCVBLNskQfclK0HCuSdBqm0qQRTmKkGcIS1BIGQwQXEyMEFSDDJB8BcyQTKyL0GmIipBb3MoQe61I0GkAyFBfIQgQCz9CEC0zgNAxo8IQJZ7DEBZDw1AAXXzP2EiFUEZzBFB9ogYQSjDD0E=",
          "dtype": "f4"
         },
         "yaxis": "y"
        }
       ],
       "layout": {
        "height": 480,
        "legend": {
         "title": {
          "text": "Source"
         },
         "tracegroupgap": 0
        },
        "template": {
         "data": {
          "bar": [
           {
            "error_x": {
             "color": "#2a3f5f"
            },
            "error_y": {
             "color": "#2a3f5f"
            },
            "marker": {
             "line": {
              "color": "#E5ECF6",
              "width": 0.5
             },
             "pattern": {
              "fillmode": "overlay",
              "size": 10,
              "solidity": 0.2
             }
            },
            "type": "bar"
           }
          ],
          "barpolar": [
           {
            "marker": {
             "line": {
              "color": "#E5ECF6",
              "width": 0.5
             },
             "pattern": {
              "fillmode": "overlay",
              "size": 10,
              "solidity": 0.2
             }
            },
            "type": "barpolar"
           }
          ],
          "carpet": [
           {
            "aaxis": {
             "endlinecolor": "#2a3f5f",
             "gridcolor": "white",
             "linecolor": "white",
             "minorgridcolor": "white",
             "startlinecolor": "#2a3f5f"
            },
            "baxis": {
             "endlinecolor": "#2a3f5f",
             "gridcolor": "white",
             "linecolor": "white",
             "minorgridcolor": "white",
             "startlinecolor": "#2a3f5f"
            },
            "type": "carpet"
           }
          ],
          "choropleth": [
           {
            "colorbar": {
             "outlinewidth": 0,
             "ticks": ""
            },
            "type": "choropleth"
           }
          ],
          "contour": [
           {
            "colorbar": {
             "outlinewidth": 0,
             "ticks": ""
            },
            "colorscale": [
             [
              0,
              "#0d0887"
             ],
             [
              0.1111111111111111,
              "#46039f"
             ],
             [
              0.2222222222222222,
              "#7201a8"
             ],
             [
              0.3333333333333333,
              "#9c179e"
             ],
             [
              0.4444444444444444,
              "#bd3786"
             ],
             [
              0.5555555555555556,
              "#d8576b"
             ],
             [
              0.6666666666666666,
              "#ed7953"
             ],
             [
              0.7777777777777778,
              "#fb9f3a"
             ],
             [
              0.8888888888888888,
              "#fdca26"
             ],
             [
              1,
              "#f0f921"
             ]
            ],
            "type": "contour"
           }
          ],
          "contourcarpet": [
           {
            "colorbar": {
             "outlinewidth": 0,
             "ticks": ""
            },
            "type": "contourcarpet"
           }
          ],
          "heatmap": [
           {
            "colorbar": {
             "outlinewidth": 0,
             "ticks": ""
            },
            "colorscale": [
             [
              0,
              "#0d0887"
             ],
             [
              0.1111111111111111,
              "#46039f"
             ],
             [
              0.2222222222222222,
              "#7201a8"
             ],
             [
              0.3333333333333333,
              "#9c179e"
             ],
             [
              0.4444444444444444,
              "#bd3786"
             ],
             [
              0.5555555555555556,
              "#d8576b"
             ],
             [
              0.6666666666666666,
              "#ed7953"
             ],
             [
              0.7777777777777778,
              "#fb9f3a"
             ],
             [
              0.8888888888888888,
              "#fdca26"
             ],
             [
              1,
              "#f0f921"
             ]
            ],
            "type": "heatmap"
           }
          ],
          "histogram": [
           {
            "marker": {
             "pattern": {
              "fillmode": "overlay",
              "size": 10,
              "solidity": 0.2
             }
            },
            "type": "histogram"
           }
          ],
          "histogram2d": [
           {
            "colorbar": {
             "outlinewidth": 0,
             "ticks": ""
            },
            "colorscale": [
             [
              0,
              "#0d0887"
             ],
             [
              0.1111111111111111,
              "#46039f"
             ],
             [
              0.2222222222222222,
              "#7201a8"
             ],
             [
              0.3333333333333333,
              "#9c179e"
             ],
             [
              0.4444444444444444,
              "#bd3786"
             ],
             [
              0.5555555555555556,
              "#d8576b"
             ],
             [
              0.6666666666666666,
              "#ed7953"
             ],
             [
              0.7777777777777778,
              "#fb9f3a"
             ],
             [
              0.8888888888888888,
              "#fdca26"
             ],
             [
              1,
              "#f0f921"
             ]
            ],
            "type": "histogram2d"
           }
          ],
          "histogram2dcontour": [
           {
            "colorbar": {
             "outlinewidth": 0,
             "ticks": ""
            },
            "colorscale": [
             [
              0,
              "#0d0887"
             ],
             [
              0.1111111111111111,
              "#46039f"
             ],
             [
              0.2222222222222222,
              "#7201a8"
             ],
             [
              0.3333333333333333,
              "#9c179e"
             ],
             [
              0.4444444444444444,
              "#bd3786"
             ],
             [
              0.5555555555555556,
              "#d8576b"
             ],
             [
              0.6666666666666666,
              "#ed7953"
             ],
             [
              0.7777777777777778,
              "#fb9f3a"
             ],
             [
              0.8888888888888888,
              "#fdca26"
             ],
             [
              1,
              "#f0f921"
             ]
            ],
            "type": "histogram2dcontour"
           }
          ],
          "mesh3d": [
           {
            "colorbar": {
             "outlinewidth": 0,
             "ticks": ""
            },
            "type": "mesh3d"
           }
          ],
          "parcoords": [
           {
            "line": {
             "colorbar": {
              "outlinewidth": 0,
              "ticks": ""
             }
            },
            "type": "parcoords"
           }
          ],
          "pie": [
           {
            "automargin": true,
            "type": "pie"
           }
          ],
          "scatter": [
           {
            "fillpattern": {
             "fillmode": "overlay",
             "size": 10,
             "solidity": 0.2
            },
            "type": "scatter"
           }
          ],
          "scatter3d": [
           {
            "line": {
             "colorbar": {
              "outlinewidth": 0,
              "ticks": ""
             }
            },
            "marker": {
             "colorbar": {
              "outlinewidth": 0,
              "ticks": ""
             }
            },
            "type": "scatter3d"
           }
          ],
          "scattercarpet": [
           {
            "marker": {
             "colorbar": {
              "outlinewidth": 0,
              "ticks": ""
             }
            },
            "type": "scattercarpet"
           }
          ],
          "scattergeo": [
           {
            "marker": {
             "colorbar": {
              "outlinewidth": 0,
              "ticks": ""
             }
            },
            "type": "scattergeo"
           }
          ],
          "scattergl": [
           {
            "marker": {
             "colorbar": {
              "outlinewidth": 0,
              "ticks": ""
             }
            },
            "type": "scattergl"
           }
          ],
          "scattermap": [
           {
            "marker": {
             "colorbar": {
              "outlinewidth": 0,
              "ticks": ""
             }
            },
            "type": "scattermap"
           }
          ],
          "scattermapbox": [
           {
            "marker": {
             "colorbar": {
              "outlinewidth": 0,
              "ticks": ""
             }
            },
            "type": "scattermapbox"
           }
          ],
          "scatterpolar": [
           {
            "marker": {
             "colorbar": {
              "outlinewidth": 0,
              "ticks": ""
             }
            },
            "type": "scatterpolar"
           }
          ],
          "scatterpolargl": [
           {
            "marker": {
             "colorbar": {
              "outlinewidth": 0,
              "ticks": ""
             }
            },
            "type": "scatterpolargl"
           }
          ],
          "scatterternary": [
           {
            "marker": {
             "colorbar": {
              "outlinewidth": 0,
              "ticks": ""
             }
            },
            "type": "scatterternary"
           }
          ],
          "surface": [
           {
            "colorbar": {
             "outlinewidth": 0,
             "ticks": ""
            },
            "colorscale": [
             [
              0,
              "#0d0887"
             ],
             [
              0.1111111111111111,
              "#46039f"
             ],
             [
              0.2222222222222222,
              "#7201a8"
             ],
             [
              0.3333333333333333,
              "#9c179e"
             ],
             [
              0.4444444444444444,
              "#bd3786"
             ],
             [
              0.5555555555555556,
              "#d8576b"
             ],
             [
              0.6666666666666666,
              "#ed7953"
             ],
             [
              0.7777777777777778,
              "#fb9f3a"
             ],
             [
              0.8888888888888888,
              "#fdca26"
             ],
             [
              1,
              "#f0f921"
             ]
            ],
            "type": "surface"
           }
          ],
          "table": [
           {
            "cells": {
             "fill": {
              "color": "#EBF0F8"
             },
             "line": {
              "color": "white"
             }
            },
            "header": {
             "fill": {
              "color": "#C8D4E3"
             },
             "line": {
              "color": "white"
             }
            },
            "type": "table"
           }
          ]
         },
         "layout": {
          "annotationdefaults": {
           "arrowcolor": "#2a3f5f",
           "arrowhead": 0,
           "arrowwidth": 1
          },
          "autotypenumbers": "strict",
          "coloraxis": {
           "colorbar": {
            "outlinewidth": 0,
            "ticks": ""
           }
          },
          "colorscale": {
           "diverging": [
            [
             0,
             "#8e0152"
            ],
            [
             0.1,
             "#c51b7d"
            ],
            [
             0.2,
             "#de77ae"
            ],
            [
             0.3,
             "#f1b6da"
            ],
            [
             0.4,
             "#fde0ef"
            ],
            [
             0.5,
             "#f7f7f7"
            ],
            [
             0.6,
             "#e6f5d0"
            ],
            [
             0.7,
             "#b8e186"
            ],
            [
             0.8,
             "#7fbc41"
            ],
            [
             0.9,
             "#4d9221"
            ],
            [
             1,
             "#276419"
            ]
           ],
           "sequential": [
            [
             0,
             "#0d0887"
            ],
            [
             0.1111111111111111,
             "#46039f"
            ],
            [
             0.2222222222222222,
             "#7201a8"
            ],
            [
             0.3333333333333333,
             "#9c179e"
            ],
            [
             0.4444444444444444,
             "#bd3786"
            ],
            [
             0.5555555555555556,
             "#d8576b"
            ],
            [
             0.6666666666666666,
             "#ed7953"
            ],
            [
             0.7777777777777778,
             "#fb9f3a"
            ],
            [
             0.8888888888888888,
             "#fdca26"
            ],
            [
             1,
             "#f0f921"
            ]
           ],
           "sequentialminus": [
            [
             0,
             "#0d0887"
            ],
            [
             0.1111111111111111,
             "#46039f"
            ],
            [
             0.2222222222222222,
             "#7201a8"
            ],
            [
             0.3333333333333333,
             "#9c179e"
            ],
            [
             0.4444444444444444,
             "#bd3786"
            ],
            [
             0.5555555555555556,
             "#d8576b"
            ],
            [
             0.6666666666666666,
             "#ed7953"
            ],
            [
             0.7777777777777778,
             "#fb9f3a"
            ],
            [
             0.8888888888888888,
             "#fdca26"
            ],
            [
             1,
             "#f0f921"
            ]
           ]
          },
          "colorway": [
           "#636efa",
           "#EF553B",
           "#00cc96",
           "#ab63fa",
           "#FFA15A",
           "#19d3f3",
           "#FF6692",
           "#B6E880",
           "#FF97FF",
           "#FECB52"
          ],
          "font": {
           "color": "#2a3f5f"
          },
          "geo": {
           "bgcolor": "white",
           "lakecolor": "white",
           "landcolor": "#E5ECF6",
           "showlakes": true,
           "showland": true,
           "subunitcolor": "white"
          },
          "hoverlabel": {
           "align": "left"
          },
          "hovermode": "closest",
          "mapbox": {
           "style": "light"
          },
          "paper_bgcolor": "white",
          "plot_bgcolor": "#E5ECF6",
          "polar": {
           "angularaxis": {
            "gridcolor": "white",
            "linecolor": "white",
            "ticks": ""
           },
           "bgcolor": "#E5ECF6",
           "radialaxis": {
            "gridcolor": "white",
            "linecolor": "white",
            "ticks": ""
           }
          },
          "scene": {
           "xaxis": {
            "backgroundcolor": "#E5ECF6",
            "gridcolor": "white",
            "gridwidth": 2,
            "linecolor": "white",
            "showbackground": true,
            "ticks": "",
            "zerolinecolor": "white"
           },
           "yaxis": {
            "backgroundcolor": "#E5ECF6",
            "gridcolor": "white",
            "gridwidth": 2,
            "linecolor": "white",
            "showbackground": true,
            "ticks": "",
            "zerolinecolor": "white"
           },
           "zaxis": {
            "backgroundcolor": "#E5ECF6",
            "gridcolor": "white",
            "gridwidth": 2,
            "linecolor": "white",
            "showbackground": true,
            "ticks": "",
            "zerolinecolor": "white"
           }
          },
          "shapedefaults": {
           "line": {
            "color": "#2a3f5f"
           }
          },
          "ternary": {
           "aaxis": {
            "gridcolor": "white",
            "linecolor": "white",
            "ticks": ""
           },
           "baxis": {
            "gridcolor": "white",
            "linecolor": "white",
            "ticks": ""
           },
           "bgcolor": "#E5ECF6",
           "caxis": {
            "gridcolor": "white",
            "linecolor": "white",
            "ticks": ""
           }
          },
          "title": {
           "x": 0.05
          },
          "xaxis": {
           "automargin": true,
           "gridcolor": "white",
           "linecolor": "white",
           "ticks": "",
           "title": {
            "standoff": 15
           },
           "zerolinecolor": "white",
           "zerolinewidth": 2
          },
          "yaxis": {
           "automargin": true,
           "gridcolor": "white",
           "linecolor": "white",
           "ticks": "",
           "title": {
            "standoff": 15
           },
           "zerolinecolor": "white",
           "zerolinewidth": 2
          }
         }
        },
        "title": {
         "text": "Embedding Clusters Visualization (by Source)"
        },
        "width": 854,
        "xaxis": {
         "anchor": "y",
         "domain": [
          0,
          1
         ],
         "title": {
          "text": "x"
         }
        },
        "yaxis": {
         "anchor": "x",
         "domain": [
          0,
          1
         ],
         "title": {
          "text": "y"
         }
        }
       }
      }
     },
     "metadata": {},
     "output_type": "display_data"
    }
   ],
   "source": [
    "import plotly.express as px\n",
    "\n",
    "fig = px.scatter(\n",
    "    df, x=\"x\", y=\"y\",\n",
    "    color=\"source\",\n",
    "    hover_data=[\"title\", \"date\", \"source\", \"category\", \"niche\"],\n",
    "    title=\"Embedding Clusters Visualization (by Source)\"\n",
    ")\n",
    "\n",
    "fig.update_layout(\n",
    "    legend_title=\"Source\",\n",
    "    width=854,\n",
    "    height=480\n",
    ")\n",
    "\n",
    "fig.show()\n"
   ]
  },
  {
   "cell_type": "code",
   "execution_count": null,
   "metadata": {},
   "outputs": [
    {
     "name": "stderr",
     "output_type": "stream",
     "text": [
      "c:\\Users\\HP\\anaconda3\\envs\\rl_env\\lib\\site-packages\\sklearn\\utils\\deprecation.py:151: FutureWarning:\n",
      "\n",
      "'force_all_finite' was renamed to 'ensure_all_finite' in 1.6 and will be removed in 1.8.\n",
      "\n",
      "c:\\Users\\HP\\anaconda3\\envs\\rl_env\\lib\\site-packages\\sklearn\\utils\\deprecation.py:151: FutureWarning:\n",
      "\n",
      "'force_all_finite' was renamed to 'ensure_all_finite' in 1.6 and will be removed in 1.8.\n",
      "\n"
     ]
    },
    {
     "data": {
      "application/vnd.plotly.v1+json": {
       "config": {
        "plotlyServerURL": "https://plot.ly"
       },
       "data": [
        {
         "customdata": [
          [
           "Issue no. 103 | February 2025",
           "02/28/25",
           "KPMG Insights",
           "Economy and Growth",
           "Inflation Trends"
          ],
          [
           "Issue no. 103 | February 2025",
           "02/28/25",
           "KPMG Insights",
           "Economy and Growth",
           "Inflation Trends"
          ],
          [
           "Issue no. 103 | February 2025",
           "02/28/25",
           "KPMG Insights",
           "Economy and Growth",
           "Inflation Trends"
          ],
          [
           "Issue no. 103 | February 2025",
           "02/28/25",
           "KPMG Insights",
           "Economy and Growth",
           "Inflation Trends"
          ],
          [
           "Issue no. 103 | February 2025",
           "02/28/25",
           "KPMG Insights",
           "Economy and Growth",
           "Inflation Trends"
          ],
          [
           "Issue no. 103 | February 2025",
           "02/28/25",
           "KPMG Insights",
           "Economy and Growth",
           "Inflation Trends"
          ],
          [
           "Issue no. 103 | February 2025",
           "02/28/25",
           "KPMG Insights",
           "Economy and Growth",
           "Inflation Trends"
          ],
          [
           "Issue no. 103 | February 2025",
           "02/28/25",
           "KPMG Insights",
           "Economy and Growth",
           "Inflation Trends"
          ],
          [
           "Food and Nutritional Security in India",
           "02/20/25",
           "KPMG Insights",
           "India (Country)",
           "Agricultural Policy"
          ],
          [
           "Food and Nutritional Security in India",
           "02/20/25",
           "KPMG Insights",
           "India (Country)",
           "Agricultural Policy"
          ],
          [
           "Food and Nutritional Security in India",
           "02/20/25",
           "KPMG Insights",
           "India (Country)",
           "Agricultural Policy"
          ],
          [
           "Financial Crime Bulletin",
           "02/10/25",
           "KPMG Insights",
           "Risk Regulation",
           "Financial Compliance"
          ],
          [
           "KPMG global tech report – industrial manufacturing insights",
           "02/07/25",
           "KPMG Insights",
           "Technology",
           "Industrial IoT"
          ],
          [
           "KPMG global tech report – industrial manufacturing insights",
           "02/07/25",
           "KPMG Insights",
           "Technology",
           "Industrial IoT"
          ],
          [
           "KPMG global tech report – industrial manufacturing insights",
           "02/07/25",
           "KPMG Insights",
           "Technology",
           "Industrial IoT"
          ],
          [
           "KPMG global tech report – industrial manufacturing insights",
           "02/07/25",
           "KPMG Insights",
           "Technology",
           "Industrial IoT"
          ],
          [
           "KPMG global tech report – industrial manufacturing insights",
           "02/07/25",
           "KPMG Insights",
           "Technology",
           "Industrial IoT"
          ],
          [
           "KPMG global tech report – industrial manufacturing insights",
           "02/07/25",
           "KPMG Insights",
           "Technology",
           "Industrial IoT"
          ],
          [
           "KPMG global tech report – industrial manufacturing insights",
           "02/07/25",
           "KPMG Insights",
           "Technology",
           "Industrial IoT"
          ],
          [
           "KPMG global tech report – industrial manufacturing insights",
           "02/07/25",
           "KPMG Insights",
           "Technology",
           "Industrial IoT"
          ],
          [
           "KPMG global tech report: Technology insights",
           "02/07/25",
           "KPMG Insights",
           "Technology",
           "Emerging Technologies"
          ],
          [
           "KPMG global tech report: Technology insights",
           "02/07/25",
           "KPMG Insights",
           "Technology",
           "Emerging Technologies"
          ],
          [
           "KPMG global tech report: Technology insights",
           "02/07/25",
           "KPMG Insights",
           "Technology",
           "Emerging Technologies"
          ],
          [
           "KPMG global tech report: Technology insights",
           "02/07/25",
           "KPMG Insights",
           "Technology",
           "Emerging Technologies"
          ],
          [
           "KPMG global tech report: Technology insights",
           "02/07/25",
           "KPMG Insights",
           "Technology",
           "Emerging Technologies"
          ],
          [
           "KPMG global tech report: Technology insights",
           "02/07/25",
           "KPMG Insights",
           "Technology",
           "Emerging Technologies"
          ],
          [
           "KPMG global tech report: Technology insights",
           "02/07/25",
           "KPMG Insights",
           "Technology",
           "Emerging Technologies"
          ],
          [
           "KPMG global tech report: energy insights",
           "02/07/25",
           "KPMG Insights",
           "Energy Renewables",
           "Sustainable Energy Solutions"
          ],
          [
           "KPMG global tech report: energy insights",
           "02/07/25",
           "KPMG Insights",
           "Energy Renewables",
           "Sustainable Energy Solutions"
          ],
          [
           "KPMG global tech report: energy insights",
           "02/07/25",
           "KPMG Insights",
           "Energy Renewables",
           "Sustainable Energy Solutions"
          ],
          [
           "KPMG global tech report: energy insights",
           "02/07/25",
           "KPMG Insights",
           "Energy Renewables",
           "Sustainable Energy Solutions"
          ],
          [
           "KPMG global tech report: energy insights",
           "02/07/25",
           "KPMG Insights",
           "Energy Renewables",
           "Sustainable Energy Solutions"
          ],
          [
           "KPMG global tech report: energy insights",
           "02/07/25",
           "KPMG Insights",
           "Energy Renewables",
           "Sustainable Energy Solutions"
          ],
          [
           "KPMG global tech report: energy insights",
           "02/07/25",
           "KPMG Insights",
           "Energy Renewables",
           "Sustainable Energy Solutions"
          ],
          [
           "KPMG global tech report 2024",
           "02/06/25",
           "KPMG Insights",
           "Technology",
           "Emerging Technologies"
          ],
          [
           "KPMG global tech report 2024",
           "02/06/25",
           "KPMG Insights",
           "Technology",
           "Emerging Technologies"
          ],
          [
           "KPMG global tech report 2024",
           "02/06/25",
           "KPMG Insights",
           "Technology",
           "Emerging Technologies"
          ],
          [
           "KPMG global tech report 2024",
           "02/06/25",
           "KPMG Insights",
           "Technology",
           "Emerging Technologies"
          ],
          [
           "KPMG global tech report 2024",
           "02/06/25",
           "KPMG Insights",
           "Technology",
           "Emerging Technologies"
          ],
          [
           "KPMG global tech report 2024",
           "02/06/25",
           "KPMG Insights",
           "Technology",
           "Emerging Technologies"
          ],
          [
           "KPMG global tech report 2024",
           "02/06/25",
           "KPMG Insights",
           "Technology",
           "Emerging Technologies"
          ],
          [
           "Quality measures and standards for transitioning to value-based healthcare in India",
           "07/03/25",
           "PWC Insights",
           "Healthcare",
           "Value-Based Care"
          ],
          [
           "Quality measures and standards for transitioning to value-based healthcare in India",
           "07/03/25",
           "PWC Insights",
           "Healthcare",
           "Value-Based Care"
          ],
          [
           "Quality measures and standards for transitioning to value-based healthcare in India",
           "07/03/25",
           "PWC Insights",
           "Healthcare",
           "Value-Based Care"
          ],
          [
           "Quality measures and standards for transitioning to value-based healthcare in India",
           "07/03/25",
           "PWC Insights",
           "Healthcare",
           "Value-Based Care"
          ],
          [
           "Quality measures and standards for transitioning to value-based healthcare in India",
           "07/03/25",
           "PWC Insights",
           "Healthcare",
           "Value-Based Care"
          ],
          [
           "Quality measures and standards for transitioning to value-based healthcare in India",
           "07/03/25",
           "PWC Insights",
           "Healthcare",
           "Value-Based Care"
          ],
          [
           "Quality measures and standards for transitioning to value-based healthcare in India",
           "07/03/25",
           "PWC Insights",
           "Healthcare",
           "Value-Based Care"
          ],
          [
           "Quality measures and standards for transitioning to value-based healthcare in India",
           "07/03/25",
           "PWC Insights",
           "Healthcare",
           "Value-Based Care"
          ],
          [
           "Quality measures and standards for transitioning to value-based healthcare in India",
           "07/03/25",
           "PWC Insights",
           "Healthcare",
           "Value-Based Care"
          ],
          [
           "Quality measures and standards for transitioning to value-based healthcare in India",
           "07/03/25",
           "PWC Insights",
           "Healthcare",
           "Value-Based Care"
          ],
          [
           "The mutual funds route to Viksit Bharat @2047",
           "05/03/25",
           "PWC Insights",
           "Economy and Growth",
           "Investment Strategies"
          ],
          [
           "The mutual funds route to Viksit Bharat @2047",
           "05/03/25",
           "PWC Insights",
           "Economy and Growth",
           "Investment Strategies"
          ],
          [
           "The mutual funds route to Viksit Bharat @2047",
           "05/03/25",
           "PWC Insights",
           "Economy and Growth",
           "Investment Strategies"
          ],
          [
           "The mutual funds route to Viksit Bharat @2047",
           "05/03/25",
           "PWC Insights",
           "Economy and Growth",
           "Investment Strategies"
          ],
          [
           "The mutual funds route to Viksit Bharat @2047",
           "05/03/25",
           "PWC Insights",
           "Economy and Growth",
           "Investment Strategies"
          ],
          [
           "The mutual funds route to Viksit Bharat @2047",
           "05/03/25",
           "PWC Insights",
           "Economy and Growth",
           "Investment Strategies"
          ],
          [
           "The mutual funds route to Viksit Bharat @2047",
           "05/03/25",
           "PWC Insights",
           "Economy and Growth",
           "Investment Strategies"
          ],
          [
           "The mutual funds route to Viksit Bharat @2047",
           "05/03/25",
           "PWC Insights",
           "Economy and Growth",
           "Investment Strategies"
          ],
          [
           "The mutual funds route to Viksit Bharat @2047",
           "05/03/25",
           "PWC Insights",
           "Economy and Growth",
           "Investment Strategies"
          ],
          [
           "The mutual funds route to Viksit Bharat @2047",
           "05/03/25",
           "PWC Insights",
           "Economy and Growth",
           "Investment Strategies"
          ],
          [
           "The mutual funds route to Viksit Bharat @2047",
           "05/03/25",
           "PWC Insights",
           "Economy and Growth",
           "Investment Strategies"
          ],
          [
           "The mutual funds route to Viksit Bharat @2047",
           "05/03/25",
           "PWC Insights",
           "Economy and Growth",
           "Investment Strategies"
          ],
          [
           "The mutual funds route to Viksit Bharat @2047",
           "05/03/25",
           "PWC Insights",
           "Economy and Growth",
           "Investment Strategies"
          ],
          [
           "Financial health: Transcending from access to impact",
           "04/03/25",
           "PWC Insights",
           "Economy and Growth",
           "Financial Inclusion"
          ],
          [
           "Financial health: Transcending from access to impact",
           "04/03/25",
           "PWC Insights",
           "Economy and Growth",
           "Financial Inclusion"
          ],
          [
           "Financial health: Transcending from access to impact",
           "04/03/25",
           "PWC Insights",
           "Economy and Growth",
           "Financial Inclusion"
          ],
          [
           "Financial health: Transcending from access to impact",
           "04/03/25",
           "PWC Insights",
           "Economy and Growth",
           "Financial Inclusion"
          ],
          [
           "Financial health: Transcending from access to impact",
           "04/03/25",
           "PWC Insights",
           "Economy and Growth",
           "Financial Inclusion"
          ],
          [
           "Towards a climate-resilient future: Strategies for the Andaman and Nicobar Islands",
           "04/03/25",
           "PWC Insights",
           "ESG",
           "Climate Adaptation Strategies"
          ],
          [
           "Towards a climate-resilient future: Strategies for the Andaman and Nicobar Islands",
           "04/03/25",
           "PWC Insights",
           "ESG",
           "Climate Adaptation Strategies"
          ],
          [
           "Towards a climate-resilient future: Strategies for the Andaman and Nicobar Islands",
           "04/03/25",
           "PWC Insights",
           "ESG",
           "Climate Adaptation Strategies"
          ],
          [
           "Towards a climate-resilient future: Strategies for the Andaman and Nicobar Islands",
           "04/03/25",
           "PWC Insights",
           "ESG",
           "Climate Adaptation Strategies"
          ],
          [
           "Towards a climate-resilient future: Strategies for the Andaman and Nicobar Islands",
           "04/03/25",
           "PWC Insights",
           "ESG",
           "Climate Adaptation Strategies"
          ],
          [
           "Towards a climate-resilient future: Strategies for the Andaman and Nicobar Islands",
           "04/03/25",
           "PWC Insights",
           "ESG",
           "Climate Adaptation Strategies"
          ],
          [
           "Towards a climate-resilient future: Strategies for the Andaman and Nicobar Islands",
           "04/03/25",
           "PWC Insights",
           "ESG",
           "Climate Adaptation Strategies"
          ],
          [
           "Towards a climate-resilient future: Strategies for the Andaman and Nicobar Islands",
           "04/03/25",
           "PWC Insights",
           "ESG",
           "Climate Adaptation Strategies"
          ],
          [
           "Towards a climate-resilient future: Strategies for the Andaman and Nicobar Islands",
           "04/03/25",
           "PWC Insights",
           "ESG",
           "Climate Adaptation Strategies"
          ],
          [
           "Towards a climate-resilient future: Strategies for the Andaman and Nicobar Islands",
           "04/03/25",
           "PWC Insights",
           "ESG",
           "Climate Adaptation Strategies"
          ],
          [
           "Towards a climate-resilient future: Strategies for the Andaman and Nicobar Islands",
           "04/03/25",
           "PWC Insights",
           "ESG",
           "Climate Adaptation Strategies"
          ],
          [
           "Towards a climate-resilient future: Strategies for the Andaman and Nicobar Islands",
           "04/03/25",
           "PWC Insights",
           "ESG",
           "Climate Adaptation Strategies"
          ],
          [
           "Towards a climate-resilient future: Strategies for the Andaman and Nicobar Islands",
           "04/03/25",
           "PWC Insights",
           "ESG",
           "Climate Adaptation Strategies"
          ],
          [
           "The retail reinvention paradigm",
           "27/02/25",
           "PWC Insights",
           "Transformation",
           "Retail Technology"
          ],
          [
           "The retail reinvention paradigm",
           "27/02/25",
           "PWC Insights",
           "Transformation",
           "Retail Technology"
          ],
          [
           "The retail reinvention paradigm",
           "27/02/25",
           "PWC Insights",
           "Transformation",
           "Retail Technology"
          ],
          [
           "The retail reinvention paradigm",
           "27/02/25",
           "PWC Insights",
           "Transformation",
           "Retail Technology"
          ],
          [
           "The retail reinvention paradigm",
           "27/02/25",
           "PWC Insights",
           "Transformation",
           "Retail Technology"
          ],
          [
           "The retail reinvention paradigm",
           "27/02/25",
           "PWC Insights",
           "Transformation",
           "Retail Technology"
          ],
          [
           "The retail reinvention paradigm",
           "27/02/25",
           "PWC Insights",
           "Transformation",
           "Retail Technology"
          ],
          [
           "The retail reinvention paradigm",
           "27/02/25",
           "PWC Insights",
           "Transformation",
           "Retail Technology"
          ],
          [
           "PwC India's Financial Services (FS) Risk Symposium: Ministry of Finance keynote session - February 2025",
           "25/02/25",
           "PWC Insights",
           "Risk Regulation",
           "Financial Risk Management"
          ],
          [
           "How India spends: A deep dive into consumer spending behaviour",
           "24/02/25",
           "PWC Insights",
           "Economy and Growth",
           "Consumer Behavior"
          ],
          [
           "How India spends: A deep dive into consumer spending behaviour",
           "24/02/25",
           "PWC Insights",
           "Economy and Growth",
           "Consumer Behavior"
          ],
          [
           "How India spends: A deep dive into consumer spending behaviour",
           "24/02/25",
           "PWC Insights",
           "Economy and Growth",
           "Consumer Behavior"
          ],
          [
           "How India spends: A deep dive into consumer spending behaviour",
           "24/02/25",
           "PWC Insights",
           "Economy and Growth",
           "Consumer Behavior"
          ],
          [
           "How India spends: A deep dive into consumer spending behaviour",
           "24/02/25",
           "PWC Insights",
           "Economy and Growth",
           "Consumer Behavior"
          ],
          [
           "How India spends: A deep dive into consumer spending behaviour",
           "24/02/25",
           "PWC Insights",
           "Economy and Growth",
           "Consumer Behavior"
          ],
          [
           "How India spends: A deep dive into consumer spending behaviour",
           "24/02/25",
           "PWC Insights",
           "Economy and Growth",
           "Consumer Behavior"
          ],
          [
           "How India spends: A deep dive into consumer spending behaviour",
           "24/02/25",
           "PWC Insights",
           "Economy and Growth",
           "Consumer Behavior"
          ],
          [
           "How India spends: A deep dive into consumer spending behaviour",
           "24/02/25",
           "PWC Insights",
           "Economy and Growth",
           "Consumer Behavior"
          ],
          [
           "How India spends: A deep dive into consumer spending behaviour",
           "24/02/25",
           "PWC Insights",
           "Economy and Growth",
           "Consumer Behavior"
          ],
          [
           "How India spends: A deep dive into consumer spending behaviour",
           "24/02/25",
           "PWC Insights",
           "Economy and Growth",
           "Consumer Behavior"
          ],
          [
           "How India spends: A deep dive into consumer spending behaviour",
           "24/02/25",
           "PWC Insights",
           "Economy and Growth",
           "Consumer Behavior"
          ],
          [
           "How India spends: A deep dive into consumer spending behaviour",
           "24/02/25",
           "PWC Insights",
           "Economy and Growth",
           "Consumer Behavior"
          ],
          [
           "How India spends: A deep dive into consumer spending behaviour",
           "24/02/25",
           "PWC Insights",
           "Economy and Growth",
           "Consumer Behavior"
          ],
          [
           "How India spends: A deep dive into consumer spending behaviour",
           "24/02/25",
           "PWC Insights",
           "Economy and Growth",
           "Consumer Behavior"
          ],
          [
           "How India spends: A deep dive into consumer spending behaviour",
           "24/02/25",
           "PWC Insights",
           "Economy and Growth",
           "Consumer Behavior"
          ],
          [
           "The future of quality in manufacturing",
           "21/02/25",
           "PWC Insights",
           "Transformation",
           "Quality Management Systems"
          ],
          [
           "The future of quality in manufacturing",
           "21/02/25",
           "PWC Insights",
           "Transformation",
           "Quality Management Systems"
          ],
          [
           "The future of quality in manufacturing",
           "21/02/25",
           "PWC Insights",
           "Transformation",
           "Quality Management Systems"
          ],
          [
           "Powering automation with agents",
           "18/02/25",
           "PWC Insights",
           "Technology",
           "Robotic Process Automation"
          ],
          [
           "Powering automation with agents",
           "18/02/25",
           "PWC Insights",
           "Technology",
           "Robotic Process Automation"
          ],
          [
           "Powering automation with agents",
           "18/02/25",
           "PWC Insights",
           "Technology",
           "Robotic Process Automation"
          ],
          [
           "Powering automation with agents",
           "18/02/25",
           "PWC Insights",
           "Technology",
           "Robotic Process Automation"
          ],
          [
           "Deals at a glance: Annual review 2024",
           "14/02/25",
           "PWC Insights",
           "Economy and Growth",
           "Market Trends"
          ],
          [
           "Deals at a glance: Annual review 2024",
           "14/02/25",
           "PWC Insights",
           "Economy and Growth",
           "Market Trends"
          ],
          [
           "Deals at a glance: Annual review 2024",
           "14/02/25",
           "PWC Insights",
           "Economy and Growth",
           "Market Trends"
          ],
          [
           "Deals at a glance: Annual review 2024",
           "14/02/25",
           "PWC Insights",
           "Economy and Growth",
           "Market Trends"
          ]
         ],
         "hovertemplate": "x=%{x}<br>y=%{y}<br>title=%{customdata[0]}<br>date=%{customdata[1]}<br>source=%{customdata[2]}<br>category=%{customdata[3]}<br>niche=%{customdata[4]}<br>cluster=%{marker.color}<extra></extra>",
         "legendgroup": "",
         "marker": {
          "color": {
           "bdata": "AAAAAAAAAAD/////AgICAgICAgICAgICAgICAgICAgICAgICAgICAgIDAwMDAwMDAwMDBQUFBQUFBQUFBQUFBQX/Bf8GAQEBAQEBAQEBAQEBAQQEBAQEBAQE/wYGBgYGBgYGBgYGBgYGBgb/Av8C//8C/////w==",
           "dtype": "i1"
          },
          "coloraxis": "coloraxis",
          "symbol": "circle"
         },
         "mode": "markers",
         "name": "",
         "orientation": "v",
         "showlegend": false,
         "type": "scatter",
         "x": {
          "bdata": "YmZnwJQsYsCnSWfA6/dtwJGIcMCzs3DAFBR+wE6LbsD9ZsPAq/u8wEfmu8B0SJbAsy2WwPKnpcBqhrXAF7LEwC3CucBQQqrACmGVwDpekMCIM5XAVBOnwE73tcBDOcLA1j61wCulrsAcno3AeOeSwKz2pMAeMrjA76TCwCW3uMDJca/Ad++PwH6zj8AOxarAhFuzwBnTx8CGobjALqaqwDWoi8CGlIvATcyIwAe0hcCpoZLAnl6GwGMyiMBBg4TA5q2BwK+jjMCz14PA9e/lwPi+2sDQR+nAjOHcwCfj0cCnndbA/UzewA7R4cCFZOXAC6HhwNNc6MBJ/93A07bOwPfKs8CkH7TAAjCywJP9qcDKCqvAOSXBQF0FxUCWOclAv3HNQDyNzEDS5clAg6HLQFWpx0CoX81A65nMQCk2xEAjv8hA1lu+QNXRkj44aPE+m926PiZU2j7tbRQ/E78CP2ozjD77y38+nJOewAM4gsBjtHzA701ywPsubcBgw2PAXOxhwLqUXcAVKWjAu81xwBwEYcAj3XfAI4F6wGmigcCrJ4HAZvNpwEZfiMAn6qLAByenwAAapcA9oLjABaW7wBR+vcBHD7PAIhR4wJzggsAsE3XAgqZ5wA==",
          "dtype": "f4"
         },
         "xaxis": "x",
         "y": {
          "bdata": "qSj3QI0u9EB4RupAvsjkQIv47kCekvNA1hT9QN+i7kC8nCVBrAskQa1mJEGSgApBXJdUQCavf0CWinVAos1cQJ4xN0AOBjdAdLc7QHljNkBk7WtARYh9QGw8ZUAcLVZAQdg7QCzaUUCm7TNAO41lQEHseUCQJW9A+DRaQKf/OkDzP0JAcsE9QNp4Y0BRmYFAeZNwQLayZ0B3/D9A4nBEQEi8QUBbmODA7XzkwA+d3sBAcujAldbhwPXs4cDXoejAAuTqwMax7MBpSeDAnIMfQScCJEGHxSBBHLUcQcLXIEFS3x9BylIiQZGFIUFdNiVBTL4iQVPVJkHXshxBBp0eQb2PGUErXhtBobQaQUBgGkGcCBZB9tm/QMxWvEC/T8NAKfTKQMnox0CEyMdAPijIQB6PvkAGCLJARAK6QPiAtEA+FbhAzQTJQEqUiEE+rYlB1+aIQa+ziEHgNIlBz3GKQc0sh0FV64ZBvSYQQUKYJUEs2yRB9yUrQcK5J0GqbSpBFOYqQZwhLUEgZDBBcTIwQVIMMkHwFzJBMrIvQaYiKkFvcyhB7rUjQaQDIUF8hCBALP0IQLTOA0DGjwhAlnsMQFkPDUABdfM/YSIVQRnMEUH2iBhBKMMPQQ==",
          "dtype": "f4"
         },
         "yaxis": "y"
        }
       ],
       "layout": {
        "coloraxis": {
         "colorbar": {
          "title": {
           "text": "cluster"
          }
         },
         "colorscale": [
          [
           0,
           "#0d0887"
          ],
          [
           0.1111111111111111,
           "#46039f"
          ],
          [
           0.2222222222222222,
           "#7201a8"
          ],
          [
           0.3333333333333333,
           "#9c179e"
          ],
          [
           0.4444444444444444,
           "#bd3786"
          ],
          [
           0.5555555555555556,
           "#d8576b"
          ],
          [
           0.6666666666666666,
           "#ed7953"
          ],
          [
           0.7777777777777778,
           "#fb9f3a"
          ],
          [
           0.8888888888888888,
           "#fdca26"
          ],
          [
           1,
           "#f0f921"
          ]
         ]
        },
        "height": 480,
        "legend": {
         "title": {
          "text": "Cluster"
         },
         "tracegroupgap": 0
        },
        "template": {
         "data": {
          "bar": [
           {
            "error_x": {
             "color": "#2a3f5f"
            },
            "error_y": {
             "color": "#2a3f5f"
            },
            "marker": {
             "line": {
              "color": "#E5ECF6",
              "width": 0.5
             },
             "pattern": {
              "fillmode": "overlay",
              "size": 10,
              "solidity": 0.2
             }
            },
            "type": "bar"
           }
          ],
          "barpolar": [
           {
            "marker": {
             "line": {
              "color": "#E5ECF6",
              "width": 0.5
             },
             "pattern": {
              "fillmode": "overlay",
              "size": 10,
              "solidity": 0.2
             }
            },
            "type": "barpolar"
           }
          ],
          "carpet": [
           {
            "aaxis": {
             "endlinecolor": "#2a3f5f",
             "gridcolor": "white",
             "linecolor": "white",
             "minorgridcolor": "white",
             "startlinecolor": "#2a3f5f"
            },
            "baxis": {
             "endlinecolor": "#2a3f5f",
             "gridcolor": "white",
             "linecolor": "white",
             "minorgridcolor": "white",
             "startlinecolor": "#2a3f5f"
            },
            "type": "carpet"
           }
          ],
          "choropleth": [
           {
            "colorbar": {
             "outlinewidth": 0,
             "ticks": ""
            },
            "type": "choropleth"
           }
          ],
          "contour": [
           {
            "colorbar": {
             "outlinewidth": 0,
             "ticks": ""
            },
            "colorscale": [
             [
              0,
              "#0d0887"
             ],
             [
              0.1111111111111111,
              "#46039f"
             ],
             [
              0.2222222222222222,
              "#7201a8"
             ],
             [
              0.3333333333333333,
              "#9c179e"
             ],
             [
              0.4444444444444444,
              "#bd3786"
             ],
             [
              0.5555555555555556,
              "#d8576b"
             ],
             [
              0.6666666666666666,
              "#ed7953"
             ],
             [
              0.7777777777777778,
              "#fb9f3a"
             ],
             [
              0.8888888888888888,
              "#fdca26"
             ],
             [
              1,
              "#f0f921"
             ]
            ],
            "type": "contour"
           }
          ],
          "contourcarpet": [
           {
            "colorbar": {
             "outlinewidth": 0,
             "ticks": ""
            },
            "type": "contourcarpet"
           }
          ],
          "heatmap": [
           {
            "colorbar": {
             "outlinewidth": 0,
             "ticks": ""
            },
            "colorscale": [
             [
              0,
              "#0d0887"
             ],
             [
              0.1111111111111111,
              "#46039f"
             ],
             [
              0.2222222222222222,
              "#7201a8"
             ],
             [
              0.3333333333333333,
              "#9c179e"
             ],
             [
              0.4444444444444444,
              "#bd3786"
             ],
             [
              0.5555555555555556,
              "#d8576b"
             ],
             [
              0.6666666666666666,
              "#ed7953"
             ],
             [
              0.7777777777777778,
              "#fb9f3a"
             ],
             [
              0.8888888888888888,
              "#fdca26"
             ],
             [
              1,
              "#f0f921"
             ]
            ],
            "type": "heatmap"
           }
          ],
          "histogram": [
           {
            "marker": {
             "pattern": {
              "fillmode": "overlay",
              "size": 10,
              "solidity": 0.2
             }
            },
            "type": "histogram"
           }
          ],
          "histogram2d": [
           {
            "colorbar": {
             "outlinewidth": 0,
             "ticks": ""
            },
            "colorscale": [
             [
              0,
              "#0d0887"
             ],
             [
              0.1111111111111111,
              "#46039f"
             ],
             [
              0.2222222222222222,
              "#7201a8"
             ],
             [
              0.3333333333333333,
              "#9c179e"
             ],
             [
              0.4444444444444444,
              "#bd3786"
             ],
             [
              0.5555555555555556,
              "#d8576b"
             ],
             [
              0.6666666666666666,
              "#ed7953"
             ],
             [
              0.7777777777777778,
              "#fb9f3a"
             ],
             [
              0.8888888888888888,
              "#fdca26"
             ],
             [
              1,
              "#f0f921"
             ]
            ],
            "type": "histogram2d"
           }
          ],
          "histogram2dcontour": [
           {
            "colorbar": {
             "outlinewidth": 0,
             "ticks": ""
            },
            "colorscale": [
             [
              0,
              "#0d0887"
             ],
             [
              0.1111111111111111,
              "#46039f"
             ],
             [
              0.2222222222222222,
              "#7201a8"
             ],
             [
              0.3333333333333333,
              "#9c179e"
             ],
             [
              0.4444444444444444,
              "#bd3786"
             ],
             [
              0.5555555555555556,
              "#d8576b"
             ],
             [
              0.6666666666666666,
              "#ed7953"
             ],
             [
              0.7777777777777778,
              "#fb9f3a"
             ],
             [
              0.8888888888888888,
              "#fdca26"
             ],
             [
              1,
              "#f0f921"
             ]
            ],
            "type": "histogram2dcontour"
           }
          ],
          "mesh3d": [
           {
            "colorbar": {
             "outlinewidth": 0,
             "ticks": ""
            },
            "type": "mesh3d"
           }
          ],
          "parcoords": [
           {
            "line": {
             "colorbar": {
              "outlinewidth": 0,
              "ticks": ""
             }
            },
            "type": "parcoords"
           }
          ],
          "pie": [
           {
            "automargin": true,
            "type": "pie"
           }
          ],
          "scatter": [
           {
            "fillpattern": {
             "fillmode": "overlay",
             "size": 10,
             "solidity": 0.2
            },
            "type": "scatter"
           }
          ],
          "scatter3d": [
           {
            "line": {
             "colorbar": {
              "outlinewidth": 0,
              "ticks": ""
             }
            },
            "marker": {
             "colorbar": {
              "outlinewidth": 0,
              "ticks": ""
             }
            },
            "type": "scatter3d"
           }
          ],
          "scattercarpet": [
           {
            "marker": {
             "colorbar": {
              "outlinewidth": 0,
              "ticks": ""
             }
            },
            "type": "scattercarpet"
           }
          ],
          "scattergeo": [
           {
            "marker": {
             "colorbar": {
              "outlinewidth": 0,
              "ticks": ""
             }
            },
            "type": "scattergeo"
           }
          ],
          "scattergl": [
           {
            "marker": {
             "colorbar": {
              "outlinewidth": 0,
              "ticks": ""
             }
            },
            "type": "scattergl"
           }
          ],
          "scattermap": [
           {
            "marker": {
             "colorbar": {
              "outlinewidth": 0,
              "ticks": ""
             }
            },
            "type": "scattermap"
           }
          ],
          "scattermapbox": [
           {
            "marker": {
             "colorbar": {
              "outlinewidth": 0,
              "ticks": ""
             }
            },
            "type": "scattermapbox"
           }
          ],
          "scatterpolar": [
           {
            "marker": {
             "colorbar": {
              "outlinewidth": 0,
              "ticks": ""
             }
            },
            "type": "scatterpolar"
           }
          ],
          "scatterpolargl": [
           {
            "marker": {
             "colorbar": {
              "outlinewidth": 0,
              "ticks": ""
             }
            },
            "type": "scatterpolargl"
           }
          ],
          "scatterternary": [
           {
            "marker": {
             "colorbar": {
              "outlinewidth": 0,
              "ticks": ""
             }
            },
            "type": "scatterternary"
           }
          ],
          "surface": [
           {
            "colorbar": {
             "outlinewidth": 0,
             "ticks": ""
            },
            "colorscale": [
             [
              0,
              "#0d0887"
             ],
             [
              0.1111111111111111,
              "#46039f"
             ],
             [
              0.2222222222222222,
              "#7201a8"
             ],
             [
              0.3333333333333333,
              "#9c179e"
             ],
             [
              0.4444444444444444,
              "#bd3786"
             ],
             [
              0.5555555555555556,
              "#d8576b"
             ],
             [
              0.6666666666666666,
              "#ed7953"
             ],
             [
              0.7777777777777778,
              "#fb9f3a"
             ],
             [
              0.8888888888888888,
              "#fdca26"
             ],
             [
              1,
              "#f0f921"
             ]
            ],
            "type": "surface"
           }
          ],
          "table": [
           {
            "cells": {
             "fill": {
              "color": "#EBF0F8"
             },
             "line": {
              "color": "white"
             }
            },
            "header": {
             "fill": {
              "color": "#C8D4E3"
             },
             "line": {
              "color": "white"
             }
            },
            "type": "table"
           }
          ]
         },
         "layout": {
          "annotationdefaults": {
           "arrowcolor": "#2a3f5f",
           "arrowhead": 0,
           "arrowwidth": 1
          },
          "autotypenumbers": "strict",
          "coloraxis": {
           "colorbar": {
            "outlinewidth": 0,
            "ticks": ""
           }
          },
          "colorscale": {
           "diverging": [
            [
             0,
             "#8e0152"
            ],
            [
             0.1,
             "#c51b7d"
            ],
            [
             0.2,
             "#de77ae"
            ],
            [
             0.3,
             "#f1b6da"
            ],
            [
             0.4,
             "#fde0ef"
            ],
            [
             0.5,
             "#f7f7f7"
            ],
            [
             0.6,
             "#e6f5d0"
            ],
            [
             0.7,
             "#b8e186"
            ],
            [
             0.8,
             "#7fbc41"
            ],
            [
             0.9,
             "#4d9221"
            ],
            [
             1,
             "#276419"
            ]
           ],
           "sequential": [
            [
             0,
             "#0d0887"
            ],
            [
             0.1111111111111111,
             "#46039f"
            ],
            [
             0.2222222222222222,
             "#7201a8"
            ],
            [
             0.3333333333333333,
             "#9c179e"
            ],
            [
             0.4444444444444444,
             "#bd3786"
            ],
            [
             0.5555555555555556,
             "#d8576b"
            ],
            [
             0.6666666666666666,
             "#ed7953"
            ],
            [
             0.7777777777777778,
             "#fb9f3a"
            ],
            [
             0.8888888888888888,
             "#fdca26"
            ],
            [
             1,
             "#f0f921"
            ]
           ],
           "sequentialminus": [
            [
             0,
             "#0d0887"
            ],
            [
             0.1111111111111111,
             "#46039f"
            ],
            [
             0.2222222222222222,
             "#7201a8"
            ],
            [
             0.3333333333333333,
             "#9c179e"
            ],
            [
             0.4444444444444444,
             "#bd3786"
            ],
            [
             0.5555555555555556,
             "#d8576b"
            ],
            [
             0.6666666666666666,
             "#ed7953"
            ],
            [
             0.7777777777777778,
             "#fb9f3a"
            ],
            [
             0.8888888888888888,
             "#fdca26"
            ],
            [
             1,
             "#f0f921"
            ]
           ]
          },
          "colorway": [
           "#636efa",
           "#EF553B",
           "#00cc96",
           "#ab63fa",
           "#FFA15A",
           "#19d3f3",
           "#FF6692",
           "#B6E880",
           "#FF97FF",
           "#FECB52"
          ],
          "font": {
           "color": "#2a3f5f"
          },
          "geo": {
           "bgcolor": "white",
           "lakecolor": "white",
           "landcolor": "#E5ECF6",
           "showlakes": true,
           "showland": true,
           "subunitcolor": "white"
          },
          "hoverlabel": {
           "align": "left"
          },
          "hovermode": "closest",
          "mapbox": {
           "style": "light"
          },
          "paper_bgcolor": "white",
          "plot_bgcolor": "#E5ECF6",
          "polar": {
           "angularaxis": {
            "gridcolor": "white",
            "linecolor": "white",
            "ticks": ""
           },
           "bgcolor": "#E5ECF6",
           "radialaxis": {
            "gridcolor": "white",
            "linecolor": "white",
            "ticks": ""
           }
          },
          "scene": {
           "xaxis": {
            "backgroundcolor": "#E5ECF6",
            "gridcolor": "white",
            "gridwidth": 2,
            "linecolor": "white",
            "showbackground": true,
            "ticks": "",
            "zerolinecolor": "white"
           },
           "yaxis": {
            "backgroundcolor": "#E5ECF6",
            "gridcolor": "white",
            "gridwidth": 2,
            "linecolor": "white",
            "showbackground": true,
            "ticks": "",
            "zerolinecolor": "white"
           },
           "zaxis": {
            "backgroundcolor": "#E5ECF6",
            "gridcolor": "white",
            "gridwidth": 2,
            "linecolor": "white",
            "showbackground": true,
            "ticks": "",
            "zerolinecolor": "white"
           }
          },
          "shapedefaults": {
           "line": {
            "color": "#2a3f5f"
           }
          },
          "ternary": {
           "aaxis": {
            "gridcolor": "white",
            "linecolor": "white",
            "ticks": ""
           },
           "baxis": {
            "gridcolor": "white",
            "linecolor": "white",
            "ticks": ""
           },
           "bgcolor": "#E5ECF6",
           "caxis": {
            "gridcolor": "white",
            "linecolor": "white",
            "ticks": ""
           }
          },
          "title": {
           "x": 0.05
          },
          "xaxis": {
           "automargin": true,
           "gridcolor": "white",
           "linecolor": "white",
           "ticks": "",
           "title": {
            "standoff": 15
           },
           "zerolinecolor": "white",
           "zerolinewidth": 2
          },
          "yaxis": {
           "automargin": true,
           "gridcolor": "white",
           "linecolor": "white",
           "ticks": "",
           "title": {
            "standoff": 15
           },
           "zerolinecolor": "white",
           "zerolinewidth": 2
          }
         }
        },
        "title": {
         "text": "Embedding Clusters Visualization (HDBSCAN)"
        },
        "width": 854,
        "xaxis": {
         "anchor": "y",
         "domain": [
          0,
          1
         ],
         "title": {
          "text": "x"
         }
        },
        "yaxis": {
         "anchor": "x",
         "domain": [
          0,
          1
         ],
         "title": {
          "text": "y"
         }
        }
       }
      }
     },
     "metadata": {},
     "output_type": "display_data"
    }
   ],
   "source": [
    "import numpy as np\n",
    "import hdbscan\n",
    "\n",
    "X = np.array(df[\"embedding\"].tolist())\n",
    "\n",
    "clusterer = hdbscan.HDBSCAN(min_cluster_size=5, gen_min_span_tree=True)\n",
    "cluster_labels = clusterer.fit_predict(X)\n",
    "\n",
    "df[\"cluster\"] = cluster_labels\n",
    "\n",
    "fig = px.scatter(\n",
    "    df, x=\"x\", y=\"y\",\n",
    "    color=\"cluster\",\n",
    "    hover_data=[\"title\", \"date\", \"source\", \"category\", \"niche\"],\n",
    "    title=\"Embedding Clusters Visualization (HDBSCAN)\"\n",
    ")\n",
    "\n",
    "fig.update_layout(\n",
    "    legend_title=\"Cluster\",\n",
    "    width=854,\n",
    "    height=480\n",
    ")\n",
    "fig.show()\n"
   ]
  },
  {
   "cell_type": "code",
   "execution_count": 47,
   "metadata": {},
   "outputs": [],
   "source": [
    "df_unique = df.drop_duplicates(subset=[\"title\", \"category\", \"niche\", \"source\", \"key_themes\", \"recurring_topics\"])\n",
    "\n",
    "df_clustered = df_unique[['cluster', 'title', 'category', 'niche', 'source', 'key_themes', 'recurring_topics']].copy()\n",
    "\n",
    "def split_to_list(text):\n",
    "    if isinstance(text, str) and text.strip():\n",
    "        return [item.strip() for item in text.split(',') if item.strip()]\n",
    "    else:\n",
    "        return []\n",
    "\n",
    "df_clustered[\"key_themes\"] = df_clustered[\"key_themes\"].apply(split_to_list)\n",
    "df_clustered[\"recurring_topics\"] = df_clustered[\"recurring_topics\"].apply(split_to_list)\n",
    "\"\"\n",
    "df_clustered.to_csv(\"clustered_df_streamlit.csv\")"
   ]
  },
  {
   "cell_type": "code",
   "execution_count": 48,
   "metadata": {},
   "outputs": [
    {
     "data": {
      "text/html": [
       "<div>\n",
       "<style scoped>\n",
       "    .dataframe tbody tr th:only-of-type {\n",
       "        vertical-align: middle;\n",
       "    }\n",
       "\n",
       "    .dataframe tbody tr th {\n",
       "        vertical-align: top;\n",
       "    }\n",
       "\n",
       "    .dataframe thead th {\n",
       "        text-align: right;\n",
       "    }\n",
       "</style>\n",
       "<table border=\"1\" class=\"dataframe\">\n",
       "  <thead>\n",
       "    <tr style=\"text-align: right;\">\n",
       "      <th></th>\n",
       "      <th>cluster</th>\n",
       "      <th>title</th>\n",
       "      <th>category</th>\n",
       "      <th>niche</th>\n",
       "      <th>source</th>\n",
       "      <th>key_themes</th>\n",
       "      <th>recurring_topics</th>\n",
       "    </tr>\n",
       "  </thead>\n",
       "  <tbody>\n",
       "    <tr>\n",
       "      <th>0</th>\n",
       "      <td>0</td>\n",
       "      <td>Issue no. 103 | February 2025</td>\n",
       "      <td>Economy and Growth</td>\n",
       "      <td>Inflation Trends</td>\n",
       "      <td>KPMG Insights</td>\n",
       "      <td>[Business Combinations, Sustainability Disclos...</td>\n",
       "      <td>[IFRS, Measurement Period, Acquisition Method,...</td>\n",
       "    </tr>\n",
       "    <tr>\n",
       "      <th>8</th>\n",
       "      <td>-1</td>\n",
       "      <td>Food and Nutritional Security in India</td>\n",
       "      <td>India (Country)</td>\n",
       "      <td>Agricultural Policy</td>\n",
       "      <td>KPMG Insights</td>\n",
       "      <td>[Food Security, Public Policy, Nutrition, Sust...</td>\n",
       "      <td>[Public Distribution System (PDS), Malnutritio...</td>\n",
       "    </tr>\n",
       "    <tr>\n",
       "      <th>11</th>\n",
       "      <td>-1</td>\n",
       "      <td>Financial Crime Bulletin</td>\n",
       "      <td>Risk Regulation</td>\n",
       "      <td>Financial Compliance</td>\n",
       "      <td>KPMG Insights</td>\n",
       "      <td>[Financial Crime, Regulatory Initiatives, Tech...</td>\n",
       "      <td>[Anti-Money Laundering (AML), Corporate Transp...</td>\n",
       "    </tr>\n",
       "    <tr>\n",
       "      <th>12</th>\n",
       "      <td>2</td>\n",
       "      <td>KPMG global tech report – industrial manufactu...</td>\n",
       "      <td>Technology</td>\n",
       "      <td>Industrial IoT</td>\n",
       "      <td>KPMG Insights</td>\n",
       "      <td>[Digital Transformation, Operational Efficienc...</td>\n",
       "      <td>[Industrial Manufacturing, KPMG Global Tech Re...</td>\n",
       "    </tr>\n",
       "    <tr>\n",
       "      <th>20</th>\n",
       "      <td>2</td>\n",
       "      <td>KPMG global tech report: Technology insights</td>\n",
       "      <td>Technology</td>\n",
       "      <td>Emerging Technologies</td>\n",
       "      <td>KPMG Insights</td>\n",
       "      <td>[Digital Transformation, Strategic Investment,...</td>\n",
       "      <td>[KPMG Global Tech Report, Technology Sector, E...</td>\n",
       "    </tr>\n",
       "  </tbody>\n",
       "</table>\n",
       "</div>"
      ],
      "text/plain": [
       "    cluster                                              title  \\\n",
       "0         0                      Issue no. 103 | February 2025   \n",
       "8        -1             Food and Nutritional Security in India   \n",
       "11       -1                           Financial Crime Bulletin   \n",
       "12        2  KPMG global tech report – industrial manufactu...   \n",
       "20        2       KPMG global tech report: Technology insights   \n",
       "\n",
       "              category                  niche         source  \\\n",
       "0   Economy and Growth       Inflation Trends  KPMG Insights   \n",
       "8      India (Country)    Agricultural Policy  KPMG Insights   \n",
       "11     Risk Regulation   Financial Compliance  KPMG Insights   \n",
       "12          Technology         Industrial IoT  KPMG Insights   \n",
       "20          Technology  Emerging Technologies  KPMG Insights   \n",
       "\n",
       "                                           key_themes  \\\n",
       "0   [Business Combinations, Sustainability Disclos...   \n",
       "8   [Food Security, Public Policy, Nutrition, Sust...   \n",
       "11  [Financial Crime, Regulatory Initiatives, Tech...   \n",
       "12  [Digital Transformation, Operational Efficienc...   \n",
       "20  [Digital Transformation, Strategic Investment,...   \n",
       "\n",
       "                                     recurring_topics  \n",
       "0   [IFRS, Measurement Period, Acquisition Method,...  \n",
       "8   [Public Distribution System (PDS), Malnutritio...  \n",
       "11  [Anti-Money Laundering (AML), Corporate Transp...  \n",
       "12  [Industrial Manufacturing, KPMG Global Tech Re...  \n",
       "20  [KPMG Global Tech Report, Technology Sector, E...  "
      ]
     },
     "execution_count": 48,
     "metadata": {},
     "output_type": "execute_result"
    }
   ],
   "source": [
    "df_clustered.head()"
   ]
  }
 ],
 "metadata": {
  "kernelspec": {
   "display_name": "rl_env",
   "language": "python",
   "name": "python3"
  },
  "language_info": {
   "codemirror_mode": {
    "name": "ipython",
    "version": 3
   },
   "file_extension": ".py",
   "mimetype": "text/x-python",
   "name": "python",
   "nbconvert_exporter": "python",
   "pygments_lexer": "ipython3",
   "version": "3.9.21"
  }
 },
 "nbformat": 4,
 "nbformat_minor": 2
}
