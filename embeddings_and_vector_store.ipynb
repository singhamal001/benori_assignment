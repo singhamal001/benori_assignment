{
 "cells": [
  {
   "cell_type": "markdown",
   "metadata": {},
   "source": [
    "# Documentation"
   ]
  },
  {
   "cell_type": "markdown",
   "metadata": {},
   "source": [
    "## Overview\n",
    "This script processes text data from multiple Parquet files, generates embeddings using the Google GenAI API, and stores them in a ChromaDB collection.\n",
    "\n",
    "## Requirements\n",
    "- Python\n",
    "- Libraries: `os`, `pandas`, `chromadb`, `tqdm`, `dotenv`, `google.genai`\n",
    "- Environment Variables:\n",
    "  - `CHROMA_DB_PERSIST_DIRECTORY`: Path for ChromaDB persistence.\n",
    "  - `GENAI_API_KEY`: API key for Google GenAI.\n",
    "\n",
    "## Key Steps\n",
    "1. **Load Environment Variables**\n",
    "   - Load API keys and directory paths using `dotenv`.\n",
    "\n",
    "2. **Initialize Clients**\n",
    "   - Create ChromaDB and GenAI clients.\n",
    "\n",
    "3. **Load Data**\n",
    "   - Read and concatenate Parquet files into a DataFrame.\n",
    "\n",
    "4. **Chunking Text**\n",
    "   - Define `chunk_text()` to split text into manageable pieces for embedding.\n",
    "\n",
    "5. **Generate Embeddings**\n",
    "   - Use `genai.Client` to create embeddings for each text chunk.\n",
    "\n",
    "6. **Store in ChromaDB**\n",
    "   - Save embeddings, metadata, and documents into the ChromaDB collection.\n",
    "\n",
    "## Output\n",
    "- Confirms the number of embeddings stored.\n",
    "\n"
   ]
  },
  {
   "cell_type": "markdown",
   "metadata": {},
   "source": [
    "# Code"
   ]
  },
  {
   "cell_type": "code",
   "execution_count": 1,
   "metadata": {},
   "outputs": [
    {
     "name": "stdout",
     "output_type": "stream",
     "text": [
      "Collection 'pwc_kpmg_insights_collection' not found, creating a new one.\n",
      "Loaded 17 documents from 51 files.\n"
     ]
    },
    {
     "name": "stderr",
     "output_type": "stream",
     "text": [
      "Processing documents:   0%|          | 0/17 [00:00<?, ?it/s]"
     ]
    },
    {
     "name": "stdout",
     "output_type": "stream",
     "text": [
      "Row 0: date value = '02/28/25', type = <class 'str'>\n"
     ]
    },
    {
     "name": "stderr",
     "output_type": "stream",
     "text": [
      "Processing documents:   6%|▌         | 1/17 [00:13<03:39, 13.69s/it]"
     ]
    },
    {
     "name": "stdout",
     "output_type": "stream",
     "text": [
      "Row 1: date value = '02/20/25', type = <class 'str'>\n"
     ]
    },
    {
     "name": "stderr",
     "output_type": "stream",
     "text": [
      "Processing documents:  12%|█▏        | 2/17 [00:15<01:39,  6.63s/it]"
     ]
    },
    {
     "name": "stdout",
     "output_type": "stream",
     "text": [
      "Row 2: date value = '02/10/25', type = <class 'str'>\n"
     ]
    },
    {
     "name": "stderr",
     "output_type": "stream",
     "text": [
      "Processing documents:  18%|█▊        | 3/17 [00:17<01:01,  4.38s/it]"
     ]
    },
    {
     "name": "stdout",
     "output_type": "stream",
     "text": [
      "Row 3: date value = '02/07/25', type = <class 'str'>\n"
     ]
    },
    {
     "name": "stderr",
     "output_type": "stream",
     "text": [
      "Processing documents:  24%|██▎       | 4/17 [00:27<01:27,  6.70s/it]"
     ]
    },
    {
     "name": "stdout",
     "output_type": "stream",
     "text": [
      "Row 4: date value = '02/07/25', type = <class 'str'>\n"
     ]
    },
    {
     "name": "stderr",
     "output_type": "stream",
     "text": [
      "Processing documents:  29%|██▉       | 5/17 [00:37<01:33,  7.79s/it]"
     ]
    },
    {
     "name": "stdout",
     "output_type": "stream",
     "text": [
      "Row 5: date value = '02/07/25', type = <class 'str'>\n"
     ]
    },
    {
     "name": "stderr",
     "output_type": "stream",
     "text": [
      "Processing documents:  35%|███▌      | 6/17 [00:47<01:34,  8.59s/it]"
     ]
    },
    {
     "name": "stdout",
     "output_type": "stream",
     "text": [
      "Row 6: date value = '02/06/25', type = <class 'str'>\n"
     ]
    },
    {
     "name": "stderr",
     "output_type": "stream",
     "text": [
      "Processing documents:  41%|████      | 7/17 [00:58<01:34,  9.43s/it]"
     ]
    },
    {
     "name": "stdout",
     "output_type": "stream",
     "text": [
      "Row 7: date value = '07/03/25', type = <class 'str'>\n"
     ]
    },
    {
     "name": "stderr",
     "output_type": "stream",
     "text": [
      "Processing documents:  47%|████▋     | 8/17 [01:09<01:30, 10.07s/it]"
     ]
    },
    {
     "name": "stdout",
     "output_type": "stream",
     "text": [
      "Row 8: date value = '05/03/25', type = <class 'str'>\n"
     ]
    },
    {
     "name": "stderr",
     "output_type": "stream",
     "text": [
      "Processing documents:  53%|█████▎    | 9/17 [01:28<01:43, 12.92s/it]"
     ]
    },
    {
     "name": "stdout",
     "output_type": "stream",
     "text": [
      "Row 9: date value = '04/03/25', type = <class 'str'>\n"
     ]
    },
    {
     "name": "stderr",
     "output_type": "stream",
     "text": [
      "Processing documents:  59%|█████▉    | 10/17 [01:38<01:22, 11.80s/it]"
     ]
    },
    {
     "name": "stdout",
     "output_type": "stream",
     "text": [
      "Row 10: date value = '04/03/25', type = <class 'str'>\n"
     ]
    },
    {
     "name": "stderr",
     "output_type": "stream",
     "text": [
      "Processing documents:  65%|██████▍   | 11/17 [02:02<01:33, 15.58s/it]"
     ]
    },
    {
     "name": "stdout",
     "output_type": "stream",
     "text": [
      "Row 11: date value = '27/02/25', type = <class 'str'>\n"
     ]
    },
    {
     "name": "stderr",
     "output_type": "stream",
     "text": [
      "Processing documents:  71%|███████   | 12/17 [02:15<01:13, 14.76s/it]"
     ]
    },
    {
     "name": "stdout",
     "output_type": "stream",
     "text": [
      "Row 12: date value = '25/02/25', type = <class 'str'>\n"
     ]
    },
    {
     "name": "stderr",
     "output_type": "stream",
     "text": [
      "Processing documents:  76%|███████▋  | 13/17 [02:17<00:43, 10.84s/it]"
     ]
    },
    {
     "name": "stdout",
     "output_type": "stream",
     "text": [
      "Row 13: date value = '24/02/25', type = <class 'str'>\n"
     ]
    },
    {
     "name": "stderr",
     "output_type": "stream",
     "text": [
      "Processing documents:  82%|████████▏ | 14/17 [02:44<00:47, 15.92s/it]"
     ]
    },
    {
     "name": "stdout",
     "output_type": "stream",
     "text": [
      "Row 14: date value = '21/02/25', type = <class 'str'>\n"
     ]
    },
    {
     "name": "stderr",
     "output_type": "stream",
     "text": [
      "Processing documents:  88%|████████▊ | 15/17 [02:46<00:23, 11.76s/it]"
     ]
    },
    {
     "name": "stdout",
     "output_type": "stream",
     "text": [
      "Row 15: date value = '18/02/25', type = <class 'str'>\n"
     ]
    },
    {
     "name": "stderr",
     "output_type": "stream",
     "text": [
      "Processing documents:  94%|█████████▍| 16/17 [02:51<00:09,  9.74s/it]"
     ]
    },
    {
     "name": "stdout",
     "output_type": "stream",
     "text": [
      "Row 16: date value = '14/02/25', type = <class 'str'>\n"
     ]
    },
    {
     "name": "stderr",
     "output_type": "stream",
     "text": [
      "Processing documents: 100%|██████████| 17/17 [02:58<00:00, 10.52s/it]\n"
     ]
    },
    {
     "name": "stdout",
     "output_type": "stream",
     "text": [
      "Stored 118 embeddings in Chroma DB.\n"
     ]
    }
   ],
   "source": [
    "import os\n",
    "import pandas as pd\n",
    "import chromadb\n",
    "from chromadb.config import Settings\n",
    "from tqdm import tqdm\n",
    "from dotenv import load_dotenv\n",
    "import google.genai as genai\n",
    "from google.genai.types import EmbedContentConfig\n",
    "\n",
    "load_dotenv()\n",
    "\n",
    "persist_directory = os.getenv(\"CHROMA_DB_PERSIST_DIRECTORY\")\n",
    "genai_api_key = os.getenv(\"GENAI_API_KEY\")\n",
    "\n",
    "chroma_client = chromadb.PersistentClient(path=persist_directory)\n",
    "\n",
    "client = genai.Client(api_key=genai_api_key)\n",
    "\n",
    "collection_name = \"pwc_kpmg_insights_collection\"\n",
    "\n",
    "try:\n",
    "    collection = chroma_client.get_collection(collection_name)\n",
    "except Exception as e:\n",
    "    print(f\"Collection '{collection_name}' not found, creating a new one.\")\n",
    "    collection = chroma_client.create_collection(name=collection_name)\n",
    "\n",
    "file_path = \"final_categorized_with_themes_and_summaries.parquet\"\n",
    "\n",
    "df = pd.read_parquet(file_path)\n",
    "df[\"date\"] = df[\"date\"].astype(str)\n",
    "print(f\"Loaded {len(df)} documents from {len(file_path)} files.\")\n",
    "\n",
    "import numpy as np\n",
    "\n",
    "def convert_to_str(value, sep=\", \"):\n",
    "    if isinstance(value, (list, np.ndarray)):\n",
    "        return sep.join([str(item) for item in value])\n",
    "    return str(value)\n",
    "\n",
    "def chunk_text(text, chunk_size=8000, overlap=500):\n",
    "    \"\"\"\n",
    "    Splits the input text into chunks of chunk_size characters,\n",
    "    with each chunk overlapping the previous one by 'overlap' characters.\n",
    "    \"\"\"\n",
    "    chunks = []\n",
    "    start = 0\n",
    "    while start < len(text):\n",
    "        end = start + chunk_size\n",
    "        chunks.append(text[start:end])\n",
    "        if end >= len(text):\n",
    "            break\n",
    "        start = end - overlap\n",
    "    return chunks\n",
    "\n",
    "embedding_ids = []\n",
    "embedding_vectors = []\n",
    "metadatas = []\n",
    "documents = []\n",
    "embedding_count = 0\n",
    "\n",
    "for index, row in tqdm(df.iterrows(), total=len(df), desc=\"Processing documents\"):\n",
    "    date_val = row[\"date\"]\n",
    "    print(f\"Row {index}: date value = {date_val!r}, type = {type(date_val)}\")\n",
    "    \n",
    "    text = row[\"normalized_concatenated_text\"]\n",
    "    source = row.get(\"source\", row.get(\"url_link\", \"\"))\n",
    "    title = row[\"title\"]\n",
    "    category = row[\"category\"]\n",
    "    niche = row[\"niche\"]\n",
    "    \n",
    "    # Convert the key_themes and recurring_topics to strings\n",
    "    key_themes = convert_to_str(row[\"key_themes\"], \", \")\n",
    "    recurring_topics = convert_to_str(row[\"recurring_topics\"], \", \")\n",
    "    \n",
    "    chunks = chunk_text(text, chunk_size=8000, overlap=500)\n",
    "    \n",
    "    for i, chunk in enumerate(chunks):\n",
    "        embedding_count += 1\n",
    "        result = client.models.embed_content(\n",
    "            model=\"text-embedding-004\",\n",
    "            contents=[chunk],\n",
    "            config=EmbedContentConfig(\n",
    "                task_type=\"RETRIEVAL_DOCUMENT\",\n",
    "                output_dimensionality=768,\n",
    "                title=title\n",
    "            )\n",
    "        )\n",
    "        embedding_vector = result.embeddings[0].values\n",
    "        embedding_id = f\"{index}_{i}\"\n",
    "        \n",
    "        metadata_date = str(date_val) if date_val is not None else \"\"\n",
    "        metadata = {\n",
    "            \"source\": source,\n",
    "            \"title\": title,\n",
    "            \"date\": metadata_date,\n",
    "            \"category\": category,\n",
    "            \"niche\": niche,\n",
    "            \"key_themes\": key_themes,\n",
    "            \"recurring_topics\": recurring_topics,\n",
    "            \"embedding_number\": embedding_count\n",
    "        }\n",
    "        embedding_ids.append(embedding_id)\n",
    "        embedding_vectors.append(embedding_vector)\n",
    "        metadatas.append(metadata)\n",
    "        documents.append(chunk)\n",
    "\n",
    "# --- Task 4: Store the Embeddings in Chroma DB ---\n",
    "collection.add(\n",
    "    ids=embedding_ids,\n",
    "    embeddings=embedding_vectors,\n",
    "    metadatas=metadatas,\n",
    "    documents=documents\n",
    ")\n",
    "\n",
    "print(f\"Stored {len(embedding_ids)} embeddings in Chroma DB.\")\n"
   ]
  },
  {
   "cell_type": "code",
   "execution_count": 2,
   "metadata": {},
   "outputs": [
    {
     "name": "stdout",
     "output_type": "stream",
     "text": [
      "Retrieved Documents:\n",
      "\n",
      "Result 1:\n",
      "Document:  city demonstrate unprecedented momentum aum contribution rise 9 approximately 19 remarkable growth rate 95x absolute term digital transformation revolutionise access 60 transaction form 21 transaction value occur digitally compare 45 transaction form 1 transaction value fy20134 however unlocking industrys full potential require fundamental shift approach draw insight transformative success across sector telecommunication healthcare realise sustainable change require product innovation entail deep cultural resonance community engagement solution complement rather replace exist financial wisdom engineer transformation propose comprehensive framework build four interconnected pillar strategic orchestration enhance coordination among industry stakeholder association mutual fund indias amfi governance mechanism development regional strategy respect cultural nuance drive financial inclusion creation robust research mechanism understand address behavioural pattern infrastructure evolution transformation registrar transfer agent rtas intelligent platform handle unprecedented scale implementation vernacular solution intuitive investor journey development cloudenabled capability ensure realtime secure operation regulatory partnership collaborative framework balance innovation necessary guardrail development new product category meet emerge demographic need enhanced disclosure mechanism promote transparency enable growth mutual fund route viksit bharat 2047 pwc 7 cultural integration regionspecific communication strategy leverage local leadership network product align community financial practice aspiration technology integration traditional distribution network vision demand transform investor journey adopt investorcentric approach focus attention follow 1 simplified accessibility intuitive multilingual platform vernacular support aipowered personalise assisted investment journey voiceassisted navigation bitesized education collaborative feature enable guided decision make 2 relevant product innovation communication lifecycle solution reflect indian family structure technologyenabled investment product strategic offering bridge current market gap cultural alignment communication strategy 3 inclusive solution accessible platform specially abled individual flexible investment option gig economy bluecollar worker visual audiobased system limited literacy communitybased comprehensive investor education program 4 behavioural transformation deep understanding regional investment psychology trustbuilding community engagement earlystage financial literacy integration 5 ensure lastmile connectivity hyperlocal guidance trust community network integration exist retail infrastructure ongoing leverage technology bridge accessibility gap moment u unprecedented liberalisation 1990s laid groundwork todays achievement decision today shape indias financial landscape generation mutual fund industry uniquely position drive transformation merely investment vehicle catalyst national development progress towards viksit bharat 2047 success measure asset manage account open well live transformed path ahead demand unprecedented collaboration unwavering commitment innovation deep understanding indian investor need aspiration mutual fund serve cornerstone indias financial wellbeing industry opportunity responsibility evident collective action share vision industry ecosystem ensure financial wellbeing aspiration also reality every indian citizen 8 pwc mutual fund route viksit bharat 2047 preface journey towards financial wellbeing personal collective endeavour transcends metric figure touch essence human dignity autonomy document craft spirit journey aim evaluate redefine financial success mean million individual across india stand crossroad technological advancement economic transformation question u simply include genuinely empower draw inspiration various global model remain deeply root indias unique socioeconomic fabric work explore potential necessity evolve financial inclusion financial wellbeing examines pillar financial security resilience freedom present vision financial system engine growth every individual navigate course highlight step necessary guarantee financial wellbeing becomes reality privilege sidharth diwan partner business transformation financial service pwc india mutual fund route viksit bharat 2047 pwc 9 journey far 10 pwc mutual fund route viksit bharat 2047 phase 1 lay foundation 19642014 evolution india mutual fund industry reflect long journey expand investment choice deeply intertwine nation economic transformation 1964 indias economy predominantly agrarian agriculture contribute 4550 gdp employ nearly 70 workforce5 bank deposit dominate rudimentary financial sector retail investor critical challenge economic persistent inflation 68 annually6 erode value saving bank fix deposit average 467 wealth erosion create urgent need alternative investment option first mutual fund product introduced 1963 support government regulator emerge innovative solution mobilise household saving facilitate wealth creation capital market phase 1a paradox choice 19641987 mutual fund industry initially face paradox limited choice begin single product us64 constrain conservative investor expectation narrow urban demographic however economic reform 1990s gradually transformed landscape private sector innovation introduce specialise schemes systematic investment plan sip democratise market access mid2010s mutual fund evolve singular governmentbacked option vibrant ecosystem characterise flexibility transparency investor empowerment evolution highlight critical role choice market strategy fundamental mechanism foster inclusive dynamic investment landscape journey single balance approach diverse array investment product illustrate broad narrative financial maturation start limit governmentguided investment option evolve sophisticated market enable investor align investment personal financial goal risk tolerance phase 1b expanded choice player product 19871995 macroeconomic market condition need diversified choice regulatory oversight early 1990s marked transformative period indias financial landscape profound economic challenge demand innovative investment solution 1990 indias fiscal deficit surge approximately 83 gdp8 significantly high global counterpart like united state united kingdom create urgent need capital generation within economy 5 httpswwwnitigovinsitesdefaultfiles20210811_rural_economy_discussion_paper_0pdf 6 httpsdataworldbankorgindicatorfpcpitotlzglocationsin 7 httpswwwbisorgreviewr080218cpdf 8 httpswwwindiabudgetgovinbudget_archivees199091120the20economic20situation20in20199091pdf 1963 introduction maiden mf inr 5000 crore aum asset management 1987 sebi get statutory power entry private sector asset management company expense ratio cap abolition entry load inr 10 lakh crore aum indias economic liberalisation 1991 establishment amfi inr 47000 crore aum 1995 35 mf aum private player 2000 1992 introduction simplify kyc norm 2011 2015 2005 2008 inr 68 lakh crore november 2024 2024 figure 1 overview key milestone mutual fund industry 19632024 mutual fund route viksit bharat 2047 pwc 11 severe economic strain compound inflation reach 131 19919 critical balance payment crisis compel india implement comprehensive economic reform challenge position mutual fund industry vital mechanism mobilise retail saving channel household investment formal financial sector government respond strategically encouraging public sector entity enter mutual fund market reach beyond urban elite access provide semiurban rural investor leverage extensive 8000 branch network10 alongside market expansion regulatory framework evolve significantly start current regulator receive statutory power 1992 critical development enforce transparency protect investor interest establish fair trading practice establish association mutual fund india amfi 1995 solidify industrys commitment selfregulation ethical standard\n",
      "Metadata: {'category': 'Economy and Growth', 'date': '05/03/25', 'embedding_number': 53, 'key_themes': 'Financial Inclusion, Investor Empowerment, Mutual Fund Industry Growth, Technological Integration, Financial Literacy, Mutual Fund Growth, Investment Culture, Economic Development, Financial Empowerment, Digital Transformation, Cultural Integration, Investor Inclusion, Technology Integration, Community Engagement, Investment Accessibility, Cultural Alignment, Economic Transformation, Investment Choices, Mutual Fund Industry, Regulatory Evolution, Mutual Fund Market Development, Investor Education, Regulatory Framework, Private Sector Innovation, Growth of Mutual Funds, Investor Participation, Regulatory Reforms, Technological Advancements, Market Volatility, Accessibility of Financial Products, Regulatory Challenges, Investment Confidence, Systematic Investment Plans (SIPs), Digital Transformation in Finance, Personalized Financial Planning, Cost Efficiency in Investments, Investor Education and Awareness, Regulatory Compliance, Cost Efficiency, Sustainable Investing, Investor Protection, Market Accessibility', 'niche': 'Investment Strategies', 'recurring_topics': 'Mutual Fund Participation, Democratization of Financial Wellbeing, Trust Building, Accessibility and Inclusivity, Economic Resilience, AUM (Assets Under Management), Unique Customers, Systematic Investment Plans (SIPs), Retail Mutual Fund Penetration, Financial Wellbeing, Viksit Bharat 2047, AUM Growth, SIP Inflows, Investor Journey, Transparency, Community Engagement, Local Leadership, Education Programs, Behavioral Transformation, Investment Products, Mutual Funds, Investment Options, Economic Reforms, Household Savings, Inflation, Regulatory Oversight, Investor Participation, Regulatory Measures, Mutual Fund Literacy, Retail Participation, Democratization of Investment, Investor Education, Market Growth Rates, Casual Investors, Financial Literacy, Public Provident Fund (PPF), Distribution Deficit, Market Risk, Investment Costs, mutual fund, SIP, digital platform, investor, financial goal, passive fund, investment advisor (RIA), tier 2 and tier 3 cities, RTAs (Registrar and Transfer Agents), AMCs (Asset Management Companies), Investor Onboarding, SIP (Systematic Investment Plan), Debt Funds, Distributor Network, Campaigns for Awareness, ESG Disclosure, Mutual Fund Industry Growth, Regulatory Intervention, Investor Awareness, Digital Transformation, Mutual Fund Industry, Investor Protection, Financial Inclusion, Technological Intervention, Digital Payment, Emergency Preparedness, Financial Stability, Emergency Fund, Financial Independence, Household Spending, Financial Resilience, Discretionary Expenses, Tax Planning, Healthcare Costs, Discretionary Spending, Financial Flexibility, Emergency Funds, Retirement Planning, Living Costs, Investment Planning, Socioeconomic Diversity, Digital Transactions, Accessibility, Investment Accessibility, Wealth Creation, Financial Security, Affordability, Long-term Wealth Building, Investor-Centric Approach, Diverse Financial Goals, Mutual Fund Investment, Onboarding Process, Personalized Investment Options, Cultural and Economic Nuances, Diverse Financial Mindset, Community-driven Decision Making, Simplicity, Financial Accessibility, Inclusiveness, Investment Mindset, User-Centric Design, Vernacular Support, Last-Mile Connectivity, Cognitive Overload, Simplified Language, Offline Integration, Personalized User Experience, Data Analytics, AI Tailoring, Behavioral Nudges, Collaborative Support, User Feedback, Product Innovation, User Experience, Cultural Diversity, Investment Strategy, Regulatory Guidelines, Cultural Preservation, Investment Vehicle, Community-Based Microinvestment, Financial Growth, Social Impact Bonds, Sustainable Infrastructure Development, Technology-Driven Investment, Digital Asset Platforms, Cultural Transformation, Local Language, Ethnographic Research, Investor Behavior Analytics, Digital Connectivity, Regional Dietary Practices, Visually Impaired Individuals, Gig Workers, Freelancers, Inclusive Financial Products, Community Outreach, Tax Compliance, Audio and Braille Resources, Inclusive Product Structure, Accessibility Features, Visually Impaired, Behavioral Mindset Change, Digital Investment Platforms, Investment Behavior, Financial Participation, Generational Financial Trauma, Cultural Narrative, Trust, Psychological Barriers, Emotional Intelligence, Early Investment Education, Investment Culture, Behavioral Science, Personalized Financial Communication, Cognitive Bias, Digital Platforms, Hyperlocal guidance, Financial touchpoints, Community network, Digital onboarding, Local advisors, Scalable model, Integration of physical and digital networks, Mutual Fund Adoption, Regulatory Framework, Local Engagement, Technology Integration, Distribution Strategy, Cultural Sensitivity, Education and Training, Trust and Long-term Engagement, Transparency and Disclosure, Regulatory Policy, ESG Integration, Digitalization and Automation, Investor-Centric Design, Research and Insights, Vernacular Campaigns, Operational Framework, Financial Empowerment, Inclusivity and Accessibility, Economic Growth, Retail Investor, Inclusivity, Capital Market Mobilization, Mutual Fund Penetration, Unique Mutual Fund Investors, Average AUM per Retail Investor, Distribution Network Expansion, Investor Base Growth, Digital Infrastructure, Regulatory Support, Investment in Tier 2 and Tier 3 Cities, Stakeholder Collaboration, Education, Innovation, Empowerment', 'source': 'PWC Insights', 'title': 'The mutual funds route to Viksit Bharat @2047'}\n",
      "Distance: 1.3219234943389893\n",
      "\n",
      "Result 2:\n",
      "Document: e thereby entertainment provide insight fis curate offering base e liquor spirit evolve customer need report analyse spend f travel consumer across three key category obligatory discretionary necessity expense contribute 3 necessity expense include expenditure 39 29 32 consumer expense follow category 1 obligatory expense category comprise emi expense utility payment towards different form loan take b expense relate everyday essential analysis indicate individual credit need c rental expense increase income level penetration loan across different city tier remain consistent medical expense e fuel expense 2 discr etionary expense expense non addition report explore key investment avenue essential nature mainly include consumer specific insight jewellery lifestyle purchase relate general purchase fashion general investment like mutual fund share fix personal care deposit b spend online game indian spend analysis different expense category insights recommendation 8 pwc india spends deep dive consumer spending behaviour 1 transaction source section analyse spend category term value volume trend observed different source transaction transaction everyday essential food din highlight penetration rate average amount order credit card payment spend use credit card increase move high contribute category expenditures via low salary bucket high one section also digital payment mode show cash deposit cash withdrawal 3 mode payment section focus different increase increase salary mode payment use different type spend 2 key mode transaction part report investment purpose show upi examines preference digital payment method popular mode payment discretionary upi po pgs compare spending necessity spending well investment level customer transaction modes jewellery whereas obligatory expenditures upi show split expenditures across different ec quite popular base analysis total expenditure individual report make follow key observation indian spend analysis transaction mode source figure 2 key observation analysis conduct source pwc perfios analysis people spend high amount money obligatory expenditures account 39 total spending follow 32 necessity expenditures 29 discretionary expenditure percentage people perform transaction online game high entrylevel earner 22 gradually decrease 12 move entrylevel earners highincome earner average total amount spend house rent 45 high tier2 city tier1 city individual across city tier allocate 33 income towards pay loan emis key observation people live tier2 city spend high amount money average medical expense inr 2450 spent person per month hand metros low expenditure medical average inr 2048 spent per person monthly basis 62 discretionary expenditure allocate towards expenditure relate lifestyle purchase include shop fashion personal care item salary increase entrylevel earner highincome earner amount money spend food expenditure order eating frequency spend increase popular mode payment use obligatory spending electronic clearing service however discretionary necessary expenditure upi prefer method 9 pwc india spend deep dive consumer spending behaviour 9 pwc india spend deep dive consumer spending behaviour consolidate insight various section report individual get balance view indias consumption landscape base insight bfsi stakeholder aim enhance value proposition follow area encourage improve consumption f product recommendation help bfsi player well manage evolve need customer across various geography income level thereby drive meaningful engagement improve consumption figure 3 key takeaway bfsi player source pwc perfios analysis improve access credit inclusive financial plan partnership valueadded service well customer engagement tailor loan product bank loan provider continue customise loan offering different customer segment entrylevel earner emerge professional flexible emis low interest rate could attract borrower might otherwise opt informal source upper midlevel highincome earner fis offer elevate credit limit flexible payment option partner employer help finance large expenditure real estate automobile bnpl finance various expenditure need people help transition informal credit sector formal sector bnpl option offer fis specifically target entrylevel earner lowertier city ev finance leverage grow ev sector tier2 tier3 city fis offer competitive interest rate reduce payment flexible payment option pfm apps apps aid user track income expense loan saving datadriven insight budget debt consolidation financial advice improve customer engagement support expense management bill payment system consolidate utility bill payment single platform feature like automatic payment reminder enhance convenience reduce late fee wealth management platform fis capitalise increase investment trend especially see among uppermid level earner offer alternative investment option private debt startup equity corporate bond fixedincome alternative enable fis engage better customer loyalty reward programme fis focus high transaction category like online game lifestyle purchase grocery din offer discount cashback benefit reward point focus business partnership entity sector tiered cashback programme help improve customer engagement payment gateway pos solution fis improve transaction volume strategic partnership game developer food aggregator retail chain also focus offer customise pos solution valueadded service enhance merchant customer experience healthcare ecosystem partnership partnership healthcare sector fis offer credit product medical expense integrate payment digital wallet health card provide lowcost insurancerelated service integrate healthcare model 10 pwc india spend deep dive consumer spending behaviour sr acronym description 1 bfsi banking financial service insurance 2 bnpl buy pay later 3 cagr compound annual growth rate 4 cmiecphs centre monitoring indian economys consumer pyramid household survey 5 demat dematerialise account 6 emi equate monthly instalment 7 ev electric vehicle 8 fi financial institution 9 fs financial service 10 fy financial year 11 gdp gross domestic product 12 gst good service tax 13 imp immediate payment service 14 inr indian rupee 15 lpg liquefy petroleum gas 16 mf mutual fund 17 mospi ministry statistic programme implementation 18 mox mode transaction 19 nbfc nonbanking financial company 20 neft national electronic fund transfer 21 nse national stock exchange 22 ott top 23 pf provident fund 24 pfm personal financial management 25 pg payment gateway 26 po point sale 27 rbi reserve bank india 28 rpa robotic process automation 29 saas softwareasaservice 30 si stand instruction 31 sme small medium enterprises 32 upi unified payment interface note follow conversion apply convert usddenominated data source reference report inr usd 1 inr 82 02 glossary 11 pwc india spend deep dive consumer spending behaviour 03 introduction 2027 indias consumer market poise become last 50 year accord rbi data8 average salary worlds third large owe factor growth vary depend factor job type function income middle highincome household expand industry city crucial consider parallel rise rural market improve reach bolster digital debt borrowing among indian household physical infrastructure grow consumer aspirations3 september 2024 total outstanding amount personal india stand burgeon consumption environment loan inr 553 lakh crore yearonyear growth demonstrate 60 contribution private rate 137 home loan observe slow yearonyear consumption gdp 20234 comparable global growth rate 128 total outstanding amount average around 635 projection indicate 281 lakh crore9 2031 india expect inr 4264 lakh crore additionally widespread availability affordable consumption economy grow cagr 134 smartphones accessible telecom service enable 2023 20316 growth could propel 82 crore indian access internet incremental consumption indian middle class percentage smartphones actual use exceed 72 increased urbanisation grow percentage total population1011 growth \n",
      "Metadata: {'category': 'Economy and Growth', 'date': '24/02/25', 'embedding_number': 93, 'key_themes': \"Consumer Spending Behavior, Economic Growth, Digital Infrastructure, Investment Opportunities, Middle Class Expansion, Digital Payment Adoption, Financial Institutions' Strategies, Economic Factors Influencing Consumption, E-commerce Growth, Fintech Solutions, Psychological Factors in Consumption, Government Regulation, Payment Modes, Digital Payment Methods, Income Segmentation, Financial Inclusion, Expenditure Patterns, Consumer Engagement, Financial Services Innovation, Investment Trends, Digital Payment Solutions, Healthcare Financing, Consumer Behavior, Digital Accessibility, Financial Data Analysis, Geographic Segmentation, Payment Instruments, Economic Factors, Inflation Impact, Employment Trends, Digital Commerce, Government Policy and Regulation, Income Distribution, Obligatory vs Discretionary Expenses, Loan Repayment, Income Levels, Loan Repayment Trends, Income and Expenditure Patterns, Access to Credit, Discretionary Spending, Income Disparity, Lifestyle Purchases, Fashion and Lifestyle Purchases, City Tier Influence on Spending\", 'niche': 'Consumer Behavior', 'recurring_topics': \"India, Consumer Market, Transactional Data, Financial Institutions, Spending Patterns, UPI as a payment method, Credit products, Income levels, Rural market expansion, Consumer aspirations, Transaction-level data analysis, Obligatory Expenses, Discretionary Expenses, Necessity Expenses, Credit Card Usage, Digital Payment Modes, Investment Avenues, UPI (Unified Payments Interface), Obligatory Expenditures, Discretionary Expenditures, Medical Expenses, Entry-Level Earners, Tier 2 Cities, BNPL (Buy Now Pay Later), Loan Products, Customer Engagement, Payment Systems, Investment Options, Cashback Programs, Healthcare Partnerships, Consumer Spending Behavior, Household Consumption, Smartphone Accessibility, Internet Access, Urbanization, Debt Accumulation, Financial Assets, Middle Class Growth, Income Level, Geographic Location, Transaction Categories, Payment Modes, Consumer Segmentation, Salary Buckets, Discretionary Spending, Employment Rate, Inflation Rate, India's Economic Indicators, Consumer Spending Patterns, Inflation, E-commerce Growth, Government Regulations, Brand Loyalty, Income Brackets, Investment in Assets, Financial Literacy, Obligatory Expenditure, EMI Payments, Loan Types, loan repayment, income, expenditure, credit, tiered cities, Lifestyle Purchases, City Tiers, E-commerce Market Growth, Average Amount Spent, Fashion Purchases, Personal Care Purchases, Transaction Frequency, High-income earners, Number of transactions, Salary brackets, Online Gaming, Fashion Expenditure, Personal Care Expenditure, Metro City vs. Tier 3 City, Smartphone Penetration, Monthly Transactions, Spending Behavior, Food Delivery, Food-Related Expenses, Entertainment Spending, Premiumization, Mobile Phone Usage, OTT Platforms, Consumer Behavior, Streaming Services, Liquor and Spirits Consumption, Disposable Income, Average Amount Spent on Liquor, Salary Bracket, City Tier, Midlevel Earners, Spirits-Related Expenses, Travel-related expenses, Spending amount, Public transport, Air travel, Train travel, Transportation Spending, Utility Expenses, Household Expenditures, LPG Consumption, Power Consumption, Consumer Spending Behaviour, Household Expenditure, Essential Services, Grocery and Household Items, Market Growth, Household Expense, Tier 1 City, Tier 2 City, Tier 3 City, Metro City, Rental Lifestyle, Maintenance Costs, Grocery Spending, E-commerce, House Rent, House Rent Expenditures, Health Insurance, Healthcare Expenditure, City Tier Differences, Out-of-Pocket Expenses, Health Insurance Penetration, Preventive Healthcare, Fuel Consumption, Transportation Costs, Education Expenses, Investment Behavior, Mutual Funds, Demat Accounts, Financial Planning, Investment in Indian Stock Market, Income Brackets and Investment Ratios, Financialization of Household Savings, Direct Equity Investment, Capital Market, Investment Percentage, Gold Investment, Mutual Fund, Jewellery Investment, Tier 2 City Spending, Average Monthly Spending, Investment Portfolio Diversification, Cash Deposits, Cash Withdrawals, Expenditure vs Salary, Digital Payment Methods, UPI Transactions, Payment Methods, Loan Payments, Credit Card Payments, Everyday Essentials, POS Transactions, Merchant Transactions, Payment Gateway, Transaction Volume, Obligatory Spending, Credit Card Payment, Loan Payment, Everyday Essential Purchases, Utility Payments, PG (Payment Gateway), PO (Purchase Order), ECS (Electronic Clearing Service), IMPS (Immediate Payment Service), Lifestyle Purchase, Fashion, Personal Care, Entertainment, Liquor and Spirits, POS (Point of Sale), Liquor and Spirits Purchases, Merchant Discount Rate (MDR), Online Payment, Physical Outlets, Household-related expenses, Grocery-related expenses, Fuel-related expenses, Percentage of total spending, Credit Access, Financial Inclusion, Buy Now Pay Later (BNPL), Electric Vehicle (EV) Financing, Wealth Management, Loyalty Reward Programs, Cashback Benefits, Payment Gateway Solutions, Transaction Volume Increase, E-commerce Integration, Financial Services Product Cross-Selling, Access to Credit, Tailored Loan Products, Flexible EMI Options, Low Interest Rates, Employer Partnerships, Curated Credit Offerings, Rent Payment Solutions, EV Financing, Financial Planning Apps, Healthcare Ecosystem Partnerships, Insurance Products, Data-Driven Insights, Tech-Savvy Indian Consumers, BFSI (Banking, Financial Services, and Insurance) Industry, Perfios Software Platform, PwC, Financial Services, Technology Consulting, Fintech, Quality Assurance, Advisory Services, Tax Services, Professional Advice\", 'source': 'PWC Insights', 'title': 'How India spends: A deep dive into consumer spending behaviour'}\n",
      "Distance: 1.3221330642700195\n",
      "\n",
      "Result 3:\n",
      "Document:  expenditure decrease move tier 2 metro city metro city spend least medical expense one potential reason could people city aware opt health insurance provide benefit employer reduces outofpocket medical expense additionally availability health insurance policy capability people pay insurance premium contribute insurance penetration metro city figure 50 average number transaction person per month medicalsrelated expense across city tier note graph base analysis available data tier 3 tier 2 tier 1 metro 15 156 15 148 142 144 146 148 15 152 154 156 158 average number transaction figure 51 average total money spend person per month medicalsrelated expense across city tier note graph base analysis available data tier 3 tier 2 tier 1 metro 2350 2450 2422 2048 1800 1900 2000 2100 2200 2300 2400 2500 amount spend inr insight common trend observed across city tier average expenditure healthcare remain range inr 2048 inr 2450 per person indicate difference healthcare expenditure vary significantly across city suggest healthcare potentially see essential expenditure people across india indicates grow level health consciousness among population additionally people live tier 2 city spend amount money medical expense high frequency trend could potentially attribute increase healthcare cost low health insurance penetration area lead high outofpocket expense additionally limited access quality healthcare facility tier 2 city beyond could act barrier implement preventive healthcare measure result high medical expense due late diagnosis treatment furthermore nature labourintensive profession area construction farming might increase risk illness result higher healthcare expense 43 httpsthewireinhealthhowmuchdoindianhouseholdsspendonhealthcareeverymonth 45 pwc india spend deep dive consumer spending behaviour 46 pwc india spend deep dive consumer spending behaviour 5135 fuel overview accord data gather petroleum natural gas ministry 201314 202324 yearly consumption petrol increase 117 diesel increase 3144 increase attribute grow number vehicle road return work office increase travel leisure domestic purpose furthermore expansion logistics sector improve infrastructure road network indias hinterland also lead increase fuel consumption analysis total expenditure frequency transaction related fuel expense lowest metro city follow tier 3 city indicate less reliance private vehicle geography 5136 others beyond expense cover 24 necessity expense categorise others include various type necessary expense like education telecom others expense relate tariff charge use telecommunication service like talk time message internet service become necessary expenditure people today education another necessary expense primary education necessary generally salaried people provide child many family also prioritise additional education expense afterschool tutor additional class cost education also vary greatly depend city individual preference people availability public transport travel aggregator metros tier 1 city make convenient consumer rely option rather personal vehicle transportation need thereby reduce necessity spend fuel additionally corporate cab service provide employee metro city also lead reduction personal fuel cost another reason low average spend fuel metro city could use credit card cash fuel payment account analysis total expenditure number transaction high people live tier 2 city figure 52 average number transaction person per month fuelrelated expense across city tier note graph base analysis available data tier 3 tier 2 tier 1 metro 197 216 21 187 17 175 18 185 19 195 2 205 21 215 22 average number transaction figure 53 average total money spend person per month fuelrelated expense across city tier note graph base analysis available data tier 3 tier 2 tier 1 metro 701 824 793 620 0 100 200 300 400 500 600 700 800 900 amount spend inr insight metro city least expenditure fuel indicate people region rely hire vehicle public transport travel tendency stay either own rental place near place work reduces need frequent long commute thereby reduce consumption fuel grow penetration ev india also one reason reduce fuel consumption addition reduce availability travel aggregator minimal option public transport increase commute compare metro own vehicle tier 1 tier 2 city beyond see prestige symbol potentially contribute increased consumption fuel conversely tier 3 city need private vehicle less pronounced due proximity place result low fuel expenditures 44 httpseconomictimesindiatimescomindustryenergyoilgasindiaspetrol consumptiondoublesinadecadearticleshow109173510cmsfrommdr 47 pwc india spend deep dive consumer spending behaviour rise financial investment observe among 31 may 202447 addition total contribution indian indicate grow focus people via systematic investment plan sip also touch secure financial stability per data receive alltime high inr 21262 crore compare national stock exchange nse eight inr 20904 crore may accord data release crore unique investor india invest money association mutual fund india amfi46 stock market 2023 investor represent additionally growth digital platform make five crore unique indian household account invest easier accessible india see rise roughly 17 indian household combined45 penetration demat account 32 increase trend increase investment driven several factor total account 1144 crore fy23 1514 crore include rise disposable income increase financial fy2447 additionally 2023 17 total indian literacy availability diverse investment option households invested indian stock market48 people uncertain economic climate mark fluctuate market invest mutual fund stock market condition inflation also increase awareness continue invest traditional method like buy importance financial planning jewellery analysis indicate first two option generally popular tier 1 2 latter 30 june 2024 total asset management usually common form investment city indicate aum equity mutual fund reach total value diverse investment preference indians inr 2768 lakh crore inr 2539 lakh crore increase focus financial planning investment 521 general investment overview accord data analysed report least 90 consumer choose invest percentage monthly income various investment product include invest mutual fund equity fix deposit chit fund cryptocurrency gold investment asset class also increase penetration demat account india total number account increase 10 crore august 2022 1514 crore march 202449 change investment pattern indian citizen observe fact aum mutual fund insurance retirement saving grow cagr 15 period 10 year 2013 2023 bank deposit also grow cagr 9 period50 shift attribute increase awareness among people improve accessibility platform service facilitate investment mutual fund stock market investment potential yield large return bank saving account relatively low interest rate 52 invest beyond spending 45 httpswwwbusinesstodayinmarketsstocksstory17ofallindianhouseholdsinvestintheindianstockmarketssaysnseceo40382420231030 46 httpswwwlivemintcommutualfundinflowsintoequitymutualfundsrose17percenttors40608croreinjuneamfidata11720513906059html 47 httpswwwbusinessstandardcommarketsnewsindiasdemattallycrosses150millionmarkforthefirsttimeinmarch124040501034_1htmlhttpswww businessstandardcommarketsnewsindiasdemattallycrosses150millionmarkforthefirsttimeinmarch124040501034_1html 48 httpswwwbusinesstodayinmarketsstocksstory17ofallindianhouseholdsinvestintheindianstockmarketssaysnseceo403824202310 30onetaptrue 49 httpswwwbusinessstandardcommarketsnewsindiasdemattallycrosses150millionmarkforthefirsttimeinmarch124040501034_1htmlhttpswww businessstandardcommarketsnewsindiasdemattallycrosses150millionmarkforthefirsttimeinmarch124040501034_1html 50 httpswwwbusinessstandardcomeconomynewsfinancialisationofhouseholdsavingscanfundprivatecapexgoldmansachs124052201203_1html 48 pwc india spend deep dive consumer spending behaviour analysis inverse correlation investment salary growth evident fi\n",
      "Metadata: {'category': 'Economy and Growth', 'date': '24/02/25', 'embedding_number': 102, 'key_themes': \"Consumer Spending Behavior, Economic Growth, Digital Infrastructure, Investment Opportunities, Middle Class Expansion, Digital Payment Adoption, Financial Institutions' Strategies, Economic Factors Influencing Consumption, E-commerce Growth, Fintech Solutions, Psychological Factors in Consumption, Government Regulation, Payment Modes, Digital Payment Methods, Income Segmentation, Financial Inclusion, Expenditure Patterns, Consumer Engagement, Financial Services Innovation, Investment Trends, Digital Payment Solutions, Healthcare Financing, Consumer Behavior, Digital Accessibility, Financial Data Analysis, Geographic Segmentation, Payment Instruments, Economic Factors, Inflation Impact, Employment Trends, Digital Commerce, Government Policy and Regulation, Income Distribution, Obligatory vs Discretionary Expenses, Loan Repayment, Income Levels, Loan Repayment Trends, Income and Expenditure Patterns, Access to Credit, Discretionary Spending, Income Disparity, Lifestyle Purchases, Fashion and Lifestyle Purchases, City Tier Influence on Spending\", 'niche': 'Consumer Behavior', 'recurring_topics': \"India, Consumer Market, Transactional Data, Financial Institutions, Spending Patterns, UPI as a payment method, Credit products, Income levels, Rural market expansion, Consumer aspirations, Transaction-level data analysis, Obligatory Expenses, Discretionary Expenses, Necessity Expenses, Credit Card Usage, Digital Payment Modes, Investment Avenues, UPI (Unified Payments Interface), Obligatory Expenditures, Discretionary Expenditures, Medical Expenses, Entry-Level Earners, Tier 2 Cities, BNPL (Buy Now Pay Later), Loan Products, Customer Engagement, Payment Systems, Investment Options, Cashback Programs, Healthcare Partnerships, Consumer Spending Behavior, Household Consumption, Smartphone Accessibility, Internet Access, Urbanization, Debt Accumulation, Financial Assets, Middle Class Growth, Income Level, Geographic Location, Transaction Categories, Payment Modes, Consumer Segmentation, Salary Buckets, Discretionary Spending, Employment Rate, Inflation Rate, India's Economic Indicators, Consumer Spending Patterns, Inflation, E-commerce Growth, Government Regulations, Brand Loyalty, Income Brackets, Investment in Assets, Financial Literacy, Obligatory Expenditure, EMI Payments, Loan Types, loan repayment, income, expenditure, credit, tiered cities, Lifestyle Purchases, City Tiers, E-commerce Market Growth, Average Amount Spent, Fashion Purchases, Personal Care Purchases, Transaction Frequency, High-income earners, Number of transactions, Salary brackets, Online Gaming, Fashion Expenditure, Personal Care Expenditure, Metro City vs. Tier 3 City, Smartphone Penetration, Monthly Transactions, Spending Behavior, Food Delivery, Food-Related Expenses, Entertainment Spending, Premiumization, Mobile Phone Usage, OTT Platforms, Consumer Behavior, Streaming Services, Liquor and Spirits Consumption, Disposable Income, Average Amount Spent on Liquor, Salary Bracket, City Tier, Midlevel Earners, Spirits-Related Expenses, Travel-related expenses, Spending amount, Public transport, Air travel, Train travel, Transportation Spending, Utility Expenses, Household Expenditures, LPG Consumption, Power Consumption, Consumer Spending Behaviour, Household Expenditure, Essential Services, Grocery and Household Items, Market Growth, Household Expense, Tier 1 City, Tier 2 City, Tier 3 City, Metro City, Rental Lifestyle, Maintenance Costs, Grocery Spending, E-commerce, House Rent, House Rent Expenditures, Health Insurance, Healthcare Expenditure, City Tier Differences, Out-of-Pocket Expenses, Health Insurance Penetration, Preventive Healthcare, Fuel Consumption, Transportation Costs, Education Expenses, Investment Behavior, Mutual Funds, Demat Accounts, Financial Planning, Investment in Indian Stock Market, Income Brackets and Investment Ratios, Financialization of Household Savings, Direct Equity Investment, Capital Market, Investment Percentage, Gold Investment, Mutual Fund, Jewellery Investment, Tier 2 City Spending, Average Monthly Spending, Investment Portfolio Diversification, Cash Deposits, Cash Withdrawals, Expenditure vs Salary, Digital Payment Methods, UPI Transactions, Payment Methods, Loan Payments, Credit Card Payments, Everyday Essentials, POS Transactions, Merchant Transactions, Payment Gateway, Transaction Volume, Obligatory Spending, Credit Card Payment, Loan Payment, Everyday Essential Purchases, Utility Payments, PG (Payment Gateway), PO (Purchase Order), ECS (Electronic Clearing Service), IMPS (Immediate Payment Service), Lifestyle Purchase, Fashion, Personal Care, Entertainment, Liquor and Spirits, POS (Point of Sale), Liquor and Spirits Purchases, Merchant Discount Rate (MDR), Online Payment, Physical Outlets, Household-related expenses, Grocery-related expenses, Fuel-related expenses, Percentage of total spending, Credit Access, Financial Inclusion, Buy Now Pay Later (BNPL), Electric Vehicle (EV) Financing, Wealth Management, Loyalty Reward Programs, Cashback Benefits, Payment Gateway Solutions, Transaction Volume Increase, E-commerce Integration, Financial Services Product Cross-Selling, Access to Credit, Tailored Loan Products, Flexible EMI Options, Low Interest Rates, Employer Partnerships, Curated Credit Offerings, Rent Payment Solutions, EV Financing, Financial Planning Apps, Healthcare Ecosystem Partnerships, Insurance Products, Data-Driven Insights, Tech-Savvy Indian Consumers, BFSI (Banking, Financial Services, and Insurance) Industry, Perfios Software Platform, PwC, Financial Services, Technology Consulting, Fintech, Quality Assurance, Advisory Services, Tax Services, Professional Advice\", 'source': 'PWC Insights', 'title': 'How India spends: A deep dive into consumer spending behaviour'}\n",
      "Distance: 1.3272677251007934\n",
      "\n",
      "Result 4:\n",
      "Document: mutual fund route viksit bharat 2047 comprehensive roadmap evolution mutual fund industry mutual fund route viksit bharat 2047 table content foreword 45 ii executive summary 68 iii preface 9 iv journey far lay foundation 19642014 1013 b gain momentum democratisation 20152024 1318 v road ahead financial freedom 1942 financial inclusion financial wellbeing foreword india stand cusp transformative era 2047 mark momentous milestone centenary independence navigate towards historic moment unique opportunity lay cornerstone nation define financial empowerment inclusive growth economic resilience mutual fund industry india poise play crucial role journey year industry see remarkable progress aum sip contribution however progress scratch surface true potential less 5 indias 14 billion population actively participate mutual fund stark contrast mature market united state mutual fund penetration exceed 501 bridge gap present challenge extraordinary opportunity 2047 envision india mutual fund tool wealth creation well foundation financial security every household achieve require prioritise trustbuilding technological integration process simplification importantly financial literacy empower next generation investor knowledge confidence participate capital market crucial unlocking industry vast potential roadmap future must focus innovation accessibility inclusivity indias socioeconomic diversity demand tailor approach engage community financial decision making typically localised collective must go beyond offer various investment product ensure product remain simple transparent accessible investor walk life democratisation financial wellbeing within grasp however require concerted effort stakeholder asset manager advisor distributor investor policymakers service provider medium together must foster ecosystem transcend barrier geography income financial literacy ensure invest becomes seamless integral dimension every indian financial plan journey indian feel empowered take control financial future young student retire delighted introduce vision document present comprehensive roadmap evolution mutual fund industry expand financial inclusion achieve genuine investor empowerment document underscore critical need prioritise investor education balance innovation risk management foster culture trust challenge u make invest accessible intuitive empower valuable lesson learn evolution mutual fund industry mature market united state india must forge path aligns unique social economic demographic reality aim ensure mutual fund industry promote financial inclusion catalysis sustainable economic growth thank team pwc insightful contribution shape document also wish acknowledge instrumental role sebi foster industrys growth ensure alignment best interest investor together let u commit build mutual fund industry drive india towards future financial prosperity inclusion navneet munot chairman amfi 1 httpswwwaninewsinnewsbusinessonly3indiaspopulationinvestsinmutualfundsindicatesunderpenetrationmotilal oswal20241210152216 4 pwc mutual fund route viksit bharat 2047 foreword mutual fund industry see remarkable growth term asset management aum number unique customer last five year industry aum grown 175 inr 2478 trillion april 2019 inr 68 trillion january 2025 number unique customer increase 193 crore 533 crore period systematic investment plan sip contribution grow nearly sixfold inr 8055 crore march 2019 inr 26400 crore january 20252 despite progress industry remain early stage development india continue ascent become world thirdlargest economy 2030 mutual fund participation remain restricted small fraction population represent significant challenge well extraordinary opportunity growth inclusion move towards vision viksit bharat 2047 mission foster financial wellbeing building financially empower india mutual fund cornerstone every household financial future achieve seek increase retail mutual fund penetration 36 2025 approximately 15 2047 indias save rate among high globally substantial portion saving remain invested low return instrument create unbalanced portfolio empower india citizen require redirect capital productive asset equities mutual fund proven ability create long term wealth transformation however require paradigm shift mindset traditional passive save habit active discipline futurefocused invest shift must tailor address diverse financial behaviour need indias vast diverse investor base achieve vision require multipronged investorcentric approach must simplify broaden access mutual fund leverage innovation communicate way resonate diverse financial perspective across country time must cultivate robust investment culture harness newage technology make invest seamless accessible million urban rural area document call action stakeholder policymakers asset manager distributor individual emphasis need collective effort boost investor confidence simplify investment process foster culture longterm wealth creation mere roadmap vision document represent share commitment drive systemic change pave way society financial security autonomy within every citizen reach thank team pwc contributor dedication effort bring document life let u embark together transformative journey towards financially inclusive empower india v n chalasani chief executive amfi 2 amfi data mutual fund route viksit bharat 2047 pwc 5 executive summary 6 pwc mutual fund route viksit bharat 2047 3 httpswwwamfiindiacomthemestheme1downloadsamfi_phase1_05042021pdf 4 amfi data six decade indias mutual fund journey industry stand cusp extraordinary transformation evolution single product singleplayer model 1960s today dynamic ecosystem comprise 40 asset management company 1500 scheme 2 lakh active distributor 229 crore investor account january 2025 reflect growth fundamental reimagining indias financial landscape3 today indias mutual fund industry epitomise intersection technological sophistication financial democratisation streamline kyc operation competitive cost structure transparent asset disclosure practice set global benchmark pioneer digitalfirst solution retain flexibility serve investor across socioeconomic spectrum smallticket investment option accomplishments however signify endpoint foundation even ambitious future chart course towards viksit bharat 2047 recognise fundamental truth success industry inextricably link holistic financial empowerment every indian citizen financial wellbeing represent far wealth accumulation sophisticated investment portfolio transformative condition individual possess mean confidence navigate financial present future manifest ability meet daily obligation without strain build resilience life uncertainty pursue aspiration without compromise craft legacies future generation financial sovereignty money enable rather constrains essential realise vision develop india amrit kaal mark define moment indias mutual fund industry envision dramatic expansion basis estimate 26 crore investor serve around 2047 aum scale approximately usd 33 trillion significantly growth catapult indias mutual fund asset current gdp ratio 19 110 position india alongside global investment powerhouses number impressive underscore deep imperative india advance towards become usd 30 trillion economy mutual fund industry must continue evolve beneficiary growth become catalyst past decade achievement underscore potential monthly sip inflow surge inr 3000 crore inr 19000 crore cross inr 26000 crore mark january 2025 b30 city demonstrate unprecedented momentum aum contribution rise 9 approximately 19 remarkable growth rate 95x absolute term digital transformation revolutionise access 60 transaction form 21 transaction value occur digitally compare 45 transaction form 1 transaction value fy20134 however unlocking industrys full potential require fundamental shift approach draw insight transformative success across sector telecommunication healthcare realise sustainable change require product innovation entail de\n",
      "Metadata: {'category': 'Economy and Growth', 'date': '05/03/25', 'embedding_number': 52, 'key_themes': 'Financial Inclusion, Investor Empowerment, Mutual Fund Industry Growth, Technological Integration, Financial Literacy, Mutual Fund Growth, Investment Culture, Economic Development, Financial Empowerment, Digital Transformation, Cultural Integration, Investor Inclusion, Technology Integration, Community Engagement, Investment Accessibility, Cultural Alignment, Economic Transformation, Investment Choices, Mutual Fund Industry, Regulatory Evolution, Mutual Fund Market Development, Investor Education, Regulatory Framework, Private Sector Innovation, Growth of Mutual Funds, Investor Participation, Regulatory Reforms, Technological Advancements, Market Volatility, Accessibility of Financial Products, Regulatory Challenges, Investment Confidence, Systematic Investment Plans (SIPs), Digital Transformation in Finance, Personalized Financial Planning, Cost Efficiency in Investments, Investor Education and Awareness, Regulatory Compliance, Cost Efficiency, Sustainable Investing, Investor Protection, Market Accessibility', 'niche': 'Investment Strategies', 'recurring_topics': 'Mutual Fund Participation, Democratization of Financial Wellbeing, Trust Building, Accessibility and Inclusivity, Economic Resilience, AUM (Assets Under Management), Unique Customers, Systematic Investment Plans (SIPs), Retail Mutual Fund Penetration, Financial Wellbeing, Viksit Bharat 2047, AUM Growth, SIP Inflows, Investor Journey, Transparency, Community Engagement, Local Leadership, Education Programs, Behavioral Transformation, Investment Products, Mutual Funds, Investment Options, Economic Reforms, Household Savings, Inflation, Regulatory Oversight, Investor Participation, Regulatory Measures, Mutual Fund Literacy, Retail Participation, Democratization of Investment, Investor Education, Market Growth Rates, Casual Investors, Financial Literacy, Public Provident Fund (PPF), Distribution Deficit, Market Risk, Investment Costs, mutual fund, SIP, digital platform, investor, financial goal, passive fund, investment advisor (RIA), tier 2 and tier 3 cities, RTAs (Registrar and Transfer Agents), AMCs (Asset Management Companies), Investor Onboarding, SIP (Systematic Investment Plan), Debt Funds, Distributor Network, Campaigns for Awareness, ESG Disclosure, Mutual Fund Industry Growth, Regulatory Intervention, Investor Awareness, Digital Transformation, Mutual Fund Industry, Investor Protection, Financial Inclusion, Technological Intervention, Digital Payment, Emergency Preparedness, Financial Stability, Emergency Fund, Financial Independence, Household Spending, Financial Resilience, Discretionary Expenses, Tax Planning, Healthcare Costs, Discretionary Spending, Financial Flexibility, Emergency Funds, Retirement Planning, Living Costs, Investment Planning, Socioeconomic Diversity, Digital Transactions, Accessibility, Investment Accessibility, Wealth Creation, Financial Security, Affordability, Long-term Wealth Building, Investor-Centric Approach, Diverse Financial Goals, Mutual Fund Investment, Onboarding Process, Personalized Investment Options, Cultural and Economic Nuances, Diverse Financial Mindset, Community-driven Decision Making, Simplicity, Financial Accessibility, Inclusiveness, Investment Mindset, User-Centric Design, Vernacular Support, Last-Mile Connectivity, Cognitive Overload, Simplified Language, Offline Integration, Personalized User Experience, Data Analytics, AI Tailoring, Behavioral Nudges, Collaborative Support, User Feedback, Product Innovation, User Experience, Cultural Diversity, Investment Strategy, Regulatory Guidelines, Cultural Preservation, Investment Vehicle, Community-Based Microinvestment, Financial Growth, Social Impact Bonds, Sustainable Infrastructure Development, Technology-Driven Investment, Digital Asset Platforms, Cultural Transformation, Local Language, Ethnographic Research, Investor Behavior Analytics, Digital Connectivity, Regional Dietary Practices, Visually Impaired Individuals, Gig Workers, Freelancers, Inclusive Financial Products, Community Outreach, Tax Compliance, Audio and Braille Resources, Inclusive Product Structure, Accessibility Features, Visually Impaired, Behavioral Mindset Change, Digital Investment Platforms, Investment Behavior, Financial Participation, Generational Financial Trauma, Cultural Narrative, Trust, Psychological Barriers, Emotional Intelligence, Early Investment Education, Investment Culture, Behavioral Science, Personalized Financial Communication, Cognitive Bias, Digital Platforms, Hyperlocal guidance, Financial touchpoints, Community network, Digital onboarding, Local advisors, Scalable model, Integration of physical and digital networks, Mutual Fund Adoption, Regulatory Framework, Local Engagement, Technology Integration, Distribution Strategy, Cultural Sensitivity, Education and Training, Trust and Long-term Engagement, Transparency and Disclosure, Regulatory Policy, ESG Integration, Digitalization and Automation, Investor-Centric Design, Research and Insights, Vernacular Campaigns, Operational Framework, Financial Empowerment, Inclusivity and Accessibility, Economic Growth, Retail Investor, Inclusivity, Capital Market Mobilization, Mutual Fund Penetration, Unique Mutual Fund Investors, Average AUM per Retail Investor, Distribution Network Expansion, Investor Base Growth, Digital Infrastructure, Regulatory Support, Investment in Tier 2 and Tier 3 Cities, Stakeholder Collaboration, Education, Innovation, Empowerment', 'source': 'PWC Insights', 'title': 'The mutual funds route to Viksit Bharat @2047'}\n",
      "Distance: 1.3368332386016846\n",
      "\n",
      "Result 5:\n",
      "Document: pwc indias financial service f risk symposium ministry finance keynote session february 2025 forum shed light evolve complexity cybersecurity challenge alongside late kyc development recommend topdown strategy industry leader may 2024 6th february 2025 key takeaway ministry finance government india pwc india f risk symposium keynote session pwc india proudly conduct fourth edition flagship financial service f risk symposium 6th february 2025 gurugram first kind north region symposium bring together industry leader expert fs sector share knowledge experience insights strategy help navigate uncertain emerge risk landscape bank financial service insurance bfsi space edition symposium meticulously design focus emerge challenge face financial institution evolve complexity antimoney launder amlknow customer kyc compliance recently update digital personal data protection dpdp guideline strengthen data protection measure indian citizen risk associate operational cyber management policy 2 pwc pwc india f risk symposium 3 pwc pwc india f risk symposium smarak swain esteem officer ministry finance keynote speaker commence symposium engage speech touch upon complexity cybersecurity challenge geopolitical concern predominantly loom f industry today address underlined vulnerability crypto field especially stress significant factor crypto exchange semiregulated entity india despite fund balance around inr 4000 crore highlight crypto exchange platform incident result loss around usd 230 million ascribed insufficient incident response system poor cybersecurity hygiene swain emphasise importance cybersecurity measure method corrective implementation constant vigilance note breach sleight hand exploit employee psychology rather sophisticated attack incident sober reminder significance implement strong cybersecurity system well increased possibility reputational damage due single hack move forward geopolitical risk swain discussed length possible consequence political development u middleeast highlight currency conversion involvement global intermediary discussion also address effect u treasury sanction trade dynamic different country additionally swain brought attention risk highlight national risk assessment nra 2022 announce next iteration nra release 2025 mention forthcoming version adopt bottomup approach ensure high involvement private sector enrich assessment diverse perspective insight address explore ongoing difficulty stem constant evolution regulatory compliance associate risk assessment emphasise role corporate compliance officer negotiate challenge regulatory setting swain recommend pivot focus towards bottom strategy risk management achieve precise documentation risk assessment within financial institution essential thorough knowledge client due diligence integrate consistent kyc procedure allow firm well manage regulatory shift near future conclusion insightful address swain urge industry stakeholder alert proactive addressing challenge clearly delineate link cybersecurity geopolitical concern assessment model address ultimately serve call action financial industry leader appropriately yet comprehensively enhance resilience progress threat uncertainty 4 pwc pwc india f risk symposium pwc pwc purpose build trust society solve important problem network firm 151 country 360000 people commit deliver quality assurance advisory tax service find tell u matter visit u wwwpwccom pwc refers pwc network andor one member firm separate legal entity please see wwwpwccomstructure detail 2025 pwc right reserve pwcin data classification dc0 public document pwc refers pricewaterhousecoopers private limit limited liability company india corporate identity number cin u74140wb1983ptc036093 member firm pricewaterhousecoopers international limited pwcil member firm separate legal entity document constitute professional advice information document obtain derive source believe pricewaterhousecoopers private limited pwcpl reliable pwcpl represent information accurate complete opinion estimate contain document represent judgment pwcpl time subject change without notice reader publication advise seek professional advice take course action decision entirely responsible base content publication pwcpl neither accepts assume responsibility liability reader publication respect information contain within decision reader may take decide fail take 2025 pricewaterhousecoopers private limited right reserve psfebruary 2025 44064\n",
      "Metadata: {'category': 'Risk Regulation', 'date': '25/02/25', 'embedding_number': 91, 'key_themes': 'Cybersecurity Challenges, Regulatory Compliance, Financial Services Risk Management, Data Protection', 'niche': 'Financial Risk Management', 'recurring_topics': 'KYC (Know Your Customer), AML (Anti-Money Laundering), Geopolitical Risks, Crypto Exchange Vulnerabilities, National Risk Assessment (NRA), Cybersecurity, Incident Response, Geopolitical Risk, Regulatory Compliance, Client Due Diligence, Know Your Customer (KYC) Procedures, Risk Management', 'source': 'PWC Insights', 'title': \"PwC India's Financial Services (FS) Risk Symposium: Ministry of Finance keynote session - February 2025\"}\n",
      "Distance: 1.3400324583053589\n"
     ]
    }
   ],
   "source": [
    "import os\n",
    "from dotenv import load_dotenv\n",
    "import chromadb\n",
    "import google.genai as genai\n",
    "from google.genai.types import EmbedContentConfig\n",
    "\n",
    "load_dotenv()\n",
    "\n",
    "persist_directory = os.getenv(\"CHROMA_DB_PERSIST_DIRECTORY\")\n",
    "genai_api_key = os.getenv(\"GENAI_API_KEY\")\n",
    "\n",
    "client = genai.Client(api_key=genai_api_key)\n",
    "\n",
    "chroma_client = chromadb.PersistentClient(path=persist_directory)\n",
    "collection_name = \"pwc_kpmg_insights_collection\"\n",
    "collection = chroma_client.get_collection(collection_name)\n",
    "\n",
    "query_text = \"What is the capital of France?\"\n",
    "\n",
    "query_result = client.models.embed_content(\n",
    "    model=\"text-embedding-004\",\n",
    "    contents=[query_text],\n",
    "    config=EmbedContentConfig(\n",
    "        task_type=\"RETRIEVAL_DOCUMENT\",\n",
    "        output_dimensionality=768,\n",
    "        title=\"Query\"\n",
    "    )\n",
    ")\n",
    "query_embedding = query_result.embeddings[0].values\n",
    "\n",
    "results = collection.query(\n",
    "    query_embeddings=[query_embedding],\n",
    "    n_results=5,\n",
    "    include=[\"documents\", \"metadatas\", \"embeddings\", \"distances\"]\n",
    ")\n",
    "\n",
    "print(\"Retrieved Documents:\")\n",
    "for i, doc in enumerate(results[\"documents\"][0]):\n",
    "    print(f\"\\nResult {i+1}:\")\n",
    "    print(\"Document:\", doc)\n",
    "    print(\"Metadata:\", results[\"metadatas\"][0][i])\n",
    "    print(\"Distance:\", results[\"distances\"][0][i])\n"
   ]
  },
  {
   "cell_type": "code",
   "execution_count": 3,
   "metadata": {},
   "outputs": [
    {
     "name": "stdout",
     "output_type": "stream",
     "text": [
      "Collection exported to collection_export.json\n"
     ]
    }
   ],
   "source": [
    "import os\n",
    "import json\n",
    "import numpy as np\n",
    "from dotenv import load_dotenv\n",
    "import chromadb\n",
    "\n",
    "load_dotenv()\n",
    "\n",
    "persist_directory = os.getenv(\"CHROMA_DB_PERSIST_DIRECTORY\")  # e.g., \"/path/to/save/to\"\n",
    "chroma_client = chromadb.PersistentClient(path=persist_directory)\n",
    "\n",
    "collection_name = \"pwc_kpmg_insights_collection\"\n",
    "collection = chroma_client.get_collection(collection_name)\n",
    "\n",
    "data = collection.get(include=[\"documents\", \"embeddings\", \"metadatas\"])\n",
    "\n",
    "def make_json_serializable(obj):\n",
    "    \"\"\"\n",
    "    Recursively convert objects (e.g., numpy arrays) into JSON serializable types.\n",
    "    \"\"\"\n",
    "    if isinstance(obj, np.ndarray):\n",
    "        return obj.tolist()\n",
    "    elif isinstance(obj, dict):\n",
    "        return {k: make_json_serializable(v) for k, v in obj.items()}\n",
    "    elif isinstance(obj, list):\n",
    "        return [make_json_serializable(item) for item in obj]\n",
    "    else:\n",
    "        return obj\n",
    "\n",
    "serializable_data = make_json_serializable(data)\n",
    "\n",
    "output_file = \"collection_export.json\"\n",
    "with open(output_file, \"w\") as f:\n",
    "    json.dump(serializable_data, f, indent=2)\n",
    "\n",
    "print(f\"Collection exported to {output_file}\")\n"
   ]
  },
  {
   "cell_type": "code",
   "execution_count": null,
   "metadata": {},
   "outputs": [],
   "source": []
  }
 ],
 "metadata": {
  "kernelspec": {
   "display_name": "rl_env",
   "language": "python",
   "name": "python3"
  },
  "language_info": {
   "codemirror_mode": {
    "name": "ipython",
    "version": 3
   },
   "file_extension": ".py",
   "mimetype": "text/x-python",
   "name": "python",
   "nbconvert_exporter": "python",
   "pygments_lexer": "ipython3",
   "version": "3.9.21"
  }
 },
 "nbformat": 4,
 "nbformat_minor": 2
}
